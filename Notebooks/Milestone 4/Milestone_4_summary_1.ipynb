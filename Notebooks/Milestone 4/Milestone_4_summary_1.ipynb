{
 "cells": [
  {
   "cell_type": "markdown",
   "metadata": {},
   "source": [
    "# Milestone 4: Deep Learning\n",
    "\n",
    "## Introduction\n",
    "Our ultimate goal in this project is to predict movie genres using metadata and posters downloaded from TMDB and IMDB. In this milestone, we mainly focus on extracting features from movie posters using neural network models. We built neural network models to predict position of title on the poster and count the number of faces. These extra features will be add the final model to predict movie genre. We have also attempted to directly classify movie genres using posters. \n",
    "\n",
    "## Methods\n",
    "### Datasets:\n",
    "We constructed a sample data set of about 6000 movies from 2011-2016 and 124 predictors. The predictors include movie posters and metadata from TMDB and IMDB and counts of common words from movie titles and movie reviews. \n",
    "\n",
    "Downloaded predictors (with source): \n",
    "- Poster URL (TMDB) \n",
    "- Release year (TMDB, factor of 6 levels)\n",
    "- Release month (TMDB, factor of 12 levels)\n",
    "- Vote count (TMDB)\n",
    "- Popularity (TMDB)\n",
    "- Vote average (TMDB)\n",
    "- Runtime (IMDB)\n",
    "- Aspect ratio (IMDB, factor of 22 levels)\n",
    "- Count of keywords in movie title (TMDB, 17 words with more than 30 total occurrence were selected )\n",
    "- Count of keywords in movie overview (TMDB, 66 words with more than 200 total occurrence were selected) \n",
    "\n",
    "**Manually annotated features**: \n",
    "To extract information from posters that may be predictive of movie genre, we also built neural network models to extract additional features from the movie posters. In order to do that, we performed manual annotation of poster features on such as the position of the title and the number of human faces on movies in year 2005-2010, and used these labelled dataset as training data for the neural network models. The models will be used to predict the features on movies from 2011-2016, and the features will be used as predictors for movie genre prediction.\n",
    " \n",
    "- Position of title: we divided poster vertically into thirds and coded the position of the title as being in the top third, middle third, bottom third, or other (not present, vertically oriented, etc.) \n",
    "- Number of faces: we only counted human, non-masked faces with discernible eyes. The number of faces was coded as an integer value from 0-10, and 10 for > 10 faces (or hard to count ones). \n",
    "\n",
    "\n",
    "## Neural Network Models\n",
    "We will focus on the neural network models in this milestone. We are performing several classifications using the poster images: position of movie title (t,b,m), number of faces, and genre. \n",
    "\n",
    "### Position of Movie Title: 3 classes (excl. other)\n",
    "We manually scored about 6000 movies from 2005-2010, and labelled the position of the title. The position of the center of the title determines whether the title is on top, middle and bottom ⅓ of the poster. The posters with ambiguous title position were labelled as “other”, such as vertical labels, having labels on both the top and bottom of the poster and etc., and later excluded from the model training. The labels were later read into python and one-hot-encoded to train the neural network models.  \n",
    "\n",
    "\n",
    "### Number of Faces: values 1 to 10/10+\n",
    "Similar as position labeling, we also manually counted the number of faces in each poster using the 6000 movies from 2005-2010. 11 categories are defined as the labeling output: 0-9, 10/10+. The first 10 categories represent the exact number of faces that were identifiable in the poster, and the last category encompasses the number of 10 and all above.\n",
    "\n",
    "\n",
    "### Cross Validation\n",
    "30% of the training data were used as validation data during the model training. The validation loss was used to decide when to stop the training. We set the patience to 5 for the early stopping, so models with no improvement performance on the validation loss for 5 epochs will be used as the final model."
   ]
  },
  {
   "cell_type": "markdown",
   "metadata": {},
   "source": [
    "## From-Scratch Model\n",
    "To classify title position given poster images, we created a Convolutional Neural Network from scratch that takes 2D posters and outputs a prediction of poster position (top, middle, bottom). We excluded posters with title positions classified as ‘other’ because this category was small (had only about 100 entries) and includes posters with titles both on the top and bottom or in different orientations. To utilize CNNs, we first processed poster images using zero-padding, which resizes the image and allows filters to be applied to elements on image borders, as well as normalization of pixel values to between -1 and 1. After preprocessing the images, we attempted to optimize the network architecture to have high performance accuracy while reducing runtime. \n",
    "\n",
    "**Convolutional Neural Nets (CNN)** (https://ujjwalkarn.me/2016/08/11/intuitive-explanation-convnets/) are feed-forward networks consisting of layers of convolutional, pooling, and rectified linear units (ReLU) layers followed by fully connected layers that perform well on classification problems. In a CNN, convolutional layers each process a portion of the image, with the response varying based on image characteristics. Unlike multi-layer perceptrons where each neuron is connected to all neurons in the next layer, CNNs have short-range connections between neurons of adjacent layers, forming filters with small receptive fields that extend through the full depth of the input space (https://en.wikipedia.org/wiki/Convolutional_neural_network). Importantly, CNNs capture local dependencies in images and can learn non-linear classifications, so we decided to use CNNs for our image classification problem. "
   ]
  },
  {
   "cell_type": "code",
   "execution_count": 1,
   "metadata": {
    "collapsed": false,
    "deletable": true,
    "editable": true
   },
   "outputs": [],
   "source": [
    "import numpy as np\n",
    "import pandas as pd\n",
    "import cv2  #package for image display\n",
    "import pickle\n",
    "from random import shuffle\n",
    "from sklearn.preprocessing import LabelEncoder"
   ]
  },
  {
   "cell_type": "code",
   "execution_count": 2,
   "metadata": {
    "collapsed": false,
    "deletable": true,
    "editable": true
   },
   "outputs": [
    {
     "name": "stderr",
     "output_type": "stream",
     "text": [
      "Using TensorFlow backend.\n"
     ]
    }
   ],
   "source": [
    "from __future__ import print_function\n",
    "\n",
    "import keras\n",
    "from keras.datasets import mnist\n",
    "from keras.models import Sequential\n",
    "from keras.layers import Dense, Dropout, Activation, Conv2D, MaxPooling2D, Flatten\n",
    "from keras.optimizers import SGD, Adam\n",
    "from keras import backend as K\n",
    "\n",
    "import h5py\n",
    "\n",
    "import matplotlib\n",
    "%matplotlib inline\n",
    "import matplotlib.pyplot as plt"
   ]
  },
  {
   "cell_type": "markdown",
   "metadata": {},
   "source": [
    "### Import and clean the data"
   ]
  },
  {
   "cell_type": "code",
   "execution_count": 3,
   "metadata": {
    "collapsed": false,
    "deletable": true,
    "editable": true
   },
   "outputs": [],
   "source": [
    "#load movie id from 2005-2010\n",
    "data = pd.read_csv(\"final_poster_label_2005_2010.csv\")\n",
    "#store movie ID\n",
    "movieID = data[\"id\"].values"
   ]
  },
  {
   "cell_type": "code",
   "execution_count": 4,
   "metadata": {
    "collapsed": false,
    "deletable": true,
    "editable": true
   },
   "outputs": [
    {
     "name": "stdout",
     "output_type": "stream",
     "text": [
      "0\n",
      "1000\n",
      "2000\n",
      "3000\n",
      "4000\n",
      "5000\n",
      "Final data shape:\n"
     ]
    },
    {
     "data": {
      "text/plain": [
       "(5963, 180, 128, 3)"
      ]
     },
     "execution_count": 4,
     "metadata": {},
     "output_type": "execute_result"
    }
   ],
   "source": [
    "###### read each image and resize \n",
    "\n",
    "# total number of posters\n",
    "n = len(movieID)\n",
    "\n",
    "# target image size\n",
    "target_length = 180\n",
    "target_width = 128\n",
    "\n",
    "# np.array to store the whole matrix in the order of the movie id\n",
    "img_matrix = np.zeros([n, target_length, target_width, 3])\n",
    "\n",
    "for i in range(n):\n",
    "    if i % 1000 == 0:    \n",
    "        print (i)    \n",
    "    \n",
    "    movie_id = movieID[i]\n",
    "    \n",
    "    path = 'posters_2005_2010/' + str(movie_id) + '.jpg'\n",
    "    \n",
    "    # read image\n",
    "    img = cv2.imread(path)\n",
    "    \n",
    "    # normalize the image[-1,1], center at 0\n",
    "    # so that the zero padding does not affect the image\n",
    "    im = img.astype('float32')\n",
    "    img = (img - 255/2)/255\n",
    "    \n",
    "    # extract the length and width of the image\n",
    "    img_length, img_width = np.asarray(img.shape[:2])\n",
    "\n",
    "    \n",
    "    ## put the image to the center of the array\n",
    "    # calcuate location of the left edge\n",
    "    left_loc = int(0.5*(target_width - img_width))\n",
    "    # calcuate location of the top edge\n",
    "    top_loc = int(0.5*(target_length - img_length))\n",
    "    \n",
    "    # store the image\n",
    "    img_matrix[i, top_loc:(top_loc+img_length), \n",
    "               left_loc:(left_loc+img_width), :] = img\n",
    "    \n",
    "print (\"Final data shape:\")\n",
    "img_matrix.shape"
   ]
  },
  {
   "cell_type": "code",
   "execution_count": 5,
   "metadata": {
    "collapsed": false,
    "deletable": true,
    "editable": true
   },
   "outputs": [
    {
     "name": "stdout",
     "output_type": "stream",
     "text": [
      "data shape: (5963, 180, 128, 3)\n"
     ]
    }
   ],
   "source": [
    "# reformat the data shape\n",
    "if K.image_data_format() == 'channels_first':\n",
    "    img_matrix = img_matrix.reshape(n, 3, target_length, target_width)\n",
    "    input_shape = (3, target_length, target_width)\n",
    "else:\n",
    "    img_matrix = img_matrix.reshape(n, target_length, target_width, 3)\n",
    "    input_shape = (target_length, target_width, 3)\n",
    "\n",
    "print('data shape:', img_matrix.shape)"
   ]
  },
  {
   "cell_type": "code",
   "execution_count": 6,
   "metadata": {
    "collapsed": false,
    "deletable": true,
    "editable": true
   },
   "outputs": [
    {
     "name": "stderr",
     "output_type": "stream",
     "text": [
      "/home/ubuntu/.local/lib/python2.7/site-packages/numpy/lib/arraysetops.py:216: FutureWarning: numpy not_equal will not check object identity in the future. The comparison did not return the same result as suggested by the identity (`is`)) and will change.\n",
      "  flag = np.concatenate(([True], aux[1:] != aux[:-1]))\n"
     ]
    },
    {
     "name": "stdout",
     "output_type": "stream",
     "text": [
      "Value: nan, Count: 0.\n",
      "Value: b, Count: 1797.\n",
      "Value: m, Count: 1429.\n",
      "Value: o, Count: 190.\n",
      "Value: t, Count: 2545.\n",
      "5771\n",
      "(5771, 180, 128, 3)\n"
     ]
    }
   ],
   "source": [
    "# y values: title position\n",
    "y = data[\"title_location\"].values\n",
    "\n",
    "# count of different positions\n",
    "for value in np.unique(y):\n",
    "    print (\"Value: {}, Count: {}.\".format(value, len(y[y == value])))\n",
    "    \n",
    "# remove 'o' (other) and nan from both x and y\n",
    "index = (y == 't') + (y == 'b') + (y == 'm') # > 0 if any is true\n",
    "y = y[index > 0]\n",
    "print (len(y))\n",
    "\n",
    "img_matrix = img_matrix[index > 0]\n",
    "print (img_matrix.shape)"
   ]
  },
  {
   "cell_type": "code",
   "execution_count": 7,
   "metadata": {
    "collapsed": false,
    "deletable": true,
    "editable": true
   },
   "outputs": [],
   "source": [
    "### preprocessing the data\n",
    "# shuffle the samples\n",
    "n = len(y)\n",
    "index = range(n)\n",
    "shuffle(index)\n",
    "\n",
    "y = y[index]\n",
    "img_matrix = img_matrix[index]\n",
    "\n",
    "# one-hot-encode y\n",
    "encoder = LabelEncoder()\n",
    "encoder.fit(y)\n",
    "y_encoded = encoder.transform(y)\n",
    "\n",
    "# convert y values to the format for Keras\n",
    "num_classes = 3\n",
    "y = keras.utils.to_categorical(y_encoded, num_classes)"
   ]
  },
  {
   "cell_type": "markdown",
   "metadata": {},
   "source": [
    "### Build the model\n",
    "\n",
    "In a CNN, **Pooling Layers** are applied to each feature map to down-sample the data, thus reducing the dimensionality of the feature map, controlling overfitting, and smoothing out spatial variations. The Maximum Pooling method gets the largest ReLu value from a small spatial neighborhood of the feature map (for example: 2x2 window). We decided to use a 2x2 filter (very small size) with a stride length of 2 because small filters from size 2x2 to 3x3 along with a smaller stride results in a large feature map and has been shown to have better performance than larger filters. Because Maximum Pooling has been shown to result in better performance than other methods such as Average Pooling, we decided to use this pooling method for image classification. In addition, we decided to use ReLu in activation layers because this function has been shown in previous research to perform better than other nonlinearity functions such as tanh and the sigmoid function.\n",
    "\n",
    "The network architecture consists of convolutional and rectifier layers followed by pooling layers. To create the network, we used the **Conv2D** function in Keras to make a convolution layer over 2D images For the network depth (number of filters), more filters results in extraction of more image features (performing N convolutions gives N different feature maps). We performed preliminary experiments with up to 5 layers and found that 4 sets of layers in this form resulted in a network that could be trained quickly (within 20 minutes) and had above-baseline performance. \n",
    "\n",
    "After the convolutional and pooling layers, the **Fully Connected Layers** in the CNN use the features extracted by the convolutional and pooling layers to perform classification. Fully Connected Layers are analogous to the traditional multi-layered perceptron (http://scikit-learn.org/stable/modules/neural_networks_supervised.html#mlp-tips), in which every neuron in a given layer is connected to every neuron in the next layer, where the weights for these connections are learned by the network. We used softmax as the activation function in this part of the layers in order to assign class probabilities to a given sample. We chose parameters such as the number of hidden neurons and number of layers (http://scikit-learn.org/stable/modules/neural_networks_supervised.html) by starting with small numbers (16 neurons, 1 layer) and progressively adding layers in preliminary analysis until we achieve above baseline performance. To prevent the model from overfitting, we used Dropout, a regularization method that randomly drops units from each layer and prevents models from overfitting to the training data, with a parameter of 0.3 because values from 0.2-0.5 have been shown to give good performance in image classification (Srivastava et al. 2014, https://www.cs.toronto.edu/~hinton/absps/JMLRdropout.pdf). \n"
   ]
  },
  {
   "cell_type": "code",
   "execution_count": 23,
   "metadata": {
    "collapsed": false,
    "deletable": true,
    "editable": true
   },
   "outputs": [
    {
     "name": "stdout",
     "output_type": "stream",
     "text": [
      "_________________________________________________________________\n",
      "Layer (type)                 Output Shape              Param #   \n",
      "=================================================================\n",
      "conv2d_9 (Conv2D)            (None, 178, 126, 16)      448       \n",
      "_________________________________________________________________\n",
      "max_pooling2d_9 (MaxPooling2 (None, 89, 63, 16)        0         \n",
      "_________________________________________________________________\n",
      "conv2d_10 (Conv2D)           (None, 87, 61, 32)        4640      \n",
      "_________________________________________________________________\n",
      "max_pooling2d_10 (MaxPooling (None, 43, 30, 32)        0         \n",
      "_________________________________________________________________\n",
      "conv2d_11 (Conv2D)           (None, 41, 28, 32)        9248      \n",
      "_________________________________________________________________\n",
      "max_pooling2d_11 (MaxPooling (None, 20, 14, 32)        0         \n",
      "_________________________________________________________________\n",
      "conv2d_12 (Conv2D)           (None, 18, 12, 16)        4624      \n",
      "_________________________________________________________________\n",
      "dropout_7 (Dropout)          (None, 18, 12, 16)        0         \n",
      "_________________________________________________________________\n",
      "max_pooling2d_12 (MaxPooling (None, 9, 6, 16)          0         \n",
      "_________________________________________________________________\n",
      "flatten_3 (Flatten)          (None, 864)               0         \n",
      "_________________________________________________________________\n",
      "dense_7 (Dense)              (None, 32)                27680     \n",
      "_________________________________________________________________\n",
      "dropout_8 (Dropout)          (None, 32)                0         \n",
      "_________________________________________________________________\n",
      "dense_8 (Dense)              (None, 16)                528       \n",
      "_________________________________________________________________\n",
      "dropout_9 (Dropout)          (None, 16)                0         \n",
      "_________________________________________________________________\n",
      "dense_9 (Dense)              (None, 3)                 51        \n",
      "=================================================================\n",
      "Total params: 47,219.0\n",
      "Trainable params: 47,219.0\n",
      "Non-trainable params: 0.0\n",
      "_________________________________________________________________\n"
     ]
    }
   ],
   "source": [
    "# create an empty network model\n",
    "model = Sequential()\n",
    "\n",
    "# --- input layer ---\n",
    "model.add(Conv2D(16, kernel_size=(3, 3), activation='relu', input_shape=input_shape))\n",
    "# --- max pool ---\n",
    "model.add(MaxPooling2D(pool_size=(2, 2)))\n",
    "#model.add(Dropout(0.2))\n",
    "\n",
    "# --- next layer ---\n",
    "model.add(Conv2D(32, kernel_size=(3, 3), activation='relu'))\n",
    "# --- max pool ---\n",
    "model.add(MaxPooling2D(pool_size=(2, 2)))\n",
    "#model.add(Dropout(0.2))\n",
    "\n",
    "# --- next layer ---\n",
    "model.add(Conv2D(32, kernel_size=(3, 3), activation='relu'))\n",
    "# --- max pool ---\n",
    "model.add(MaxPooling2D(pool_size=(2, 2)))\n",
    "#model.add(Dropout(0.2))\n",
    "\n",
    "# --- next layer ---\n",
    "model.add(Conv2D(16, kernel_size=(3, 3), activation='relu'))\n",
    "model.add(Dropout(0.2))\n",
    "# --- max pool ---\n",
    "model.add(MaxPooling2D(pool_size=(2, 2)))\n",
    "\n",
    "\n",
    "\n",
    "# flatten for fully connected classification layer\n",
    "model.add(Flatten()) #lecture note: convert coverlutionary layer to dense layer\n",
    "# the classes are mutually exclusive so softmax is a good choice\n",
    "# --- fully connected layer ---\n",
    "model.add(Dense(32, activation='relu'))\n",
    "model.add(Dropout(0.2))\n",
    "model.add(Dense(16, activation='relu'))\n",
    "model.add(Dropout(0.2))\n",
    "# --- classification ---\n",
    "model.add(Dense(num_classes, activation='softmax'))\n",
    "\n",
    "# prints out a summary of the model architecture\n",
    "model.summary()"
   ]
  },
  {
   "cell_type": "markdown",
   "metadata": {},
   "source": [
    "To tune the model, back-propagation updates filter weights and parameter values to minimize some error/loss function. We decided to utilize **Cross-Entropy Loss**, which is commonly used to calculate loss in CNNs. We used Stochastic Gradient Descent (https://en.wikipedia.org/wiki/Stochastic_gradient_descent) to approximate the gradient of the error function, and update model weights. While alternatives such as AdaGrad (different parameters with different learning rates) and Adam (https://arxiv.org/pdf/1412.6980.pdf) (adaptive moment estimation) use different paths to minimize loss (Kingma & Ba 2015, https://arxiv.org/pdf/1412.6980.pdf), our preliminary simulations showed that the loss decreased more slowly in AdaGrad and Adam than in SGD. \n"
   ]
  },
  {
   "cell_type": "code",
   "execution_count": 24,
   "metadata": {
    "collapsed": true,
    "deletable": true,
    "editable": true
   },
   "outputs": [],
   "source": [
    "# this does all necessary compiling. In tensorflow this is much quicker than in theano\n",
    "# the setup is our basic categorical crossentropy with stochastic gradient decent\n",
    "# we also specify that we want to evaluate our model in terms of accuracy\n",
    "sgd = SGD(lr=0.1, momentum=0.9)\n",
    "adam = Adam(lr=0.1, beta_1=0.9, beta_2=0.999, epsilon=1e-08, decay=0.0)\n",
    "model.compile(loss='categorical_crossentropy',\n",
    "              optimizer=sgd,\n",
    "              metrics=['accuracy'])"
   ]
  },
  {
   "cell_type": "code",
   "execution_count": 25,
   "metadata": {
    "collapsed": false,
    "deletable": true,
    "editable": true
   },
   "outputs": [],
   "source": [
    "# specify the tuning parameters\n",
    "# smaller batch size means noisier gradient, but more updates per epoch\n",
    "batch_size = 200\n",
    "# number of iterations over the complete training data\n",
    "epochs = 50\n",
    "# add early stopping\n",
    "earlyStopping = keras.callbacks.EarlyStopping(monitor='val_loss', patience=5, verbose=0, mode='auto')\n",
    "\n",
    "# we need a callback to save information for tensorboard visualizations\n",
    "tensorboard = TensorBoard(log_dir='./logs/cv/'+log_dir_string, histogram_freq=1, write_graph=True, write_images=False)"
   ]
  },
  {
   "cell_type": "markdown",
   "metadata": {},
   "source": [
    "### Tuning the model\n",
    "Once we decided the number of layer of the models and reasonable filter size, we mainly tune the batch size and learning rate. The number of epochs was set to be a large number, and early stopping with patience of 5 was used to stop the training. The strategy is to try a batch size and learning rate, and using the plots of the loss to decide the direction to further tune the values.  "
   ]
  },
  {
   "cell_type": "code",
   "execution_count": 1,
   "metadata": {
    "collapsed": false,
    "deletable": true,
    "editable": true
   },
   "outputs": [],
   "source": [
    "# fit the model\n",
    "nnet_title = model.fit(img_matrix, y,\n",
    "                    batch_size=batch_size,\n",
    "                    epochs=epochs,\n",
    "                    callbacks=[earlyStopping],\n",
    "                    verbose=1,\n",
    "                    validation_split=0.1)"
   ]
  },
  {
   "cell_type": "markdown",
   "metadata": {},
   "source": [
    "### Model result\n",
    "The result from the final model is shown below.\n",
    "\n",
    "We can see that the training accuracy increases and the training loss decreases as the number of epoch goes up. The performance stops increasing as the training stopped without improvement for 5 epochs.The validation accuracy and loss show a similar but much noiser results. It makes sense because the validation normally have worse performance than the training data, and the dropouts adds more noise while prevents overfitting. If we have more time, we till retrain the data with longer patience for early stopping, so we can see more clearly that the model performance stops improving after 20 epochs. \n",
    "\n",
    "**The training accuracy reached 0.6, and the validation accuracy reached 0.52**. It is significantly higher than a random classifier for three categories (0.33). It suggests that our model has a descent performance. \n",
    "\n",
    "\n",
    "**Training accuracy:**"
   ]
  },
  {
   "cell_type": "code",
   "execution_count": 19,
   "metadata": {
    "collapsed": false,
    "deletable": true,
    "editable": true
   },
   "outputs": [
    {
     "data": {
      "text/plain": [
       "<matplotlib.text.Text at 0x7fbeb5f294d0>"
      ]
     },
     "execution_count": 19,
     "metadata": {},
     "output_type": "execute_result"
    },
    {
     "data": {
      "image/png": "[encoded data removed]",
      "text/plain": [
       "<matplotlib.figure.Figure at 0x7fbeb5fefdd0>"
      ]
     },
     "metadata": {},
     "output_type": "display_data"
    }
   ],
   "source": [
    "plt.plot(nnet_title.history['acc'])\n",
    "plt.xlabel(\"epoch\")\n",
    "plt.ylabel(\"accuracy\")"
   ]
  },
  {
   "cell_type": "markdown",
   "metadata": {},
   "source": [
    "**Validation accuracy:**"
   ]
  },
  {
   "cell_type": "code",
   "execution_count": 20,
   "metadata": {
    "collapsed": false,
    "deletable": true,
    "editable": true
   },
   "outputs": [
    {
     "data": {
      "text/plain": [
       "<matplotlib.text.Text at 0x7fbeb5e4a210>"
      ]
     },
     "execution_count": 20,
     "metadata": {},
     "output_type": "execute_result"
    },
    {
     "data": {
      "image/png": "[encoded data removed]",
      "text/plain": [
       "<matplotlib.figure.Figure at 0x7fbeb5f349d0>"
      ]
     },
     "metadata": {},
     "output_type": "display_data"
    }
   ],
   "source": [
    "plt.plot(nnet_title.history['val_acc'])\n",
    "plt.xlabel(\"epoch\")\n",
    "plt.ylabel(\"validation accuracy\")"
   ]
  },
  {
   "cell_type": "markdown",
   "metadata": {},
   "source": [
    "**Training loss:**"
   ]
  },
  {
   "cell_type": "code",
   "execution_count": 21,
   "metadata": {
    "collapsed": false,
    "deletable": true,
    "editable": true
   },
   "outputs": [
    {
     "data": {
      "text/plain": [
       "<matplotlib.text.Text at 0x7fbeb643e650>"
      ]
     },
     "execution_count": 21,
     "metadata": {},
     "output_type": "execute_result"
    },
    {
     "data": {
      "image/png": "[encoded data removed]",
      "text/plain": [
       "<matplotlib.figure.Figure at 0x7fbeb5def6d0>"
      ]
     },
     "metadata": {},
     "output_type": "display_data"
    }
   ],
   "source": [
    "plt.plot(nnet_title.history['loss'])\n",
    "plt.xlabel(\"epoch\")\n",
    "plt.ylabel(\"loss\")"
   ]
  },
  {
   "cell_type": "markdown",
   "metadata": {},
   "source": [
    "**Validation loss:**"
   ]
  },
  {
   "cell_type": "code",
   "execution_count": 22,
   "metadata": {
    "collapsed": false,
    "deletable": true,
    "editable": true,
    "scrolled": true
   },
   "outputs": [
    {
     "data": {
      "text/plain": [
       "<matplotlib.text.Text at 0x7fbeb5d3cad0>"
      ]
     },
     "execution_count": 22,
     "metadata": {},
     "output_type": "execute_result"
    },
    {
     "data": {
      "image/png": "[encoded data removed]",
      "text/plain": [
       "<matplotlib.figure.Figure at 0x7fbeb5da61d0>"
      ]
     },
     "metadata": {},
     "output_type": "display_data"
    }
   ],
   "source": [
    "plt.plot(nnet_title.history['val_loss'])\n",
    "plt.xlabel(\"epoch\")\n",
    "plt.ylabel(\"validation loss\")"
   ]
  },
  {
   "cell_type": "code",
   "execution_count": null,
   "metadata": {
    "collapsed": true
   },
   "outputs": [],
   "source": []
  },
  {
   "cell_type": "code",
   "execution_count": null,
   "metadata": {
    "collapsed": true
   },
   "outputs": [],
   "source": []
  },
  {
   "cell_type": "code",
   "execution_count": null,
   "metadata": {
    "collapsed": true
   },
   "outputs": [],
   "source": []
  },
  {
   "cell_type": "code",
   "execution_count": null,
   "metadata": {
    "collapsed": true
   },
   "outputs": [],
   "source": []
  },
  {
   "cell_type": "code",
   "execution_count": null,
   "metadata": {
    "collapsed": true
   },
   "outputs": [],
   "source": []
  },
  {
   "cell_type": "code",
   "execution_count": null,
   "metadata": {
    "collapsed": true
   },
   "outputs": [],
   "source": []
  },
  {
   "cell_type": "code",
   "execution_count": null,
   "metadata": {
    "collapsed": true
   },
   "outputs": [],
   "source": []
  },
  {
   "cell_type": "code",
   "execution_count": null,
   "metadata": {
    "collapsed": true
   },
   "outputs": [],
   "source": []
  },
  {
   "cell_type": "code",
   "execution_count": null,
   "metadata": {
    "collapsed": true
   },
   "outputs": [],
   "source": []
  },
  {
   "cell_type": "code",
   "execution_count": null,
   "metadata": {
    "collapsed": true
   },
   "outputs": [],
   "source": []
  },
  {
   "cell_type": "code",
   "execution_count": null,
   "metadata": {
    "collapsed": true
   },
   "outputs": [],
   "source": []
  },
  {
   "cell_type": "code",
   "execution_count": null,
   "metadata": {
    "collapsed": true
   },
   "outputs": [],
   "source": []
  },
  {
   "cell_type": "code",
   "execution_count": null,
   "metadata": {
    "collapsed": true
   },
   "outputs": [],
   "source": []
  },
  {
   "cell_type": "code",
   "execution_count": null,
   "metadata": {
    "collapsed": true
   },
   "outputs": [],
   "source": []
  },
  {
   "cell_type": "code",
   "execution_count": null,
   "metadata": {
    "collapsed": true
   },
   "outputs": [],
   "source": []
  },
  {
   "cell_type": "code",
   "execution_count": null,
   "metadata": {
    "collapsed": true
   },
   "outputs": [],
   "source": []
  },
  {
   "cell_type": "code",
   "execution_count": null,
   "metadata": {
    "collapsed": true
   },
   "outputs": [],
   "source": []
  }
 ],
 "metadata": {
  "anaconda-cloud": {},
  "kernelspec": {
   "display_name": "Python [Root]",
   "language": "python",
   "name": "Python [Root]"
  },
  "language_info": {
   "codemirror_mode": {
    "name": "ipython",
    "version": 2
   },
   "file_extension": ".py",
   "mimetype": "text/x-python",
   "name": "python",
   "nbconvert_exporter": "python",
   "pygments_lexer": "ipython2",
   "version": "2.7.12"
  }
 },
 "nbformat": 4,
 "nbformat_minor": 0
}
