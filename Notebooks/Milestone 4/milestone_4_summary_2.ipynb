{
 "cells": [
  {
   "cell_type": "markdown",
   "metadata": {},
   "source": [
    "## Fine Tune VGG16 Model\n",
    "### VGG 16: Fine tuning a pre-trained Convolutional Neural Network on title position \n",
    "Given our goal to classify title location and count the number of faces in movie posters, we decided to fine-tune the VGG-16 Convolutional Neural Network by Simonyan & Zisserman, which is pre-trained to perform multi-class classification on a dataset of over 1 million input images assigned to over 1000 classes (Simonyan & Zisserman 2015,https://arxiv.org/pdf/1409.1556.pdf). Briefly, characteristics of the VGG network architecture include a large number of convolutional layers (depth of 16) and convolutional filters with a very small (3x3) receptive field. The depth of this network results in higher performance than previous models on object localization and image classification tasks. \n",
    "To preprocess our data and utilize this pre-tuned model, we re-sized posters to size 224x224 using zero-padding and normalized pixel values. To adapt this pre-trained model, we kept the first 15 layers constant (i.e. non-trainable), and modified the Dense layer to predict for 3 classes (top, middle, bottom title location). During training, we utilized Stochastic Gradient Descent with momentum 0.9 with a low learning rate to optimize weights. We used the same loss function and dense network architecture as above for both classification problems. \n",
    "\n",
    "Similar to the model we tuned from scratch, we then tuned the batch size and learning rate to obtain a reasonable good model.\n"
   ]
  },
  {
   "cell_type": "code",
   "execution_count": 55,
   "metadata": {
    "collapsed": false,
    "deletable": true,
    "editable": true
   },
   "outputs": [],
   "source": [
    "#load pretrained model - VGG16\n",
    "base_model =VGG16(weights='imagenet', include_top=False)\n",
    "\n",
    "x = base_model.output \n",
    "x = GlobalAveragePooling2D()(x) # let's add a fully-connected layer \n",
    "x = Dropout(0.5)(x)\n",
    "x = Dense(500, activation='relu')(x)\n",
    "#x = Dropout(0.2)(x)\n",
    "#x = Dense(100, activation='relu')(x)\n",
    "#x = Dropout(0.2)(x)\n",
    "predictions = Dense(3, activation='softmax')(x)  # this is the model we will train \n",
    "model = Model(inputs=base_model.input, outputs=predictions)\n",
    "\n",
    "# set the first 15 layers (up to the last conv block)\n",
    "# to non-trainable (weights will not be updated)\n",
    "for layer in model.layers[:15]:\n",
    "    layer.trainable = False"
   ]
  },
  {
   "cell_type": "code",
   "execution_count": 56,
   "metadata": {
    "collapsed": false,
    "deletable": true,
    "editable": true
   },
   "outputs": [
    {
     "name": "stdout",
     "output_type": "stream",
     "text": [
      "_________________________________________________________________\n",
      "Layer (type)                 Output Shape              Param #   \n",
      "=================================================================\n",
      "input_2 (InputLayer)         (None, None, None, 3)     0         \n",
      "_________________________________________________________________\n",
      "block1_conv1 (Conv2D)        (None, None, None, 64)    1792      \n",
      "_________________________________________________________________\n",
      "block1_conv2 (Conv2D)        (None, None, None, 64)    36928     \n",
      "_________________________________________________________________\n",
      "block1_pool (MaxPooling2D)   (None, None, None, 64)    0         \n",
      "_________________________________________________________________\n",
      "block2_conv1 (Conv2D)        (None, None, None, 128)   73856     \n",
      "_________________________________________________________________\n",
      "block2_conv2 (Conv2D)        (None, None, None, 128)   147584    \n",
      "_________________________________________________________________\n",
      "block2_pool (MaxPooling2D)   (None, None, None, 128)   0         \n",
      "_________________________________________________________________\n",
      "block3_conv1 (Conv2D)        (None, None, None, 256)   295168    \n",
      "_________________________________________________________________\n",
      "block3_conv2 (Conv2D)        (None, None, None, 256)   590080    \n",
      "_________________________________________________________________\n",
      "block3_conv3 (Conv2D)        (None, None, None, 256)   590080    \n",
      "_________________________________________________________________\n",
      "block3_pool (MaxPooling2D)   (None, None, None, 256)   0         \n",
      "_________________________________________________________________\n",
      "block4_conv1 (Conv2D)        (None, None, None, 512)   1180160   \n",
      "_________________________________________________________________\n",
      "block4_conv2 (Conv2D)        (None, None, None, 512)   2359808   \n",
      "_________________________________________________________________\n",
      "block4_conv3 (Conv2D)        (None, None, None, 512)   2359808   \n",
      "_________________________________________________________________\n",
      "block4_pool (MaxPooling2D)   (None, None, None, 512)   0         \n",
      "_________________________________________________________________\n",
      "block5_conv1 (Conv2D)        (None, None, None, 512)   2359808   \n",
      "_________________________________________________________________\n",
      "block5_conv2 (Conv2D)        (None, None, None, 512)   2359808   \n",
      "_________________________________________________________________\n",
      "block5_conv3 (Conv2D)        (None, None, None, 512)   2359808   \n",
      "_________________________________________________________________\n",
      "block5_pool (MaxPooling2D)   (None, None, None, 512)   0         \n",
      "_________________________________________________________________\n",
      "global_average_pooling2d_2 ( (None, 512)               0         \n",
      "_________________________________________________________________\n",
      "dropout_2 (Dropout)          (None, 512)               0         \n",
      "_________________________________________________________________\n",
      "dense_3 (Dense)              (None, 500)               256500    \n",
      "_________________________________________________________________\n",
      "dense_4 (Dense)              (None, 3)                 1503      \n",
      "=================================================================\n",
      "Total params: 14,972,691.0\n",
      "Trainable params: 7,337,427.0\n",
      "Non-trainable params: 7,635,264.0\n",
      "_________________________________________________________________\n"
     ]
    }
   ],
   "source": [
    "model.summary()"
   ]
  },
  {
   "cell_type": "code",
   "execution_count": 58,
   "metadata": {
    "collapsed": false,
    "deletable": true,
    "editable": true
   },
   "outputs": [],
   "source": [
    "# smaller batch size means noisier gradient, but more updates per epoch\n",
    "batch_size = 50\n",
    "# number of iterations over the complete training data\n",
    "epochs = 10\n",
    "# add early stopping\n",
    "earlyStopping=keras.callbacks.EarlyStopping(monitor='val_loss', patience=5, verbose=0, mode='auto')\n",
    "\n",
    "model.compile(loss='binary_crossentropy',\n",
    "              optimizer=optimizers.SGD(lr=1e-4, momentum=0.9),\n",
    "              metrics=['accuracy'])"
   ]
  },
  {
   "cell_type": "code",
   "execution_count": 1,
   "metadata": {
    "collapsed": false,
    "deletable": true,
    "editable": true
   },
   "outputs": [],
   "source": [
    "# fine-tune the model\n",
    "nnet_mod = model.fit(img_matrix, y,\n",
    "                    batch_size=batch_size,\n",
    "                    epochs=epochs,\n",
    "                    verbose=1,\n",
    "                    callbacks=[earlyStopping],\n",
    "                    validation_split=0.3)"
   ]
  },
  {
   "cell_type": "markdown",
   "metadata": {},
   "source": [
    "### Model result\n",
    "The result from the final model is shown below. The performance of this pre-trained model is much better than the model we built from scratch (has more than 60% accuracy). It is because VGG-16 model was trained on much larger data set, which is helpful for training the earlier layers for basic feature extraction. It would be easier to build on this model and recognize titles using the features. By fine tuning the last a few layers, we are able to make this model perform the title position classification.\n",
    "\n",
    "From the loss plots, we can see that the loss value decreases until reaching a stable stage. We probably can use a slightly larger learning rate, since the current plot has a fast dropping stage. The value keeps dropping at about 200 epochs, so we have to force the model to quit and just show the beginning part of the plot. We will further adjust batch size and learning rate for this model. "
   ]
  },
  {
   "cell_type": "markdown",
   "metadata": {},
   "source": [
    "**Training loss:**"
   ]
  },
  {
   "cell_type": "code",
   "execution_count": 16,
   "metadata": {
    "collapsed": false,
    "deletable": true,
    "editable": true
   },
   "outputs": [
    {
     "data": {
      "text/plain": [
       "<matplotlib.text.Text at 0x7fa094d53450>"
      ]
     },
     "execution_count": 16,
     "metadata": {},
     "output_type": "execute_result"
    },
    {
     "data": {
      "image/png": "[encoded data removed]",
      "text/plain": [
       "<matplotlib.figure.Figure at 0x7fa094db7b50>"
      ]
     },
     "metadata": {},
     "output_type": "display_data"
    }
   ],
   "source": [
    "plt.plot(nnet_mod.history['loss'])\n",
    "plt.xlabel(\"epoch\")\n",
    "plt.ylabel(\"loss\")"
   ]
  },
  {
   "cell_type": "markdown",
   "metadata": {},
   "source": [
    "**Validation loss **"
   ]
  },
  {
   "cell_type": "code",
   "execution_count": 18,
   "metadata": {
    "collapsed": false,
    "deletable": true,
    "editable": true
   },
   "outputs": [
    {
     "data": {
      "text/plain": [
       "<matplotlib.text.Text at 0x7fa094d5b9d0>"
      ]
     },
     "execution_count": 18,
     "metadata": {},
     "output_type": "execute_result"
    },
    {
     "data": {
      "image/png": "[encoded data removed]",
      "text/plain": [
       "<matplotlib.figure.Figure at 0x7fa094c77bd0>"
      ]
     },
     "metadata": {},
     "output_type": "display_data"
    }
   ],
   "source": [
    "plt.plot(nnet_mod.history['val_loss'])\n",
    "plt.xlabel(\"epoch\")\n",
    "plt.ylabel(\"val_loss\")"
   ]
  }
 ],
 "metadata": {
  "kernelspec": {
   "display_name": "Python [Root]",
   "language": "python",
   "name": "Python [Root]"
  },
  "language_info": {
   "codemirror_mode": {
    "name": "ipython",
    "version": 2
   },
   "file_extension": ".py",
   "mimetype": "text/x-python",
   "name": "python",
   "nbconvert_exporter": "python",
   "pygments_lexer": "ipython2",
   "version": "2.7.12"
  }
 },
 "nbformat": 4,
 "nbformat_minor": 2
}
