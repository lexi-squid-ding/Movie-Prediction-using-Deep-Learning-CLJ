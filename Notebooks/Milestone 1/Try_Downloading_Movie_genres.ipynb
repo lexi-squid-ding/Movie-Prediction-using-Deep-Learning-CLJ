{
 "cells": [
  {
   "cell_type": "markdown",
   "metadata": {},
   "source": [
    "### Download 20 movies for each genre \n",
    "\n",
    "#### Genre list"
   ]
  },
  {
   "cell_type": "code",
   "execution_count": 50,
   "metadata": {
    "collapsed": false
   },
   "outputs": [
    {
     "name": "stdout",
     "output_type": "stream",
     "text": [
      "id:  28 ; Genre name:  Action\n",
      "id:  12 ; Genre name:  Adventure\n",
      "id:  16 ; Genre name:  Animation\n",
      "id:  35 ; Genre name:  Comedy\n",
      "id:  80 ; Genre name:  Crime\n",
      "id:  99 ; Genre name:  Documentary\n",
      "id:  18 ; Genre name:  Drama\n",
      "id:  10751 ; Genre name:  Family\n",
      "id:  14 ; Genre name:  Fantasy\n",
      "id:  36 ; Genre name:  History\n",
      "id:  27 ; Genre name:  Horror\n",
      "id:  10402 ; Genre name:  Music\n",
      "id:  9648 ; Genre name:  Mystery\n",
      "id:  10749 ; Genre name:  Romance\n",
      "id:  878 ; Genre name:  Science Fiction\n",
      "id:  10770 ; Genre name:  TV Movie\n",
      "id:  53 ; Genre name:  Thriller\n",
      "id:  10752 ; Genre name:  War\n",
      "id:  37 ; Genre name:  Western\n"
     ]
    }
   ],
   "source": [
    "### Download the genre list from TMDB\n",
    "\n",
    "import requests\n",
    "\n",
    "url = \"https://api.themoviedb.org/3/genre/movie/list?api_key=783918f9b8efd0f2ff0792d7b7de9fa2&language=en-US\"\n",
    "\n",
    "payload = \"{}\"\n",
    "response = requests.request(\"GET\", url, data=payload)\n",
    "\n",
    "# reformat the result\n",
    "movie_genres = response.json()\n",
    "movie_genres = movie_genres[\"genres\"]\n",
    "\n",
    "# now the genres are in a dictionary\n",
    "for i in range(len(movie_genres)):\n",
    "    print \"id: \", movie_genres[i][\"id\"], \"; Genre name: \", movie_genres[i][\"name\"]"
   ]
  },
  {
   "cell_type": "code",
   "execution_count": 3,
   "metadata": {
    "collapsed": false
   },
   "outputs": [],
   "source": [
    "###Export genre list \n",
    "import csv\n",
    "with open(\"genre_list.csv\", \"wb\") as file:\n",
    "    csv_file = csv.writer(file) \n",
    "    \n",
    "    # Add column names\n",
    "    csv_file.writerow([\"id\", \"GenreName\"])\n",
    "    \n",
    "    for item in movie_genres:\n",
    "            csv_file.writerow([item['id'], item['name']])"
   ]
  },
  {
   "cell_type": "markdown",
   "metadata": {},
   "source": [
    "#### 20 movies for each genre"
   ]
  },
  {
   "cell_type": "code",
   "execution_count": 32,
   "metadata": {
    "collapsed": true
   },
   "outputs": [],
   "source": [
    "### function to download first 20 movies for a genre\n",
    "# input: genre id\n",
    "# output: json file\n",
    "\n",
    "def get_movie_genre(genre_id):\n",
    "    \n",
    "    # construct the url\n",
    "    url_1 = \"https://api.themoviedb.org/3/genre/\"\n",
    "    url_2 = \"/movies?api_key=783918f9b8efd0f2ff0792d7b7de9fa2&language=en-US&include_adult=false&sort_by=created_at.asc\"\n",
    "    url =  url_1 + str(genre_id) + url_2\n",
    "    \n",
    "    # download the movies\n",
    "    payload = \"{}\"\n",
    "    response = requests.request(\"GET\", url, data=payload)\n",
    "    \n",
    "    # convert to json file\n",
    "    movie_list = response.json()\n",
    "    movie_list = movie_list[\"results\"]\n",
    "    \n",
    "    return movie_list"
   ]
  },
  {
   "cell_type": "code",
   "execution_count": 53,
   "metadata": {
    "collapsed": false
   },
   "outputs": [],
   "source": [
    "### download first 20 movies for each genre\n",
    "import time\n",
    "\n",
    "# list to store movie lists \n",
    "movie_by_genre = list()\n",
    "\n",
    "for i in range(len(movie_genres)):\n",
    "    # read genre id\n",
    "    genre_id = movie_genres[i][\"id\"]\n",
    "    \n",
    "    # download movie list for the genre\n",
    "    movie_list = get_movie_genre(genre_id)\n",
    "    movie_by_genre.append(movie_list)\n",
    "    \n",
    "    time.sleep(5)"
   ]
  },
  {
   "cell_type": "code",
   "execution_count": 144,
   "metadata": {
    "collapsed": true
   },
   "outputs": [],
   "source": [
    "### replace some data that cause problem\n",
    "\n",
    "# spot missing values in the data, change it to 'NA'\n",
    "movie_by_genre[5][17][\"overview\"] = \"NA\"\n",
    "movie_by_genre[5][18][\"backdrop_path\"] = \"NA\"\n",
    "\n",
    "# replace title in French to English (remove \\x)\n",
    "movie_by_genre[5][18][\"original_title\"] = \"Paris est une fxeate - Un film en 18 vagues\"\n",
    "movie_by_genre[5][18][\"title\"] = \"Paris est une fxeate - Un film en 18 vagues\""
   ]
  },
  {
   "cell_type": "code",
   "execution_count": 146,
   "metadata": {
    "collapsed": false
   },
   "outputs": [],
   "source": [
    "### Save json contents as CSV\n",
    "import csv\n",
    "import json\n",
    "\n",
    "# list of items in the data\n",
    "features = ['poster_path', 'title', 'overview', 'popularity', \n",
    "        'original_title', 'backdrop_path','vote_count', 'video', \n",
    "        'adult', 'vote_average', 'original_language', 'id', 'genre_ids',]\n",
    "\n",
    "# save information into a csv file\n",
    "with open(\"movie_by_genres.csv\", \"wb\") as file:\n",
    "    csv_file = csv.writer(file) \n",
    "    \n",
    "    # Add column names\n",
    "    csv_file.writerow(features)\n",
    "    \n",
    "    # For each item in list, get attributes of movie\n",
    "    for i in range(len(movie_by_genre)):\n",
    "        # remove documentary because it has missing values and causes problems\n",
    "        for item in movie_by_genre[i]:\n",
    "            csv_file.writerow([item['poster_path'], item['title'], item['overview'].encode(\"utf8\"), \n",
    "                               item['popularity'], item['original_title'].encode(\"utf8\"), item['backdrop_path'], \n",
    "                               item['vote_count'], item['video'], item['adult'], item['vote_average'],\n",
    "                               item['original_language'], item['id'], item['genre_ids']])"
   ]
  },
  {
   "cell_type": "markdown",
   "metadata": {},
   "source": [
    "#### One-hot-encode genres "
   ]
  },
  {
   "cell_type": "code",
   "execution_count": 2,
   "metadata": {
    "collapsed": true
   },
   "outputs": [],
   "source": [
    "import pandas as pd\n",
    "import numpy as np\n",
    "import re\n",
    "from collections import Counter"
   ]
  },
  {
   "cell_type": "code",
   "execution_count": 12,
   "metadata": {
    "collapsed": false
   },
   "outputs": [],
   "source": [
    "# read in the saved csv file\n",
    "movie_by_genre = pd.read_csv(\"movie_by_genres.csv\")"
   ]
  },
  {
   "cell_type": "code",
   "execution_count": 13,
   "metadata": {
    "collapsed": false
   },
   "outputs": [],
   "source": [
    "# format genre ids into a list of ids\n",
    "movie_by_genre['genre_ids'] = [map(int, re.sub(\"[\\[ \\] ]\", \"\", movie_by_genre['genre_ids'][i]).split(',')) for i in range(movie_by_genre.shape[0])]\n",
    "\n",
    "# obe-hot-encode genres\n",
    "data_count_genres = movie_by_genre['genre_ids'].apply(Counter)\n",
    "one_hot_encode_genres = pd.DataFrame.from_records(data_count_genres).fillna(value=int(0))\n",
    "movie_by_genre = movie_by_genre.join(one_hot_encode_genres)"
   ]
  },
  {
   "cell_type": "code",
   "execution_count": 14,
   "metadata": {
    "collapsed": false
   },
   "outputs": [],
   "source": [
    "### replace genre id by genre names\n",
    "\n",
    "# read the genre list\n",
    "genre_names = pd.read_csv(\"genre_list.csv\")\n",
    "# conver the dataframe into a dictionary\n",
    "genre_names = genre_names.set_index(\"id\")\n",
    "genre_name_dict = genre_names.to_dict()['GenreName']\n",
    "\n",
    "# match genre name to the id\n",
    "movie_by_genre = movie_by_genre.rename(columns = genre_name_dict)"
   ]
  },
  {
   "cell_type": "code",
   "execution_count": 15,
   "metadata": {
    "collapsed": false
   },
   "outputs": [
    {
     "data": {
      "text/plain": [
       "(246, 32)"
      ]
     },
     "execution_count": 15,
     "metadata": {},
     "output_type": "execute_result"
    }
   ],
   "source": [
    "# remove duplicated movies\n",
    "movie_by_genre = movie_by_genre.drop_duplicates(\"id\")\n",
    "\n",
    "# new dimension\n",
    "movie_by_genre.shape"
   ]
  },
  {
   "cell_type": "code",
   "execution_count": 16,
   "metadata": {
    "collapsed": false
   },
   "outputs": [],
   "source": [
    "# save the file to a csv\n",
    "movie_by_genre.to_csv(\"movie_by_genre_onehot.csv\", index = None)"
   ]
  }
 ],
 "metadata": {
  "kernelspec": {
   "display_name": "Python [Root]",
   "language": "python",
   "name": "Python [Root]"
  },
  "language_info": {
   "codemirror_mode": {
    "name": "ipython",
    "version": 2
   },
   "file_extension": ".py",
   "mimetype": "text/x-python",
   "name": "python",
   "nbconvert_exporter": "python",
   "pygments_lexer": "ipython2",
   "version": "2.7.12"
  }
 },
 "nbformat": 4,
 "nbformat_minor": 0
}
