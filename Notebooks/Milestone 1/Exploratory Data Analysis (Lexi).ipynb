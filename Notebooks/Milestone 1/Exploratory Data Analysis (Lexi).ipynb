{
 "cells": [
  {
   "cell_type": "markdown",
   "metadata": {},
   "source": [
    "# Exploratory Data Analysis (Lexi)\n",
    "\n",
    "TASKS:\n",
    "- Release Dates: genre by release month? [Save for later- but just code it]\n",
    "- Count of number of releases per month\n",
    "- Most common genre by month\n",
    "- Average Votes/Vote Counts\n",
    "- By different genres\n",
    "- Image Data- Color mix of posters for different genres\n",
    "\n"
   ]
  },
  {
   "cell_type": "code",
   "execution_count": 1,
   "metadata": {
    "collapsed": true
   },
   "outputs": [],
   "source": [
    "import numpy as np\n",
    "import scipy as sp\n",
    "import matplotlib as mpl\n",
    "import matplotlib.cm as cm\n",
    "import matplotlib.pyplot as plt\n",
    "import pandas as pd\n",
    "import time\n",
    "\n",
    "# File reading packages\n",
    "import pickle\n",
    "import json\n",
    "import csv\n",
    "import datetime # For handling dates\n",
    "\n",
    "# The \"requests\" library makes working with HTTP requests easier\n",
    "import requests\n",
    "import os\n",
    "from bs4 import BeautifulSoup\n",
    "from IPython.display import Image, display # Display image from URL\n",
    "from IPython.core.display import HTML # Display image from URL\n",
    "\n",
    "# TMDB API wrapper\n",
    "import tmdbsimple as tmdb\n",
    "\n",
    "# IMDB access\n",
    "import imdb\n",
    "\n",
    "# Display options\n",
    "pd.set_option('display.width', 500)\n",
    "pd.set_option('display.max_columns', 100)\n",
    "pd.set_option('display.notebook_repr_html', True)\n",
    "%matplotlib inline"
   ]
  },
  {
   "cell_type": "markdown",
   "metadata": {},
   "source": [
    "### Loading Datasets"
   ]
  },
  {
   "cell_type": "code",
   "execution_count": 4,
   "metadata": {
    "collapsed": false,
    "scrolled": true
   },
   "outputs": [
    {
     "name": "stdout",
     "output_type": "stream",
     "text": [
      "<bound method DataFrame.head of                           poster_path                                              title                                           overview  popularity                                     original_title                     backdrop_path  vote_count  video  adult  vote_average original_language      id                  genre_ids\n",
      "0    /45Y1G5FEgttPAwjTYic6czC9xCn.jpg                                              Logan  In the near future, a weary Logan cares for an...  128.555807                                              Logan  /5pAGnkFYSsFJ99ZxDIYnhQbQFXs.jpg        2056  False  False           7.6                en  263115              [28, 18, 878]\n",
      "1    /aoUyphk4nwffrwlZRaOa0eijgpr.jpg                                 Kong: Skull Island  Explore the mysterious and dangerous home of t...   62.129471                                 Kong: Skull Island  /pGwChWiAY1bdoxL79sXmaFBlYJH.jpg         864  False  False           6.1                en  293167          [878, 28, 12, 14]\n",
      "2    /jjBgi2r5cRt36xF6iNUEhzscEcb.jpg                                     Jurassic World  Twenty-two years after the events of Jurassic ...   56.492605                                     Jurassic World  /dkMD5qlogeRMiEixC4YNPUvax2T.jpg        6699  False  False           6.5                en  135397          [28, 12, 878, 53]\n",
      "3    /gri0DDxsERr6B2sOR1fGLxLpSLx.jpg            Fantastic Beasts and Where to Find Them  In 1926, Newt Scamander arrives at the Magical...   50.057262            Fantastic Beasts and Where to Find Them  /kMzU4PkXcKcDMngCxXji0BbVXsu.jpg        3097  False  False           7.0                en  259316               [12, 28, 14]\n",
      "4    /myRzRzCxdfUWjkJWgpHHZ1oGkJd.jpg                                 Ghost in the Shell  In the near future, Major is the first of her ...   39.836035                                 Ghost in the Shell  /ilMCeNVCJ8o5HEYw1gPwhIJrIKy.jpg         190  False  False           6.5                en  315837              [28, 18, 878]\n",
      "5    /y31QB9kn3XSudA15tV7UWQ9XLuW.jpg                            Guardians of the Galaxy  Light years from Earth, 26 years after being a...   30.674958                            Guardians of the Galaxy  /bHarw8xrmQeqf3t8HpuMY7zoK4x.jpg        6734  False  False           7.9                en  118340              [28, 878, 12]\n",
      "6    /kqjL17yufvn9OVLyXYpvtyrFfak.jpg                                 Mad Max: Fury Road  An apocalyptic story set in the furthest reach...   30.206299                                 Mad Max: Fury Road  /phszHPFVhPHhMZgo0fWTKBDQsJA.jpg        7352  False  False           7.2                en   76341          [28, 12, 878, 53]\n",
      "7    /inVq3FRqcYIRl2la8iZikYYxFNR.jpg                                           Deadpool  Based upon Marvel Comics’ most unconventional ...   29.195660                                           Deadpool  /n1y094tVDFATSzkTnFxoGZ1qNsG.jpg        7607  False  False           7.3                en  293660        [28, 12, 35, 10749]\n",
      "8    /qjiskwlV1qQzRCjpV0cL9pEMF9a.jpg                       Rogue One: A Star Wars Story  A rogue band of resistance fighters unite for ...   29.058190                       Rogue One: A Star Wars Story  /tZjVVIYXACV4IIIhXeIM59ytqwS.jpg        2909  False  False           7.3                en  330459       [28, 18, 878, 10752]\n",
      "9    /4PiiNGXj1KENTmCBHeN6Mskj2Fq.jpg                                     Doctor Strange  After his career is destroyed, a brilliant but...   26.436442                                     Doctor Strange  /tFI8VLMgSTTU38i8TIsklfqS9Nl.jpg        3206  False  False           6.9                en  284052          [28, 12, 14, 878]\n",
      "10   /kSBXou5Ac7vEqKd97wotJumyJvU.jpg                         Captain America: Civil War  Following the events of Age of Ultron, the col...   24.507082                         Captain America: Civil War  /m5O3SZvQ6EgD5XXXLPIP1wLppeW.jpg        5104  False  False           6.9                en  271110                  [28, 878]\n",
      "11   /nHXiMnWUAUba2LZ0dFkNDVdvJ1o.jpg                             Underworld: Blood Wars  Vampire death dealer Selene fends off brutal a...   24.329002                             Underworld: Blood Wars   /PIXSMakrO3s2dqA7mCvAAoVR0E.jpg        1123  False  False           4.9                en  346672                   [28, 27]\n",
      "12   /iRAZIEgfB9N0BObV0QI61Nxh92h.jpg                                      Power Rangers  Saban's Power Rangers follows five ordinary te...   22.336267                                      Power Rangers  /eQkaPwMpJARFoPvbbNz2Z0Kye4O.jpg         166  False  False           6.6                en  305470              [28, 12, 878]\n",
      "13    /5vHssUeVe25bMrof1HyaPyWgaP.jpg                                          John Wick  Ex-hitman John Wick comes out of retirement to...   21.791508                                          John Wick  /mFb0ygcue4ITixDkdr7wm1Tdarx.jpg        3665  False  False           7.0                en  245891                   [28, 53]\n",
      "14   /tIKFBxBZhSXpIITiiB5Ws8VGXjt.jpg                                   Assassin's Creed  Through unlocked genetic memories that allow h...   16.687296                                   Assassin's Creed  /r8aRipzR4wlDx0m7Bpi43Q84imc.jpg        1547  False  False           5.3                en  121856          [28, 12, 14, 878]\n",
      "15   /tkt9xR1kNX5R9rCebASKck44si2.jpg  Pirates of the Caribbean: The Curse of the Bla...  Jack Sparrow, a freewheeling 17th-century pira...   16.679482  Pirates of the Caribbean: The Curse of the Bla...  /8AUQ7YlJJA9C8kWk8P4YNHIcFDE.jpg        5053  False  False           7.4                en      22               [12, 14, 28]\n",
      "16   /zSouWWrySXshPCT4t3UKCQGayyo.jpg                                  X-Men: Apocalypse  After the re-emergence of the world's first mu...   15.719871                                  X-Men: Apocalypse  /oQWWth5AOtbWG9o8SCAviGcADed.jpg        3248  False  False           6.2                en  246655          [28, 12, 14, 878]\n",
      "17   /vgAHvS0bT3fpcpnJqT6uDTUsHTo.jpg          The Hobbit: The Battle of the Five Armies  Immediately after the events of The Desolation...   15.313229          The Hobbit: The Battle of the Five Armies  /qhH3GyIfAnGv1pjdV3mw03qAilg.jpg        3710  False  False           7.1                en  122917               [28, 12, 14]\n",
      "18   /il9XWx5CbNd2KdDUwrcClEZiLkv.jpg                                               Fury  Last months of World War II in April 1945. As ...   14.603937                                               Fury  /pKawqrtCBMmxarft7o1LbEynys7.jpg        3090  False  False           7.4                en  228150            [10752, 18, 28]\n",
      "19   /7D6hM7IR0TbQmNvSZVtEiPM3H5h.jpg                                  Deepwater Horizon  A story set on the offshore drilling rig Deepw...   14.388503                                  Deepwater Horizon  /1R2wRq5aZJHMmg3gUlqw2uSdj2t.jpg         961  False  False           6.3                en  296524                       [28]\n",
      "20   /aoUyphk4nwffrwlZRaOa0eijgpr.jpg                                 Kong: Skull Island  Explore the mysterious and dangerous home of t...   62.129471                                 Kong: Skull Island  /pGwChWiAY1bdoxL79sXmaFBlYJH.jpg         864  False  False           6.1                en  293167          [878, 28, 12, 14]\n",
      "21   /jjBgi2r5cRt36xF6iNUEhzscEcb.jpg                                     Jurassic World  Twenty-two years after the events of Jurassic ...   56.492605                                     Jurassic World  /dkMD5qlogeRMiEixC4YNPUvax2T.jpg        6699  False  False           6.5                en  135397          [28, 12, 878, 53]\n",
      "22   /gri0DDxsERr6B2sOR1fGLxLpSLx.jpg            Fantastic Beasts and Where to Find Them  In 1926, Newt Scamander arrives at the Magical...   50.057262            Fantastic Beasts and Where to Find Them  /kMzU4PkXcKcDMngCxXji0BbVXsu.jpg        3097  False  False           7.0                en  259316               [12, 28, 14]\n",
      "23   /z09QAf8WbZncbitewNk6lKYMZsh.jpg                                       Finding Dory  Dory is reunited with her friends Nemo and Mar...   40.820013                                       Finding Dory  /iWRKYHTFlsrxQtfQqFOQyceL83P.jpg        2899  False  False           6.7                en  127380        [12, 16, 35, 10751]\n",
      "24   /nBNZadXqJSdt05SHLqgT0HuC5Gm.jpg                                       Interstellar  Interstellar chronicles the adventures of a gr...   35.959211                                       Interstellar  /xu9zaAevzQ5nnrsXN6JcahLnG4i.jpg        8037  False  False           8.0                en  157336              [12, 18, 878]\n",
      "25   /y31QB9kn3XSudA15tV7UWQ9XLuW.jpg                            Guardians of the Galaxy  Light years from Earth, 26 years after being a...   30.674958                            Guardians of the Galaxy  /bHarw8xrmQeqf3t8HpuMY7zoK4x.jpg        6734  False  False           7.9                en  118340              [28, 878, 12]\n",
      "26   /kqjL17yufvn9OVLyXYpvtyrFfak.jpg                                 Mad Max: Fury Road  An apocalyptic story set in the furthest reach...   30.206299                                 Mad Max: Fury Road  /phszHPFVhPHhMZgo0fWTKBDQsJA.jpg        7352  False  False           7.2                en   76341          [28, 12, 878, 53]\n",
      "27   /inVq3FRqcYIRl2la8iZikYYxFNR.jpg                                           Deadpool  Based upon Marvel Comics’ most unconventional ...   29.195660                                           Deadpool  /n1y094tVDFATSzkTnFxoGZ1qNsG.jpg        7607  False  False           7.3                en  293660        [28, 12, 35, 10749]\n",
      "28   /4PiiNGXj1KENTmCBHeN6Mskj2Fq.jpg                                     Doctor Strange  After his career is destroyed, a brilliant but...   26.436442                                     Doctor Strange  /tFI8VLMgSTTU38i8TIsklfqS9Nl.jpg        3206  False  False           6.9                en  284052          [28, 12, 14, 878]\n",
      "29   /iRAZIEgfB9N0BObV0QI61Nxh92h.jpg                                      Power Rangers  Saban's Power Rangers follows five ordinary te...   22.336267                                      Power Rangers  /eQkaPwMpJARFoPvbbNz2Z0Kye4O.jpg         169  False  False           6.6                en  305470              [28, 12, 878]\n",
      "..                                ...                                                ...                                                ...         ...                                                ...                               ...         ...    ...    ...           ...               ...     ...                        ...\n",
      "350  /l8dn7rKbjP36PtHsViHGpzf5ey7.jpg                                     Apocalypse Now  At the height of the Vietnam war, Captain Benj...    5.537155                                     Apocalypse Now  /k91Dag8AZbhjIJqrtf7F1bQnGPg.jpg        1511  False  False           8.0                en      28                [18, 10752]\n",
      "351  /6zYuTKyvcwmtNvXXvJZNT0IgBL0.jpg                               Inglourious Basterds  In Nazi-occupied France during World War II, a...    5.505484                               Inglourious Basterds  /7nF6B9yCEq1ZCT82sGJVtNxOcl5.jpg        4867  False  False           7.8                en   16869        [18, 28, 53, 10752]\n",
      "352  /4oy4e0DP6LRwRszfx8NY8EYBj8V.jpg                                     Dracula Untold  Vlad Tepes is a great hero, but when he learns...    5.057302                                     Dracula Untold  /6UPlIYKxZqUR6Xbpgu1JKG0J7UC.jpg        1949  False  False           6.1                en   49017    [27, 28, 18, 14, 10752]\n",
      "353  /orGXnBKfT41LxZhitLkXhqUfJJW.jpg                                            Top Gun  For Lieutenant Pete Mitchell and his friend an...    4.910099                                            Top Gun  /9GyBSsMiGkPSk4OESIYZuedijBI.jpg        1317  False  False           6.6                en     744     [10752, 18, 28, 10749]\n",
      "354  /iunmxWkOi7Vk17Ob3G2HwwjgHsr.jpg                                        The Pianist  The Pianist is a film adapted from the biograp...    4.871100                                        The Pianist  /xUR95VFV1UTyzS1C8Lj06hi2n2M.jpg        1315  False  False           8.0                en     423                [18, 10752]\n",
      "355  /sLv5pXysIz7QbtKFJy85d5yxv2W.jpg                                   The Last Samurai  Nathan Algren is an American hired to instruct...    4.606813                                   The Last Samurai  /nO0GtGFQmEuuOyAQVpHjJlWBU8O.jpg        1429  False  False           7.2                en     616        [18, 28, 10752, 36]\n",
      "356  /29veIwD38rVL2qY74emXQw4y25H.jpg                                  Full Metal Jacket  A pragmatic U.S. Marine observes the dehumaniz...    4.511128                                  Full Metal Jacket  /cVkTGLthpromkyzyCFLvvLPZxFM.jpg        1798  False  False           7.8                en     600                [18, 10752]\n",
      "357  /2Fen9XsCscjupGJUhi2zaCvOaGd.jpg                                          Dear John  Sergeant John Tyree is home on a 2 week leave ...    4.444358                                          Dear John  /hQIPa1oKM6fSzyp1UBxBfVpSCj2.jpg         913  False  False           6.4                en   22971         [18, 10749, 10752]\n",
      "358  /m4ZfuML89Rq8gbRGdm9ncSibjlx.jpg          13 Hours: The Secret Soldiers of Benghazi  An American Ambassador is killed during an att...    4.364237          13 Hours: The Secret Soldiers of Benghazi  /cVIb8GGPzASoN9j9z1jIJD942oJ.jpg         725  False  False           7.0                en  300671        [28, 18, 53, 10752]\n",
      "359  /8ST6iVp3fkUSbUpXRAc2Q96YQRk.jpg                                      Lone Survivor  Based on the failed June 28, 2005 mission \"Ope...    4.317812                                      Lone Survivor  /pPFbXcONHBntJIAsEn8TaIPPCpZ.jpg        1291  False  False           7.3                en  193756        [28, 18, 53, 10752]\n",
      "360  /oXUWEc5i3wYyFnL1Ycu8ppxxPvs.jpg                                       The Revenant  In the 1820s, a frontiersman, Hugh Glass, sets...   10.519326                                       The Revenant  /8jNiQwGgAL5R2xwAcJTGWOZn3Mm.jpg        4895  False  False           7.2                en  281957           [37, 18, 12, 53]\n",
      "361  /5WJnxuw41sddupf8cwOxYftuvJG.jpg                                   Django Unchained  With the help of a German bounty hunter, a fre...    7.406139                                   Django Unchained  /qUcmEqnzIwlwZxSyTf3WliSfAjJ.jpg        8399  False  False           7.7                en   68718                   [18, 37]\n",
      "362  /cparcxTFuHdlSOP3MJOpN7Ec9NB.jpg                              The Magnificent Seven  Seven gun men in the old west gradually come t...    7.357814                              The Magnificent Seven   /T3LrH6bnV74llVbFpQsCBrGaU9.jpg        1668  False  False           5.6                en  333484               [12, 28, 37]\n",
      "363  /fYYruOEwdbJhlgdfK1HxPhXwHiB.jpg                                          Brimstone  In the menacing inferno of the old American We...    6.816946                                          Brimstone  /rTtWEmHuflexjjbHAdNvUXh4Xa3.jpg          49  False  False           7.0                en  324560             [9648, 53, 37]\n",
      "364  /fqe8JxDNO8B8QfOGTdjh6sPCdSC.jpg                                  The Hateful Eight  Bounty hunters seek shelter from a raging bliz...    6.748842                                  The Hateful Eight  /sSvgNBeBNzAuKl8U8sP50ETJPgx.jpg        3162  False  False           7.5                en  273248         [80, 18, 9648, 37]\n",
      "365  /6YOrNBdoXvT8aC5VPLkkN6t5z0V.jpg                                 Hell or High Water  A divorced dad and his ex-con brother resort t...    4.957459                                 Hell or High Water  /5GbRKOQSY08U3SQXXcQAKEnL2rE.jpg         825  False  False           7.2                en  338766               [37, 80, 18]\n",
      "366  /wfPHdfofBD5PN96dV96a51B3Ja2.jpg                     The Good, the Bad and the Ugly  While the Civil War rages between the Union an...    4.461089                    Il buono, il brutto, il cattivo  /xGC2fY5KFmtuXnsuQwYQKFOLZFy.jpg        1807  False  False           8.0                it     429                       [37]\n",
      "367  /b4vil5ueYJNBNypHmo1tpuevh4z.jpg                                    The Lone Ranger  The Texas Rangers chase down a gang of outlaws...    4.210313                                    The Lone Ranger  /sgcgfrlOOB6lVXbfl75YTszF4jI.jpg        1873  False  False           6.0                en   57201               [28, 12, 37]\n",
      "368   /hpmclspug1I8EwKSWhL7pWWltA.jpg                                 Dances with Wolves  Wounded Civil War soldier, John Dunbar tries t...    3.717370                                 Dances with Wolves  /gkW2RMlwl4kqaMIDjaAE73rAPpZ.jpg         794  False  False           7.5                en     581               [12, 18, 37]\n",
      "369  /7w3JmmyL8GpBvW6BusQfQCSm2h0.jpg                              The Magnificent Seven  An oppressed Mexican peasant village hires sev...    3.607299                              The Magnificent Seven  /6oa28WQ1z1KpFXLnFx8Ukpz3f4H.jpg         350  False  False           7.3                en     966               [28, 12, 37]\n",
      "370  /hR6r34XmJyPVp9RokvcsY4TFTqH.jpg                                     Wild Wild West  Legless Southern inventor Dr. Arliss Loveless ...    3.183209                                     Wild Wild West  /5jdg0yXqb1glzi6lj8fsn7xxsbF.jpg         806  False  False           5.1                en    8487  [28, 12, 35, 18, 878, 37]\n",
      "371  /tXEHvxU315Yu7bEaMMRcpDpW6RI.jpg                                   Cowboys & Aliens  A stranger stumbles into the desert town of Ab...    3.111617                                   Cowboys & Aliens  /gTDwoJBCu7scwYQoykIlLNpkCes.jpg        1667  False  False           5.4                en   49849          [28, 878, 53, 37]\n",
      "372  /jdFO4CtdgFNxn0DkuMpHFKWfx4I.jpg                                 Quigley Down Under  American Matt Quigley answers Australian land ...    3.060521                                 Quigley Down Under  /hCRKwCg58HpQsPpkHdQmE9oQ2bk.jpg         105  False  False           6.4                en    9588    [10749, 28, 12, 37, 18]\n",
      "373  /9Nwkh0eQmkymEOR0ovAALtjSIZW.jpg                                       3:10 to Yuma  In Arizona in the late 1800's, infamous outlaw...    3.052000                                       3:10 to Yuma  /bk6TT6GYss9qBmNoJ6HqHtHLahw.jpg         991  False  False           6.9                en    5176                       [37]\n",
      "374  /rVAHRtAMhV8QVXQMQ8NxNbZXCDp.jpg                       Once Upon a Time in the West  This classic western masterpiece is an epic fi...    3.029650                            C'era una volta il West  /sNaQWTsQFfdhjKweXbgjSHKZ8YS.jpg         891  False  False           8.0                it     335                   [28, 37]\n",
      "375  /qc7vaF5fIeTllAykdP3wldlMyRh.jpg                                          True Grit  Following the murder of her father by hired ha...    2.949526                                          True Grit  /dWYETYAYNlMROMFLLHqtpAlYWZk.jpg        1345  False  False           7.1                en   44264               [18, 12, 37]\n",
      "376  /a5fYK94xQlvnegBTL5yULXYGYEF.jpg                                    Bite the Bullet  At the beginning of the 20th century, a newspa...    2.908011                                    Bite the Bullet  /3hwY19LcxaH3vo0urbnQGads27I.jpg          19  False  False           6.1                en   32617               [28, 37, 12]\n",
      "377  /h2jmFPZhEkCALleZPO468IvUw6u.jpg                                         Dead Birds  A group of Confederate soldiers who hole up in...    2.900725                                         Dead Birds  /iEY6iZY56B9n1ppoMHp7GaT3mmw.jpg          63  False  False           5.7                en   19592               [27, 53, 37]\n",
      "378  /lSFYLoaL4eW7Q5VQ7SZQP4EHRCt.jpg  The Assassination of Jesse James by the Coward...  Outlaw Jesse James is rumored be the 'fastest ...    2.864926  The Assassination of Jesse James by the Coward...  /zAh7HC8Tk2D0q3VdMOP6boqNG9N.jpg         621  False  False           7.0                en    4512               [28, 18, 37]\n",
      "379  /8A51Ur47D0CNJhmvQlbif0vzyqZ.jpg                                      Bone Tomahawk  During a shootout in a saloon, Sheriff Hunt in...    2.851866                                      Bone Tomahawk  /eMWYoor3TroQyPw3lNsolnOGqnf.jpg         390  False  False           6.6                en  294963           [27, 37, 12, 18]\n",
      "\n",
      "[380 rows x 13 columns]>\n",
      "<bound method DataFrame.head of                          poster_path                                             title release_date                                           overview  popularity                                    original_title                     backdrop_path  vote_count  video  adult  vote_average original_language      id                   genre_ids\n",
      "0   /s9ye87pvq2IaDvjv9x4IOXVjvA7.jpg                                              Sing   2016-11-23  A koala named Buster recruits his best friend ...   99.310355                                              Sing   /fxDXp8un4qNY9b1dLd7SH6CKzC.jpg        1000  False  False           6.7                en  335797  [16, 35, 18, 10751, 10402]\n",
      "1   /gri0DDxsERr6B2sOR1fGLxLpSLx.jpg           Fantastic Beasts and Where to Find Them   2016-11-16  In 1926, Newt Scamander arrives at the Magical...   50.057262           Fantastic Beasts and Where to Find Them  /kMzU4PkXcKcDMngCxXji0BbVXsu.jpg        3097  False  False           7.0                en  259316                [12, 28, 14]\n",
      "2   /z09QAf8WbZncbitewNk6lKYMZsh.jpg                                      Finding Dory   2016-06-16  Dory is reunited with her friends Nemo and Mar...   40.820013                                      Finding Dory  /iWRKYHTFlsrxQtfQqFOQyceL83P.jpg        2899  False  False           6.7                en  127380         [12, 16, 35, 10751]\n",
      "3   /inVq3FRqcYIRl2la8iZikYYxFNR.jpg                                          Deadpool   2016-02-09  Based upon Marvel Comics’ most unconventional ...   29.195660                                          Deadpool  /n1y094tVDFATSzkTnFxoGZ1qNsG.jpg        7607  False  False           7.3                en  293660         [28, 12, 35, 10749]\n",
      "4   /qjiskwlV1qQzRCjpV0cL9pEMF9a.jpg                      Rogue One: A Star Wars Story   2016-12-14  A rogue band of resistance fighters unite for ...   29.058190                      Rogue One: A Star Wars Story  /tZjVVIYXACV4IIIhXeIM59ytqwS.jpg        2909  False  False           7.3                en  330459        [28, 18, 878, 10752]\n",
      "5    /hLudzvGfpi6JlwUnsNhXwKKg4j.jpg                                           Arrival   2016-11-10  Taking place after alien crafts land around th...   28.281802                                           Arrival  /yIZ1xendyqKvY3FGeeUYUd5X9Mm.jpg        3310  False  False           6.9                en  329865                   [18, 878]\n",
      "6   /4PiiNGXj1KENTmCBHeN6Mskj2Fq.jpg                                    Doctor Strange   2016-10-25  After his career is destroyed, a brilliant but...   26.436442                                    Doctor Strange  /tFI8VLMgSTTU38i8TIsklfqS9Nl.jpg        3206  False  False           6.9                en  284052           [28, 12, 14, 878]\n",
      "7   /kSBXou5Ac7vEqKd97wotJumyJvU.jpg                        Captain America: Civil War   2016-04-27  Following the events of Age of Ultron, the col...   24.507082                        Captain America: Civil War  /m5O3SZvQ6EgD5XXXLPIP1wLppeW.jpg        5104  False  False           6.9                en  271110                   [28, 878]\n",
      "8   /nHXiMnWUAUba2LZ0dFkNDVdvJ1o.jpg                            Underworld: Blood Wars   2016-11-28  Vampire death dealer Selene fends off brutal a...   24.329002                            Underworld: Blood Wars   /PIXSMakrO3s2dqA7mCvAAoVR0E.jpg        1123  False  False           4.9                en  346672                    [28, 27]\n",
      "9   /sM33SANp9z6rXW8Itn7NnG1GOEs.jpg                                          Zootopia   2016-02-11  Determined to prove herself, Officer Judy Hopp...   19.384134                                          Zootopia  /mhdeE1yShHTaDbJVdWyTlzFvNkr.jpg        3253  False  False           7.6                en  269149         [16, 12, 10751, 35]\n",
      "10  /6cbIDZLfwUTmttXTmNi8Mp3Rnmg.jpg                                    Hidden Figures   2016-12-10  The untold story of Katherine G. Johnson, Doro...   18.786310                                    Hidden Figures  /vifqDyPOB6jd5vwP2SIqWNtXUHu.jpg         942  False  False           7.7                en  381284                    [36, 18]\n",
      "11  /bndiUFfJxNd2fYx8XO610L9a07m.jpg                                     Hacksaw Ridge   2016-10-07  WWII American Army Medic Desmond T. Doss, who ...   18.074857                                     Hacksaw Ridge  /zBK4QZONMQXhcgaJv1YYTdCW7q9.jpg        1720  False  False           7.4                en  324786             [18, 36, 10752]\n",
      "12  /5gJkVIVU7FDp7AfRAbPSvvdbre2.jpg                                        Passengers   2016-12-21  A spacecraft traveling to a distant colony pla...   17.534466                                        Passengers  /5EW4TR3fWEqpKsWysNcBMtz9Sgp.jpg        2091  False  False           6.5                en  274870        [12, 18, 10749, 878]\n",
      "13  /tIKFBxBZhSXpIITiiB5Ws8VGXjt.jpg                                  Assassin's Creed   2016-12-21  Through unlocked genetic memories that allow h...   16.687296                                  Assassin's Creed  /r8aRipzR4wlDx0m7Bpi43Q84imc.jpg        1547  False  False           5.3                en  121856           [28, 12, 14, 878]\n",
      "14  /iBGRbLvg6kVc7wbS8wDdVHq6otm.jpg                                              Lion   2016-11-24  A five-year-old Indian boy gets lost on the st...   16.452144                                              Lion  /zaePnCmDgul7jtyn3622gsujEZz.jpg         689  False  False           7.9                en  334543                        [18]\n",
      "15  /zSouWWrySXshPCT4t3UKCQGayyo.jpg                                 X-Men: Apocalypse   2016-05-18  After the re-emergence of the world's first mu...   15.719871                                 X-Men: Apocalypse  /oQWWth5AOtbWG9o8SCAviGcADed.jpg        3248  False  False           6.2                en  246655           [28, 12, 14, 878]\n",
      "16  /7D6hM7IR0TbQmNvSZVtEiPM3H5h.jpg                                 Deepwater Horizon   2016-09-29  A story set on the offshore drilling rig Deepw...   14.388503                                 Deepwater Horizon  /1R2wRq5aZJHMmg3gUlqw2uSdj2t.jpg         961  False  False           6.3                en  296524                        [28]\n",
      "17  /AvekzUdI8HZnImdQulmTTmAZXrC.jpg       Miss Peregrine's Home for Peculiar Children   2016-09-28  A teenager finds himself transported to an isl...   13.779587       Miss Peregrine's Home for Peculiar Children  /9BVHn78oQcFCRd4M3u3NT7OrhTk.jpg        1822  False  False           6.4                en  283366                [18, 14, 12]\n",
      "18  /cDbEiJIRwFcx2GsClJ1hDUY5Vwj.jpg                                      Patriots Day   2016-12-12  An account of Boston Police Commissioner Ed Da...   13.067048                                      Patriots Day  /tiBL4PeaCPKGBz3qO4dJP2KzKop.jpg         245  False  False           6.7                en  388399                [18, 36, 53]\n",
      "19  /afhAUuWVB7k7PjJUd4lwO3rzhSq.jpg                                    The Accountant   2016-10-14  As a math savant uncooks the books for a new c...   12.299747                                    The Accountant  /oNGkVYl9KhqoG90DSfKPWhOadrE.jpg        1429  False  False           6.8                en  302946                [80, 53, 18]\n",
      "20  /mWOotrG1MMKP9iCy2uPepbu27jk.jpg                                           Snowden   2016-09-15  CIA employee Edward Snowden leaks thousands of...   12.138712                                           Snowden  /qzGFm7uF1HExPUAcAPwC3Hzk5WR.jpg         815  False  False           7.0                en  302401                    [18, 53]\n",
      "21  /cGOPbv9wA5gEejkUN892JrveARt.jpg                Batman v Superman: Dawn of Justice   2016-03-23  Fearing the actions of a god-like Super Hero l...   11.700988                Batman v Superman: Dawn of Justice  /vsjBeMPZtyB7yNsYY56XYxifaQZ.jpg        5217  False  False           5.6                en  209112                [28, 12, 14]\n",
      "22   /IfB9hy4JH1eH6HEfIgIGORXi5h.jpg                       Jack Reacher: Never Go Back   2016-10-19  Jack Reacher must uncover the truth behind a m...   11.290020                       Jack Reacher: Never Go Back  /nDS8rddEK74HfAwCC5CoT6Cwzlt.jpg        1375  False  False           5.1                en  343611      [28, 80, 18, 9648, 53]\n",
      "23  /e1mjopzAS2KNsvpbpahQ1a6SkSn.jpg                                     Suicide Squad   2016-08-02  From DC Comics comes the Suicide Squad, an ant...   10.978859                                     Suicide Squad  /34dxtTxMHGKw1njHpTjDqR8UBHd.jpg        5206  False  False           5.9                en  297761           [28, 80, 14, 878]\n",
      "24  /9Moizj8qxcZK6DqEE1MTO3pQAEw.jpg                                 Nocturnal Animals   2016-11-04  Susan Morrow receives a book manuscript from h...   10.935657                                 Nocturnal Animals  /wUnHIzKMngLwVowSDApUV5PFern.jpg        1054  False  False           7.1                en  340666                    [18, 53]\n",
      "25  /eezFoKz7bXgdbjeieeCYJFXPKSu.jpg                                          Why Him?   2016-12-22  Ned, an overprotective dad, visits his daughte...   10.801496                                          Why Him?  /yYL6JJuSxCBtrp9EXGda37A2D6m.jpg         441  False  False           6.4                en  356305                        [35]\n",
      "26  /hU0E130tsGdsYa4K9lc3Xrn5Wyt.jpg                                  Now You See Me 2   2016-06-02  One year after outwitting the FBI and winning ...   10.357316                                  Now You See Me 2  /zrAO2OOa6s6dQMQ7zsUbDyIBrAP.jpg        2104  False  False           6.6                en  291805  [28, 12, 35, 80, 9648, 53]\n",
      "27  /oFOG2yIRcluKfTtYbzz71Vj9bgz.jpg                                           Inferno   2016-10-13  After waking up in a hospital with amnesia, pr...    9.658052                                           Inferno  /anmLLbDx9d98NMZRyVUtxwJR6ab.jpg        1513  False  False           5.6                en  207932                        [53]\n",
      "28  /ylXCdC106IKiarftHkcacasaAcb.jpg                                        La La Land   2016-09-12  Mia, an aspiring actress, serves lattes to mov...    9.477253                                        La La Land  /fp6X6yhgcxzxCpmM0EVC6V9B8XB.jpg        2391  False  False           7.9                en  313369      [35, 18, 10402, 10749]\n",
      "29  /hm0Z5tpRlSzPO97U5e2Q32Y0Xrb.jpg                                    The Great Wall   2016-12-16  European mercenaries searching for black powde...    9.474883                                    The Great Wall  /rym1ecQJVj1NhZnigRePtiusorF.jpg         465  False  False           5.8                en  311324            [28, 12, 14, 53]\n",
      "..                               ...                                               ...          ...                                                ...         ...                                               ...                               ...         ...    ...    ...           ...               ...     ...                         ...\n",
      "70  /iMkl2Akc1f4CSJCieVwczM4KjZR.jpg                                            Jackie   2016-12-02  An account of the days of First Lady, Jacqueli...    5.762157                                            Jackie  /4bHX7nAmjMiZO9eotJITyro0raw.jpg         386  False  False           6.7                en  376866                        [18]\n",
      "71  /4mArxZ74xa07yvCkut5cOgdew3S.jpg                                          Paterson   2016-11-17  Set in the present in Paterson, New Jersey, th...    5.674570                                          Paterson  /drqgpsUrkGmTl5OlPY2O5XNgx4y.jpg         134  False  False           7.2                en  370755             [35, 18, 10749]\n",
      "72  /6FxOPJ9Ysilpq0IgkrMJ7PubFhq.jpg                              The Legend of Tarzan   2016-06-29  Tarzan, having acclimated to life in London, i...    5.534149                              The Legend of Tarzan  /pWNBPN8ghaKtGLcQBMwNyM32Wbm.jpg        1889  False  False           5.4                en  258489                        [12]\n",
      "73  /j8di6S3mUuFe5Yz8etRG8yG5EeE.jpg                              Bridget Jones's Baby   2016-09-14  Breaking up with Mark Darcy leaves Bridget Jon...    5.466477                              Bridget Jones's Baby  /w9VNDcQet0TUoLRWHg8JbT4QjpW.jpg         677  False  False           6.3                en   95610                        [35]\n",
      "74  /u8ynhM5I8D7jG2dUE6KlsOgwYYp.jpg                  Mike and Dave Need Wedding Dates   2016-07-07  Mike and Dave are young, adventurous, fun-lovi...    5.456621                  Mike and Dave Need Wedding Dates  /xt9YBIG1kM5tzxU5miOVwTEq8ao.jpg         602  False  False           5.9                en  316023                 [35, 10749]\n",
      "75  /fqIjExm1RJEkbGPtMBXnP20MmHm.jpg                                  Midnight Special   2016-02-18  A father and son go on the run after the dad l...    5.327356                                  Midnight Special  /sZmsl0OpeWCcbEzOJiygpaH5qhX.jpg         548  False  False           6.2                en  245703               [12, 18, 878]\n",
      "76  /kqSSKIV6hMIMLbU5LkRKJQNQUza.jpg           Mischievous Kiss The Movie: High School   2016-11-25                                                NaN    5.295327                     イタズラなKiss THE MOVIE ～ハイスクール編～  /3t8TinHXBnPoBFKzOPumoM29eTm.jpg           1  False  False           1.0                ja  416252                 [35, 10749]\n",
      "77  /pUwdglql8cbztEink0JCgG1TY28.jpg                                   The Conjuring 2   2016-05-13  Lorraine and Ed Warren travel to north London ...    5.282890                                   The Conjuring 2  /slpgZisYNapLoN9FWXqDOC1ExbU.jpg        1322  False  False           6.8                en  259693                        [27]\n",
      "78  /bjOJFjUffRZQpNQ9g3yvc9F6LBM.jpg                          The Purge: Election Year   2016-06-29  Two years after choosing not to kill the man w...    5.072397                          The Purge: Election Year  /lPhsKTtycmbp6bzJAG662Pd5U3N.jpg         894  False  False           6.0                en  316727                [28, 27, 53]\n",
      "79  /bWUeJHbKIyT306WtJFRHoSzX9nk.jpg                      Neighbors 2: Sorority Rising   2016-05-04  A sorority moves in next door to the home of M...    5.037732                      Neighbors 2: Sorority Rising  /8HuO1RMDI3prfWDkF7t1y8EhLVO.jpg        1014  False  False           5.5                en  325133                        [35]\n",
      "80  /8m0lCMGVLuDod7lL20deiXInMq0.jpg                                             Moana   2016-11-23  In Ancient Polynesia, when a terrible curse in...    4.971466                                             Moana  /6v9KZ5DEwT1cgnpRDbHfS5edXpe.jpg        1904  False  False           7.0                en  277834     [12, 16, 35, 10751, 14]\n",
      "81  /6YOrNBdoXvT8aC5VPLkkN6t5z0V.jpg                                Hell or High Water   2016-08-12  A divorced dad and his ex-con brother resort t...    4.957459                                Hell or High Water  /5GbRKOQSY08U3SQXXcQAKEnL2rE.jpg         825  False  False           7.2                en  338766                [37, 80, 18]\n",
      "82  /utGq0tOcAPjm5DNMMAbDZi0JTik.jpg                                     Live by Night   2016-12-25  A story set in the Prohibition Era and centere...    4.893931                                     Live by Night  /iftv55neRT5GMMFDErjXj4ZXREk.jpg         191  False  False           6.0                en  259695                    [80, 18]\n",
      "83   /lPgISoC37G3E2QEVtSuJ15oYlI.jpg                                       Miss Sloane   2016-11-25  An ambitious lobbyist faces off against the po...    4.854235                                       Miss Sloane  /64xHK6gmw3ZwIpjeSWZ7W686J5l.jpg         114  False  False           6.7                en  376290                    [18, 53]\n",
      "84  /hvQgtEMXzQZDCZkkLFPK6cO1FIy.jpg                           The Autopsy of Jane Doe   2016-12-21  Father and son coroners who receive a mysterio...    4.845525                           The Autopsy of Jane Doe  /m4LtS8NoVvbl57mej9KBg9QT4fg.jpg         242  False  False           6.6                en  397243                  [27, 9648]\n",
      "85  /3Kr9CIIMcXTPlm6cdZ9y3QTe4Y7.jpg                          Kubo and the Two Strings   2016-08-18  Kubo mesmerizes the people in his village with...    4.750686                          Kubo and the Two Strings  /ap3norxI7zbe1KUpU5rCyfhGikb.jpg         575  False  False           7.6                en  313297             [16, 12, 10751]\n",
      "86  /xMvzfhXZdfeLBZZUIQRB4vw1EtA.jpg                                           The BFG   2016-06-01  The BFG is no ordinary bone-crunching giant. H...    4.686227                                           The BFG  /eYT9XQBo1eC4DwPYqhCol0dFFc2.jpg         707  False  False           6.0                en  267935             [12, 10751, 14]\n",
      "87  /ekg8qeNidEQ1ylHeahLtsTLPe2k.jpg                       Keeping Up with the Joneses   2016-10-20  An ordinary suburban couple finds it’s not eas...    4.677886                       Keeping Up with the Joneses  /5TvnPSHJLhgnx1UU5rdUbUuZXjw.jpg         356  False  False           5.9                en  331313                    [28, 35]\n",
      "88  /5BCpxPLyp4wGcTribpZ6WtNkVJ5.jpg  Teenage Mutant Ninja Turtles: Out of the Shadows   2016-06-01  After supervillain Shredder escapes custody, h...    4.637135  Teenage Mutant Ninja Turtles: Out of the Shadows  /999RuhZvog8ocyvcccVV9yGmMjL.jpg         688  False  False           5.7                en  308531            [14, 28, 12, 35]\n",
      "89  /yZFBqealET1TunuVvu4YzcM1orT.jpg                                            Fences   2016-12-16  In 1950s Pittsburgh, a frustrated African-Amer...    4.621279                                            Fences  /jNlCIAcheh0iOuL3kz9x1Wq9WLG.jpg         420  False  False           6.6                en  393457                        [18]\n",
      "90  /8SkoLyL8HOpx2iyngjlxurGQSGX.jpg                                   I, Daniel Blake   2016-10-21  A middle aged carpenter, who requires state we...    4.619999                                   I, Daniel Blake  /l3NbEqQ9i5mkyVAxEYZU0mdYXow.jpg         139  False  False           7.9                en  374473                        [18]\n",
      "91  /lsuLDvhGOR8JZiNHuK6yZWTc3Vs.jpg                                   The Whole Truth   2016-03-25  A defense attorney works to get his teenage cl...    4.587236                                   The Whole Truth  /49xLFrqrU1KIoQpUlixlOhiDbU6.jpg          83  False  False           6.1                en  331583                    [18, 53]\n",
      "92  /qWOkfCgioLEf3Km9OWva93RYWAc.jpg                                    Train to Busan   2016-07-20  Martial law is declared when a mysterious vira...    4.584533                                               부산행  /9q1VHQHua1E06cXQQC1rtPcC9WB.jpg         483  False  False           7.6                ko  396535                [28, 27, 53]\n",
      "93  /8sH6LX06JijKQehWo0iSJtbp446.jpg                                          Bad Moms   2016-07-28  When three overworked and under-appreciated mo...    4.549972                                          Bad Moms  /elPpPBuYB2Zn5wFwz2FSlJlKUjp.jpg         875  False  False           6.2                en  376659                        [35]\n",
      "94  /oqZ0MBWxNrArZpyVqk3QGAA37QL.jpg                                   A Monster Calls   2016-10-07  A boy attempts to deal with his mother's illne...    4.524866                                   A Monster Calls  /xVW8REyVqKwxAtUYY07UGlZH43L.jpg         454  False  False           6.5                en  258230                    [18, 14]\n",
      "95  /sXqrTXcBf9TdIv5rfgeFNu9Iwu7.jpg                                        Lights Out   2016-07-21  When Rebecca left home, she thought she left h...    4.495269                                        Lights Out  /nQsdGCVTEq78XwIgR6QUVxiNERI.jpg         692  False  False           6.2                en  345911                    [27, 53]\n",
      "96  /rCD1wyzdAM2NzoMNn0cgTmnA32Q.jpg                                The Warrior's Gate   2016-11-18  A teenager is magically transported to China a...    4.446855                                The Warrior's Gate  /kZdrRbjuqi2ETjBDIKxvRxnRWVA.jpg          13  False  False           5.7                it  413658                    [28, 12]\n",
      "97  /pksGBk7yJqSuQ2F47S9eoqbtjWt.jpg                                    The Neon Demon   2016-06-08  When aspiring model Jesse moves to Los Angeles...    4.433274                                    The Neon Demon  /dPZDNDS6pE6qjmMxB1Qc6Oza5Nw.jpg         523  False  False           6.3                en  301365                    [53, 27]\n",
      "98  /m4ZfuML89Rq8gbRGdm9ncSibjlx.jpg         13 Hours: The Secret Soldiers of Benghazi   2016-01-13  An American Ambassador is killed during an att...    4.364237         13 Hours: The Secret Soldiers of Benghazi  /cVIb8GGPzASoN9j9z1jIJD942oJ.jpg         725  False  False           7.0                en  300671         [28, 18, 53, 10752]\n",
      "99  /9vavp7kXnLwPGfOfThJwpW0Mk4v.jpg                                20th Century Women   2016-12-25  In 1979 Santa Barbara, California, Dorothea Fi...    4.325991                                20th Century Women  /pgkx3cOHBEFAoRrJ7aOV9zLtDEj.jpg          82  False  False           7.6                en  342737                    [35, 18]\n",
      "\n",
      "[100 rows x 14 columns]>\n"
     ]
    }
   ],
   "source": [
    "# Change WD\n",
    "os.chdir('/Users/AlexandraDing/Desktop/cs109b-best-group')\n",
    "\n",
    "# Import the Datasets\n",
    "top_20_genre = pd.read_csv('movie_by_genres.csv')\n",
    "top_100_2016 = pd.read_csv('top_100_2016_data_with_releasedate.csv')\n",
    "\n",
    "print(top_20_genre.head)\n",
    "print(top_100_2016.head)"
   ]
  },
  {
   "cell_type": "code",
   "execution_count": 10,
   "metadata": {
    "collapsed": false
   },
   "outputs": [
    {
     "name": "stdout",
     "output_type": "stream",
     "text": [
      "Index([u'poster_path', u'title', u'overview', u'popularity', u'original_title', u'backdrop_path', u'vote_count', u'video', u'adult', u'vote_average', u'original_language', u'id', u'genre_ids'], dtype='object')\n",
      "Index([u'poster_path', u'title', u'release_date', u'overview', u'popularity', u'original_title', u'backdrop_path', u'vote_count', u'video', u'adult', u'vote_average', u'original_language', u'id', u'genre_ids'], dtype='object')\n"
     ]
    }
   ],
   "source": [
    "# Get column names\n",
    "print top_20_genre.columns\n",
    "print top_100_2016.columns"
   ]
  },
  {
   "cell_type": "markdown",
   "metadata": {},
   "source": [
    "## Visualization"
   ]
  },
  {
   "cell_type": "code",
   "execution_count": null,
   "metadata": {
    "collapsed": true
   },
   "outputs": [],
   "source": [
    "# Genre by release month\n",
    "\n"
   ]
  }
 ],
 "metadata": {
  "anaconda-cloud": {},
  "kernelspec": {
   "display_name": "Python [conda root]",
   "language": "python",
   "name": "conda-root-py"
  },
  "language_info": {
   "codemirror_mode": {
    "name": "ipython",
    "version": 2
   },
   "file_extension": ".py",
   "mimetype": "text/x-python",
   "name": "python",
   "nbconvert_exporter": "python",
   "pygments_lexer": "ipython2",
   "version": "2.7.12"
  }
 },
 "nbformat": 4,
 "nbformat_minor": 1
}
