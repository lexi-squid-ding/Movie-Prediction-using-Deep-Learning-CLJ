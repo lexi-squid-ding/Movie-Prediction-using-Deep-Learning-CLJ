{
 "cells": [
  {
   "cell_type": "code",
   "execution_count": 4,
   "metadata": {
    "collapsed": false
   },
   "outputs": [],
   "source": [
    "import numpy as np\n",
    "import pandas as pd\n",
    "import imdb\n",
    "from imdb import IMDb"
   ]
  },
  {
   "cell_type": "code",
   "execution_count": 5,
   "metadata": {
    "collapsed": true
   },
   "outputs": [],
   "source": [
    "# read the combined data\n",
    "movie_data = pd.read_csv(\"combined_data_2012to2016.csv\")"
   ]
  },
  {
   "cell_type": "code",
   "execution_count": 48,
   "metadata": {
    "collapsed": false
   },
   "outputs": [
    {
     "data": {
      "text/html": [
       "<div>\n",
       "<table border=\"1\" class=\"dataframe\">\n",
       "  <thead>\n",
       "    <tr style=\"text-align: right;\">\n",
       "      <th></th>\n",
       "      <th>Unnamed: 0</th>\n",
       "      <th>poster_path</th>\n",
       "      <th>title</th>\n",
       "      <th>release_date</th>\n",
       "      <th>overview</th>\n",
       "      <th>popularity</th>\n",
       "      <th>original_title</th>\n",
       "      <th>backdrop_path</th>\n",
       "      <th>vote_count</th>\n",
       "      <th>video</th>\n",
       "      <th>adult</th>\n",
       "      <th>vote_average</th>\n",
       "      <th>original_language</th>\n",
       "      <th>id</th>\n",
       "      <th>genre_ids</th>\n",
       "    </tr>\n",
       "  </thead>\n",
       "  <tbody>\n",
       "    <tr>\n",
       "      <th>0</th>\n",
       "      <td>0</td>\n",
       "      <td>/cezWGskPY5x7GaglTTRN4Fugfb8.jpg</td>\n",
       "      <td>The Avengers</td>\n",
       "      <td>2012-04-25</td>\n",
       "      <td>When an unexpected enemy emerges and threatens...</td>\n",
       "      <td>9.622596</td>\n",
       "      <td>The Avengers</td>\n",
       "      <td>/hbn46fQaRmlpBuUrEiFqv0GDL6Y.jpg</td>\n",
       "      <td>9868</td>\n",
       "      <td>False</td>\n",
       "      <td>False</td>\n",
       "      <td>7.4</td>\n",
       "      <td>en</td>\n",
       "      <td>24428</td>\n",
       "      <td>[878, 28, 12]</td>\n",
       "    </tr>\n",
       "    <tr>\n",
       "      <th>1</th>\n",
       "      <td>1</td>\n",
       "      <td>/w29Guo6FX6fxzH86f8iAbEhQEFC.jpg</td>\n",
       "      <td>The Hobbit: An Unexpected Journey</td>\n",
       "      <td>2012-11-26</td>\n",
       "      <td>Bilbo Baggins, a hobbit enjoying his quiet lif...</td>\n",
       "      <td>8.728019</td>\n",
       "      <td>The Hobbit: An Unexpected Journey</td>\n",
       "      <td>/jjAq3tCezdlQduusgtMhpY2XzW0.jpg</td>\n",
       "      <td>7128</td>\n",
       "      <td>False</td>\n",
       "      <td>False</td>\n",
       "      <td>6.9</td>\n",
       "      <td>en</td>\n",
       "      <td>49051</td>\n",
       "      <td>[12, 14, 28]</td>\n",
       "    </tr>\n",
       "    <tr>\n",
       "      <th>2</th>\n",
       "      <td>2</td>\n",
       "      <td>/dEYnvnUfXrqvqeRSqvIEtmzhoA8.jpg</td>\n",
       "      <td>The Dark Knight Rises</td>\n",
       "      <td>2012-07-16</td>\n",
       "      <td>Following the death of District Attorney Harve...</td>\n",
       "      <td>8.590160</td>\n",
       "      <td>The Dark Knight Rises</td>\n",
       "      <td>/3bgtUfKQKNi3nJsAB5URpP2wdRt.jpg</td>\n",
       "      <td>7605</td>\n",
       "      <td>False</td>\n",
       "      <td>False</td>\n",
       "      <td>7.5</td>\n",
       "      <td>en</td>\n",
       "      <td>49026</td>\n",
       "      <td>[28, 80, 18, 53]</td>\n",
       "    </tr>\n",
       "  </tbody>\n",
       "</table>\n",
       "</div>"
      ],
      "text/plain": [
       "   Unnamed: 0                       poster_path  \\\n",
       "0           0  /cezWGskPY5x7GaglTTRN4Fugfb8.jpg   \n",
       "1           1  /w29Guo6FX6fxzH86f8iAbEhQEFC.jpg   \n",
       "2           2  /dEYnvnUfXrqvqeRSqvIEtmzhoA8.jpg   \n",
       "\n",
       "                               title release_date  \\\n",
       "0                       The Avengers   2012-04-25   \n",
       "1  The Hobbit: An Unexpected Journey   2012-11-26   \n",
       "2              The Dark Knight Rises   2012-07-16   \n",
       "\n",
       "                                            overview  popularity  \\\n",
       "0  When an unexpected enemy emerges and threatens...    9.622596   \n",
       "1  Bilbo Baggins, a hobbit enjoying his quiet lif...    8.728019   \n",
       "2  Following the death of District Attorney Harve...    8.590160   \n",
       "\n",
       "                      original_title                     backdrop_path  \\\n",
       "0                       The Avengers  /hbn46fQaRmlpBuUrEiFqv0GDL6Y.jpg   \n",
       "1  The Hobbit: An Unexpected Journey  /jjAq3tCezdlQduusgtMhpY2XzW0.jpg   \n",
       "2              The Dark Knight Rises  /3bgtUfKQKNi3nJsAB5URpP2wdRt.jpg   \n",
       "\n",
       "   vote_count  video  adult  vote_average original_language     id  \\\n",
       "0        9868  False  False           7.4                en  24428   \n",
       "1        7128  False  False           6.9                en  49051   \n",
       "2        7605  False  False           7.5                en  49026   \n",
       "\n",
       "          genre_ids  \n",
       "0     [878, 28, 12]  \n",
       "1      [12, 14, 28]  \n",
       "2  [28, 80, 18, 53]  "
      ]
     },
     "execution_count": 48,
     "metadata": {},
     "output_type": "execute_result"
    }
   ],
   "source": [
    "movie_data.head(n=3)"
   ]
  },
  {
   "cell_type": "code",
   "execution_count": 13,
   "metadata": {
    "collapsed": false
   },
   "outputs": [
    {
     "data": {
      "text/plain": [
       "'The Avengers'"
      ]
     },
     "execution_count": 13,
     "metadata": {},
     "output_type": "execute_result"
    }
   ],
   "source": [
    "# let's try the first movie\n",
    "title = movie_data[\"title\"][0]\n",
    "title"
   ]
  },
  {
   "cell_type": "code",
   "execution_count": 49,
   "metadata": {
    "collapsed": false
   },
   "outputs": [
    {
     "name": "stdout",
     "output_type": "stream",
     "text": [
      "[<Movie id:0848228[http] title:_The Avengers (2012)_>, <Movie id:0054518[http] title:_\"The Avengers\" (1961)_>, <Movie id:0118661[http] title:_The Avengers (1998)_>, <Movie id:4154756[http] title:_Avengers: Infinity War (2018)_>, <Movie id:2395427[http] title:_Avengers: Age of Ultron (2015)_>, <Movie id:4154796[http] title:_Untitled Avengers Movie (2019)_>, <Movie id:1626038[http] title:_\"The Avengers: Earth's Mightiest Heroes\" (2010)_>, <Movie id:3872762[http] title:_Avengers Assemble in the Playroom (2012) (V)_>, <Movie id:0056174[http] title:_The Avenger (1962)_>, <Movie id:0167779[http] title:_The Avengers (1950)_>, <Movie id:0054257[http] title:_The Avenger (1960)_>, <Movie id:0034639[http] title:_The Avengers (1942)_>, <Movie id:0458339[http] title:_Captain America: The First Avenger (2011)_>, <Movie id:0023773[http] title:_The Avenger (1933)_>, <Movie id:0021630[http] title:_The Avenger (1931)_>, <Movie id:2378453[http] title:_Avenged (2013)_>, <Movie id:0491703[http] title:_Ultimate Avengers (2006) (V)_>, <Movie id:0014688[http] title:_The Avenger (1924)_>, <Movie id:2455546[http] title:_\"Avengers Assemble\" (2013)_>, <Movie id:0006386[http] title:_The Avenger (1915)_>]\n"
     ]
    }
   ],
   "source": [
    "# search by keywords\n",
    "ia = IMDb()\n",
    "\n",
    "the_matrix = ia.search_movie(title)\n",
    "print the_matrix"
   ]
  },
  {
   "cell_type": "code",
   "execution_count": 50,
   "metadata": {
    "collapsed": false
   },
   "outputs": [
    {
     "name": "stdout",
     "output_type": "stream",
     "text": [
      "[<Person id:0342250[http] name:_Grimes, Todd_>, <Person id:3627556[http] name:_Bernardo, Ariel_>, <Person id:1131057[http] name:_Simotas, Nick_>, <Person id:2017755[http] name:_Sullivan, T.J._>]\n"
     ]
    }
   ],
   "source": [
    "# the first movie in the list\n",
    "the_matrix_2 = ia.get_movie('2362866')\n",
    "print the_matrix_2[\"director\"]"
   ]
  },
  {
   "cell_type": "code",
   "execution_count": 30,
   "metadata": {
    "collapsed": false
   },
   "outputs": [
    {
     "data": {
      "text/plain": [
       "[u'music department',\n",
       " 'sound crew',\n",
       " 'camera and electrical department',\n",
       " u'distributors',\n",
       " 'rating',\n",
       " 'runtimes',\n",
       " 'costume designer',\n",
       " u'thanks',\n",
       " 'make up',\n",
       " 'year',\n",
       " 'production design',\n",
       " 'miscellaneous crew',\n",
       " 'color info',\n",
       " u'casting department',\n",
       " 'languages',\n",
       " 'votes',\n",
       " 'producer',\n",
       " 'title',\n",
       " 'mpaa',\n",
       " 'assistant director',\n",
       " 'writer',\n",
       " 'casting director',\n",
       " 'visual effects',\n",
       " 'production manager',\n",
       " 'set decoration',\n",
       " 'editor',\n",
       " 'certificates',\n",
       " u'costume department',\n",
       " 'country codes',\n",
       " 'language codes',\n",
       " 'cover url',\n",
       " u'special effects department',\n",
       " 'special effects companies',\n",
       " 'sound mix',\n",
       " u'location management',\n",
       " 'genres',\n",
       " 'director',\n",
       " 'stunt performer',\n",
       " 'miscellaneous companies',\n",
       " 'cinematographer',\n",
       " 'art direction',\n",
       " 'akas',\n",
       " 'aspect ratio',\n",
       " u'production companies',\n",
       " 'kind',\n",
       " u'art department',\n",
       " 'countries',\n",
       " u'transportation department',\n",
       " 'plot outline',\n",
       " 'plot',\n",
       " 'cast',\n",
       " u'animation department',\n",
       " 'original music',\n",
       " u'editorial department']"
      ]
     },
     "execution_count": 30,
     "metadata": {},
     "output_type": "execute_result"
    }
   ],
   "source": [
    "# information returned in the dict\n",
    "the_matrix_2.data.keys()"
   ]
  },
  {
   "cell_type": "code",
   "execution_count": 52,
   "metadata": {
    "collapsed": false
   },
   "outputs": [
    {
     "data": {
      "text/plain": [
       "[<Person id:0342250[http] name:_Grimes, Todd_>]"
      ]
     },
     "execution_count": 52,
     "metadata": {},
     "output_type": "execute_result"
    }
   ],
   "source": [
    "the_matrix_2.data[\"cast\"]"
   ]
  }
 ],
 "metadata": {
  "anaconda-cloud": {},
  "kernelspec": {
   "display_name": "Python [Root]",
   "language": "python",
   "name": "Python [Root]"
  },
  "language_info": {
   "codemirror_mode": {
    "name": "ipython",
    "version": 2
   },
   "file_extension": ".py",
   "mimetype": "text/x-python",
   "name": "python",
   "nbconvert_exporter": "python",
   "pygments_lexer": "ipython2",
   "version": "2.7.12"
  }
 },
 "nbformat": 4,
 "nbformat_minor": 0
}
