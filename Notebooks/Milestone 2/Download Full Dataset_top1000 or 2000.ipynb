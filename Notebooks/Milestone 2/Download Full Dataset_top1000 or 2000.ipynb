{
 "cells": [
  {
   "cell_type": "markdown",
   "metadata": {},
   "source": [
    "# Download 5 Years Data (2011-2016)"
   ]
  },
  {
   "cell_type": "markdown",
   "metadata": {},
   "source": [
    "Downloads top 1000 or top 2000 movies of years 2011-2016, bypassing some encoding errors - AD"
   ]
  },
  {
   "cell_type": "code",
   "execution_count": 21,
   "metadata": {
    "collapsed": true
   },
   "outputs": [],
   "source": [
    "import numpy as np\n",
    "import scipy as sp\n",
    "import matplotlib as mpl\n",
    "import matplotlib.cm as cm\n",
    "import matplotlib.pyplot as plt\n",
    "import seaborn as sns # Seaborn visualization package\n",
    "import pandas as pd\n",
    "import time\n",
    "import re # Regex\n",
    "import collections\n",
    "\n",
    "# File reading things\n",
    "import pickle\n",
    "import json\n",
    "import csv\n",
    "import datetime # For handling dates\n",
    "\n",
    "# The \"requests\" library makes working with HTTP requests easier\n",
    "import requests\n",
    "import os\n",
    "from bs4 import BeautifulSoup\n",
    "from IPython.display import Image, display # Display image from URL\n",
    "from IPython.core.display import HTML # Display image from URL\n",
    "\n",
    "# TMDB API wrapper\n",
    "import tmdbsimple as tmdb\n",
    "\n",
    "# IMDB access\n",
    "import imdb\n",
    "\n",
    "# Display options\n",
    "pd.set_option('display.width', 500)\n",
    "pd.set_option('display.max_columns', 100)\n",
    "pd.set_option('display.notebook_repr_html', True)\n",
    "%matplotlib inline"
   ]
  },
  {
   "cell_type": "code",
   "execution_count": 3,
   "metadata": {
    "collapsed": false
   },
   "outputs": [],
   "source": [
    "# ml = [None] * int( sum(n_pages_year)) * len(release_year_range)\n",
    "# print ml"
   ]
  },
  {
   "cell_type": "code",
   "execution_count": 28,
   "metadata": {
    "collapsed": false
   },
   "outputs": [
    {
     "name": "stdout",
     "output_type": "stream",
     "text": [
      "0\n",
      "1\n",
      "2\n",
      "3\n",
      "4\n",
      "5\n",
      "https://api.themoviedb.org/3/discover/movie?api_key=ee0df3ce88063f7f6cd466ff61266a55&language=en-US&sort_by=popularity.desc&include_adult=false&include_video=false&page=100&primary_release_year=2016&with_original_language=en\n"
     ]
    }
   ],
   "source": [
    "os.chdir('/Users/AlexandraDing/Desktop')\n",
    "\n",
    "### Viewing metadata and downloading poster using tmdbsimple API wrapper\n",
    "# My API key (Lexi)\n",
    "tmdb.API_KEY = 'ee0df3ce88063f7f6cd466ff61266a55'\n",
    "\n",
    "release_year_range = range(2011,2017)\n",
    "\n",
    "# # check the number of pages\n",
    "# n_pages_year = np.zeros((len(release_year_range)))\n",
    "\n",
    "# for i in range(len(release_year_range)):\n",
    "#     release_year = release_year_range[i]\n",
    "#     url ='https://api.themoviedb.org/3/discover/movie?api_key=ee0df3ce88063f7f6cd466ff61266a55&language=en-US&sort_by=popularity.desc&include_adult=false&include_video=false&page=1&primary_release_year=' + str(release_year) + '&with_original_language=en'\n",
    "#     response_page = requests.get(url)\n",
    "#     response_json = response_page.json()\n",
    "    \n",
    "#     n_pages_year[i] = response_json['total_pages']\n",
    "\n",
    "# set the number of pages to download from each year\n",
    "n_pages_per_year = 50\n",
    "n_pages_per_year = 100\n",
    "    \n",
    "# Create empty list to store\n",
    "# movies_list = [None] * int( sum(n_pages_year)) * len(release_year_range)\n",
    "movies_list = [None] * n_pages_per_year * len(release_year_range)\n",
    "\n",
    "# Index to movie number\n",
    "ind = 0\n",
    "for i in range(len(release_year_range)):\n",
    "    release_year = int(release_year_range[i])\n",
    "    page_ns = n_pages_per_year\n",
    "    for page_n in range(1, page_ns + 1):\n",
    "        url ='https://api.themoviedb.org/3/discover/movie?api_key=ee0df3ce88063f7f6cd466ff61266a55&language=en-US&sort_by=popularity.desc&include_adult=false&include_video=false&page='+ str(page_n)+ '&primary_release_year=' + str(release_year) + '&with_original_language=en'\n",
    "        response_page = requests.get(url)\n",
    "        movies_list[ind] = response_page.json()\n",
    "\n",
    "        # pause for 1 sec\n",
    "        time.sleep(0.3)\n",
    "        ind = ind + 1\n",
    "    print i\n",
    "\n",
    "print(url)"
   ]
  },
  {
   "cell_type": "code",
   "execution_count": 29,
   "metadata": {
    "collapsed": false
   },
   "outputs": [
    {
     "data": {
      "text/plain": [
       "600"
      ]
     },
     "execution_count": 29,
     "metadata": {},
     "output_type": "execute_result"
    }
   ],
   "source": [
    "# type(page_ns)\n",
    "len(movies_list)"
   ]
  },
  {
   "cell_type": "code",
   "execution_count": 30,
   "metadata": {
    "collapsed": false
   },
   "outputs": [
    {
     "data": {
      "text/plain": [
       "[{u'adult': False,\n",
       "  u'backdrop_path': u'/ftgPQvQCKP4IBd0jA7HJRDWqlmu.jpg',\n",
       "  u'genre_ids': [28, 35],\n",
       "  u'id': 87826,\n",
       "  u'original_language': u'en',\n",
       "  u'original_title': u'Here Comes the Boom',\n",
       "  u'overview': u\"A high school biology teacher moonlights as a mixed-martial arts fighter in an effort to raise money to save the school's music program.\",\n",
       "  u'popularity': 2.635435,\n",
       "  u'poster_path': u'/sB7UeSr1D4uIhTm76GdtA1e7F0t.jpg',\n",
       "  u'release_date': u'2012-10-11',\n",
       "  u'title': u'Here Comes the Boom',\n",
       "  u'video': False,\n",
       "  u'vote_average': 6,\n",
       "  u'vote_count': 508},\n",
       " {u'adult': False,\n",
       "  u'backdrop_path': u'/asTq74kXjslx8A13qDTVdzvyJ8.jpg',\n",
       "  u'genre_ids': [18, 53],\n",
       "  u'id': 127517,\n",
       "  u'original_language': u'en',\n",
       "  u'original_title': u'Disconnect',\n",
       "  u'overview': u'Disconnect interweaves multiple storylines about people searching for human connection in today\\u2019s wired world. Through poignant turns that are both harrowing and touching, the stories intersect with surprising twists that expose a shocking reality into our daily use of technology that mediates and defines our relationships and ultimately our lives.',\n",
       "  u'popularity': 2.620095,\n",
       "  u'poster_path': u'/kTLcEBTPzptlBP8auLRlK8KTKvV.jpg',\n",
       "  u'release_date': u'2012-09-11',\n",
       "  u'title': u'Disconnect',\n",
       "  u'video': False,\n",
       "  u'vote_average': 6.9,\n",
       "  u'vote_count': 379},\n",
       " {u'adult': False,\n",
       "  u'backdrop_path': u'/vbDjhQ1PBf3kcbxJKVDqaZuil87.jpg',\n",
       "  u'genre_ids': [53, 35, 80],\n",
       "  u'id': 162145,\n",
       "  u'original_language': u'en',\n",
       "  u'original_title': u'The Liability',\n",
       "  u'overview': u\"When 19-year-old Adam agrees to do a day's driving for his mum's gangster boyfriend Peter, it takes him on a 24-hour journey into a nightmarish world of murder, sex trafficking and revenge, in the company of aging hit man Roy.\",\n",
       "  u'popularity': 2.60556,\n",
       "  u'poster_path': u'/wpjO1o7dav8ZTPJg0CiuXL5C7DF.jpg',\n",
       "  u'release_date': u'2012-11-24',\n",
       "  u'title': u'The Liability',\n",
       "  u'video': False,\n",
       "  u'vote_average': 5.6,\n",
       "  u'vote_count': 75},\n",
       " {u'adult': False,\n",
       "  u'backdrop_path': u'/yJT2JCdjtuH5K202bC4YL0wOYD2.jpg',\n",
       "  u'genre_ids': [16, 12, 10751, 35],\n",
       "  u'id': 72197,\n",
       "  u'original_language': u'en',\n",
       "  u'original_title': u'The Pirates! In an Adventure with Scientists!',\n",
       "  u'overview': u'In The Pirates! Band of Misfits, Hugh Grant stars in his first animated role as the luxuriantly bearded Pirate Captain \\u2013 a boundlessly enthusiastic, if somewhat less-than-successful, terror of the High Seas. With a rag-tag crew at his side (Martin Freeman, Brendan Gleeson, Russell Tovey, and Ashley Jensen), and seemingly blind to the impossible odds stacked against him, the Captain has one dream: to beat his bitter rivals Black Bellamy (Jeremy Piven) and Cutlass Liz (Salma Hayek) to the much coveted Pirate Of The Year Award. It\\u2019s a quest that takes our heroes from the shores of exotic Blood Island to the foggy streets of Victorian London. Along the way they battle a diabolical queen (Imelda Staunton) and team up with a haplessly smitten young scientist (David Tennant), but never lose sight of what a pirate loves best: adventure!',\n",
       "  u'popularity': 2.603221,\n",
       "  u'poster_path': u'/z3abtsVuypFShFkfvTOjzATkeg9.jpg',\n",
       "  u'release_date': u'2012-03-12',\n",
       "  u'title': u'The Pirates! Band of Misfits',\n",
       "  u'video': False,\n",
       "  u'vote_average': 6.4,\n",
       "  u'vote_count': 301},\n",
       " {u'adult': False,\n",
       "  u'backdrop_path': u'/Yavh2wmlZKFcqT4VIr2i4OZ4lZ.jpg',\n",
       "  u'genre_ids': [80, 28, 53],\n",
       "  u'id': 49526,\n",
       "  u'original_language': u'en',\n",
       "  u'original_title': u'Premium Rush',\n",
       "  u'overview': u'In Manhattan, a bike messenger picks up an envelope that attracts the interest of a dirty cop, who pursues the cyclist throughout the city.',\n",
       "  u'popularity': 2.593391,\n",
       "  u'poster_path': u'/khfyc8Yeub0JvD9kk29vqYsPsIi.jpg',\n",
       "  u'release_date': u'2012-08-24',\n",
       "  u'title': u'Premium Rush',\n",
       "  u'video': False,\n",
       "  u'vote_average': 6.2,\n",
       "  u'vote_count': 726},\n",
       " {u'adult': False,\n",
       "  u'backdrop_path': u'/haOTy0A9tMaoEEWdoaGavBnPQfY.jpg',\n",
       "  u'genre_ids': [18, 10752],\n",
       "  u'id': 72976,\n",
       "  u'original_language': u'en',\n",
       "  u'original_title': u'Lincoln',\n",
       "  u'overview': u\"A revealing drama that focuses on the 16th President's tumultuous final months in office. In a nation divided by war and the strong winds of change, Lincoln pursues a course of action designed to end the war, unite the country and abolish slavery. With the moral courage and fierce determination to succeed, his choices during this critical moment will change the fate of generations to come.\",\n",
       "  u'popularity': 2.581764,\n",
       "  u'poster_path': u'/gkkiDu9srCCbCMxGKwNwKCxK7KF.jpg',\n",
       "  u'release_date': u'2012-11-09',\n",
       "  u'title': u'Lincoln',\n",
       "  u'video': False,\n",
       "  u'vote_average': 6.7,\n",
       "  u'vote_count': 1215},\n",
       " {u'adult': False,\n",
       "  u'backdrop_path': u'/aJh5rFH6jQRqvZyd0HR8BMiHhRn.jpg',\n",
       "  u'genre_ids': [28, 35, 10749],\n",
       "  u'id': 59962,\n",
       "  u'original_language': u'en',\n",
       "  u'original_title': u'This Means War',\n",
       "  u'overview': u'Two top CIA operatives wage an epic battle against one another after they discover they are dating the same woman.',\n",
       "  u'popularity': 2.579449,\n",
       "  u'poster_path': u'/8eqEw3NGdqAfGtHyCTiuoMb4RrM.jpg',\n",
       "  u'release_date': u'2012-02-14',\n",
       "  u'title': u'This Means War',\n",
       "  u'video': False,\n",
       "  u'vote_average': 5.9,\n",
       "  u'vote_count': 1182},\n",
       " {u'adult': False,\n",
       "  u'backdrop_path': u'/ekYPwJAGj7FQDL9eb17rlujFf3H.jpg',\n",
       "  u'genre_ids': [35],\n",
       "  u'id': 84203,\n",
       "  u'original_language': u'en',\n",
       "  u'original_title': u'Goats',\n",
       "  u'overview': u'Having a self-absorbed New Age mother and an estranged father means 15-year-old Ellis Whitman has grown up relying on an unconventional guardian: a goat-trekking, marijuana-growing sage called Goat Man. So when Ellis decides to leave the alternative ways of his desert homestead for a stuffy East Coast prep school, major changes are in store. But not in the way you\\u2019d think. Though often stoned, the exceedingly smart and capable Ellis effortlessly aces school and excels at track. As the year progresses, it\\u2019s his relationships with the adults in his life that test him, challenging his beliefs about responsibility and trustworthiness.',\n",
       "  u'popularity': 2.568056,\n",
       "  u'poster_path': u'/AeSsI2mifvYmwpOJvY7B5DJDmqA.jpg',\n",
       "  u'release_date': u'2012-08-10',\n",
       "  u'title': u'Goats',\n",
       "  u'video': False,\n",
       "  u'vote_average': 5.3,\n",
       "  u'vote_count': 26},\n",
       " {u'adult': False,\n",
       "  u'backdrop_path': u'/cWHOiGw3JxKok3BdqFlxSmLKZ1O.jpg',\n",
       "  u'genre_ids': [35, 10749],\n",
       "  u'id': 77875,\n",
       "  u'original_language': u'en',\n",
       "  u'original_title': u'Playing for Keeps',\n",
       "  u'overview': u\"A former sports star who's fallen on hard times starts coaching his son's soccer team in an attempt to get his life together.\",\n",
       "  u'popularity': 2.564731,\n",
       "  u'poster_path': u'/eOBekVFBGK4TwETQSwfuk22B41o.jpg',\n",
       "  u'release_date': u'2012-11-29',\n",
       "  u'title': u'Playing for Keeps',\n",
       "  u'video': False,\n",
       "  u'vote_average': 5.4,\n",
       "  u'vote_count': 203},\n",
       " {u'adult': False,\n",
       "  u'backdrop_path': u'/lOGKmhoTWDIvmlQlX7vMSzL3f6R.jpg',\n",
       "  u'genre_ids': [35, 10749, 878, 18],\n",
       "  u'id': 84332,\n",
       "  u'original_language': u'en',\n",
       "  u'original_title': u'Safety Not Guaranteed',\n",
       "  u'overview': u'Three magazine employees head out on an assignment to interview a guy who placed a classified ad seeking a companion for time travel.',\n",
       "  u'popularity': 2.551414,\n",
       "  u'poster_path': u'/18jsp9dpGnpIluiCLwrFv75pIZR.jpg',\n",
       "  u'release_date': u'2012-06-08',\n",
       "  u'title': u'Safety Not Guaranteed',\n",
       "  u'video': False,\n",
       "  u'vote_average': 6.8,\n",
       "  u'vote_count': 469},\n",
       " {u'adult': False,\n",
       "  u'backdrop_path': u'/88h0IfkoTFTQ9P7AwDVpGYXFsrz.jpg',\n",
       "  u'genre_ids': [53, 28, 878, 27, 9648],\n",
       "  u'id': 122857,\n",
       "  u'original_language': u'en',\n",
       "  u'original_title': u'Universal Soldier: Day of Reckoning',\n",
       "  u'overview': u'In a world without government, the surviving Unisols maintain order and choose the strongest of their ranks to rule, testing them in life-or-death combat.',\n",
       "  u'popularity': 2.544826,\n",
       "  u'poster_path': u'/2vFlwNhV9HgbjfYZaEhRPfNwSuW.jpg',\n",
       "  u'release_date': u'2012-10-04',\n",
       "  u'title': u'Universal Soldier: Day of Reckoning',\n",
       "  u'video': False,\n",
       "  u'vote_average': 5.1,\n",
       "  u'vote_count': 113},\n",
       " {u'adult': False,\n",
       "  u'backdrop_path': u'/9HI6hGuuVKuBZIRZADlIS5lkL6R.jpg',\n",
       "  u'genre_ids': [28, 53],\n",
       "  u'id': 138376,\n",
       "  u'original_language': u'en',\n",
       "  u'original_title': u'A Dark Truth',\n",
       "  u'overview': u\"In the jungles of Ecuador, blood taints the waters. A multinational conglomerate's unholy alliance with a bloodthirsty military regime has resulted in a massacre. Only the rebel Francisco Franco and his determined wife Mia can prove the truth. To settle a personal debt, former CIA agent Jack Begosian takes on the freelance assignment to rescue Francisco and risks everything in a brutal battle to expose the cover-up.\",\n",
       "  u'popularity': 2.543468,\n",
       "  u'poster_path': u'/2Du5BxeUDjS6fYmZkg1vdPE2JMa.jpg',\n",
       "  u'release_date': u'2012-11-29',\n",
       "  u'title': u'A Dark Truth',\n",
       "  u'video': False,\n",
       "  u'vote_average': 5.6,\n",
       "  u'vote_count': 27},\n",
       " {u'adult': False,\n",
       "  u'backdrop_path': u'/hAQ6V21C8EhTaEVuF8Rq054yqTj.jpg',\n",
       "  u'genre_ids': [80, 18, 53],\n",
       "  u'id': 82525,\n",
       "  u'original_language': u'en',\n",
       "  u'original_title': u'Savages',\n",
       "  u'overview': u'Pot growers Ben and Chon face off against the Mexican drug cartel who kidnapped their shared girlfriend.',\n",
       "  u'popularity': 2.511979,\n",
       "  u'poster_path': u'/ecN4PGSU6zhYlAUL8Jh4qyE2um9.jpg',\n",
       "  u'release_date': u'2012-07-06',\n",
       "  u'title': u'Savages',\n",
       "  u'video': False,\n",
       "  u'vote_average': 6.2,\n",
       "  u'vote_count': 633},\n",
       " {u'adult': False,\n",
       "  u'backdrop_path': u'/t2qDw8mZlwIvdBVOBogRnFdL018.jpg',\n",
       "  u'genre_ids': [28, 53, 878],\n",
       "  u'id': 81796,\n",
       "  u'original_language': u'en',\n",
       "  u'original_title': u'Lockout',\n",
       "  u'overview': u\"Set in the near future, Lockout follows a falsely convicted ex-government agent , whose one chance at obtaining freedom lies in the dangerous mission of rescuing the President's daughter from rioting convicts at an outer space maximum security prison.\",\n",
       "  u'popularity': 2.505231,\n",
       "  u'poster_path': u'/rE1AMAaUVuzKcPwv3CR8KC0Pv0n.jpg',\n",
       "  u'release_date': u'2012-04-12',\n",
       "  u'title': u'Lockout',\n",
       "  u'video': False,\n",
       "  u'vote_average': 5.8,\n",
       "  u'vote_count': 600},\n",
       " {u'adult': False,\n",
       "  u'backdrop_path': u'/mIOWtdsUg9VZXVMwVdO30TejAxn.jpg',\n",
       "  u'genre_ids': [28, 35, 878],\n",
       "  u'id': 10679,\n",
       "  u'original_language': u'en',\n",
       "  u'original_title': u'Iron Sky',\n",
       "  u'overview': u'In the last moments of World War II, a secret Nazi space program evaded destruction by fleeing to the Dark Side of the Moon. During 70 years of utter secrecy, the Nazis construct a gigantic space fortress with a massive armada of flying saucers.',\n",
       "  u'popularity': 2.497494,\n",
       "  u'poster_path': u'/4qyVtcCFqrlLMgHtlyxP57PI3ls.jpg',\n",
       "  u'release_date': u'2012-03-10',\n",
       "  u'title': u'Iron Sky',\n",
       "  u'video': False,\n",
       "  u'vote_average': 5.6,\n",
       "  u'vote_count': 461},\n",
       " {u'adult': False,\n",
       "  u'backdrop_path': u'/iol2mmfheqTk9AmQXwmgCwKYHm7.jpg',\n",
       "  u'genre_ids': [28, 53, 80],\n",
       "  u'id': 49527,\n",
       "  u'original_language': u'en',\n",
       "  u'original_title': u'Man on a Ledge',\n",
       "  u'overview': u'An ex-cop turned con threatens to jump to his death from a Manhattan hotel rooftop. The NYPD dispatch a female police psychologist to talk him down. However, unbeknownst to the police on the scene, the suicide attempt is a cover for the biggest diamond heist ever pulled.',\n",
       "  u'popularity': 2.481754,\n",
       "  u'poster_path': u'/ssl4ZcThbMtEPNBEXmWpSgtT9xK.jpg',\n",
       "  u'release_date': u'2012-01-13',\n",
       "  u'title': u'Man on a Ledge',\n",
       "  u'video': False,\n",
       "  u'vote_average': 6.2,\n",
       "  u'vote_count': 758},\n",
       " {u'adult': False,\n",
       "  u'backdrop_path': u'/hZ2TGfo6yAh3KUBLKj59CKH0NRd.jpg',\n",
       "  u'genre_ids': [35, 10749],\n",
       "  u'id': 84174,\n",
       "  u'original_language': u'en',\n",
       "  u'original_title': u'Bachelorette',\n",
       "  u'overview': u'Three friends are asked to be bridesmaids at a wedding of a woman they used to ridicule back in high school.',\n",
       "  u'popularity': 2.474062,\n",
       "  u'poster_path': u'/4lbsAlqCqXgocPdWuN6C95x2KC.jpg',\n",
       "  u'release_date': u'2012-08-06',\n",
       "  u'title': u'Bachelorette',\n",
       "  u'video': False,\n",
       "  u'vote_average': 5.3,\n",
       "  u'vote_count': 358},\n",
       " {u'adult': False,\n",
       "  u'backdrop_path': u'/dLshMmcp3CY6z703jWCXqmtdwKV.jpg',\n",
       "  u'genre_ids': [35],\n",
       "  u'id': 76489,\n",
       "  u'original_language': u'en',\n",
       "  u'original_title': u'The Three Stooges',\n",
       "  u'overview': u'While trying to save their childhood orphanage, Moe, Larry and Curly inadvertently stumble into a murder plot and wind up starring in a reality TV show.',\n",
       "  u'popularity': 2.470668,\n",
       "  u'poster_path': u'/gQxerRSIpqS5X9nAM7G5wlxWPB8.jpg',\n",
       "  u'release_date': u'2012-04-13',\n",
       "  u'title': u'The Three Stooges',\n",
       "  u'video': False,\n",
       "  u'vote_average': 4.9,\n",
       "  u'vote_count': 111},\n",
       " {u'adult': False,\n",
       "  u'backdrop_path': u'/99CtGAHqv5axvqMcu7WEGvhh56d.jpg',\n",
       "  u'genre_ids': [35, 18, 53],\n",
       "  u'id': 155776,\n",
       "  u'original_language': u'en',\n",
       "  u'original_title': u'Heroes and Demons',\n",
       "  u'overview': u'Gripping thriller drama with fantastic all-star cast: Six different stories about crooks, misfits, heroes and their determination to overcome the destiny. Stories about intolerance, hopelessness, betrayal, despair, and the unpredictable.',\n",
       "  u'popularity': 2.452988,\n",
       "  u'poster_path': u'/6B9qAYp5Zlu13v4stZuU8J4gLC0.jpg',\n",
       "  u'release_date': u'2012-12-12',\n",
       "  u'title': u'Heroes and Demons',\n",
       "  u'video': False,\n",
       "  u'vote_average': 4.7,\n",
       "  u'vote_count': 3},\n",
       " {u'adult': False,\n",
       "  u'backdrop_path': u'/wQAwqf2VgSJRyU7u8vNDWl6qXQf.jpg',\n",
       "  u'genre_ids': [35],\n",
       "  u'id': 88042,\n",
       "  u'original_language': u'en',\n",
       "  u'original_title': u'Parental Guidance',\n",
       "  u'overview': u\"Artie and Diane agree to look after their three grandkids when their type-A helicopter parents need to leave town for work. Problems arise when the kids' 21st-century behavior collides with Artie and Diane's old-school methods.\",\n",
       "  u'popularity': 2.45294,\n",
       "  u'poster_path': u'/1uHA1xOzrQczAmXvs4ji3XmKG6b.jpg',\n",
       "  u'release_date': u'2012-12-25',\n",
       "  u'title': u'Parental Guidance',\n",
       "  u'video': False,\n",
       "  u'vote_average': 5.7,\n",
       "  u'vote_count': 188}]"
      ]
     },
     "execution_count": 30,
     "metadata": {},
     "output_type": "execute_result"
    }
   ],
   "source": [
    "os.chdir('/Users/AlexandraDing/Desktop')\n",
    "\n",
    "pickle.dump(movies_list, open('movies_list_2011_2016_pickled_top_100pg.p', 'wb'))\n",
    "movies_list = pickle.load(open('movies_list_2011_2016_pickled_top_100pg.p', 'rb'))\n",
    "len(movies_list)\n",
    "movies_list[104]['results']"
   ]
  },
  {
   "cell_type": "code",
   "execution_count": 13,
   "metadata": {
    "collapsed": false
   },
   "outputs": [],
   "source": [
    "movies_list_encode = movies_list\n",
    "\n",
    "# for i in range(len(movies_list_encode)):\n",
    "#     movies_list_encode[i] = {str(k):(str(v) if isinstance(v, unicode) else v) for k,v in movies_list[i].items()}\n",
    "# # {str(k):(str(v) if isinstance(v, unicode) else v) for k,v in movies_list[1].items()}"
   ]
  },
  {
   "cell_type": "code",
   "execution_count": 16,
   "metadata": {
    "collapsed": false
   },
   "outputs": [],
   "source": [
    "# # file_name = 'top_1000_from' + release_year + '_data_with_releasedate.csv'\n",
    "\n",
    "# file_name = 'top50pg_movies_from_2011_2016_data.csv'\n",
    "\n",
    "# movies_list_encode = movies_list\n",
    "\n",
    "# errs = 0\n",
    "# ### Save json contents as CSV\n",
    "# with open(file_name, \"w\") as file:\n",
    "#     csv_file = csv.writer(file)  \n",
    "#     # Add column names\n",
    "#     csv_file.writerow(['poster_path', 'title', 'release_date', 'overview', 'popularity', 'original_title', 'backdrop_path',\n",
    "#                        'vote_count', 'video', 'adult', 'vote_average', 'original_language', 'id', 'genre_ids'])\n",
    "#     # For each item in list, get attributes of movie\n",
    "#     for i in range(len(movies_list)):\n",
    "#         # Encode movies_list label as utf-8\n",
    "#         movies_list_encode[i] = {str(k):(str(v) if isinstance(v, unicode) else v) for k,v in movies_list[i].items()}\n",
    "#         for item in movies_list_encode[i]['results']:\n",
    "#             csv_file.writerow([item['poster_path'], item['title'].encode('utf8', 'ignore'), item['release_date'], item['overview'].encode(\"utf8\", \"ignore\"), \n",
    "#                    item['popularity'], item['original_title'].encode(\"utf8\", 'ignore'), item['backdrop_path'], \n",
    "#                    item['vote_count'], item['video'], item['adult'], item['vote_average'], \n",
    "#                    item['original_language'], item['id'], item['genre_ids']])"
   ]
  },
  {
   "cell_type": "code",
   "execution_count": 31,
   "metadata": {
    "collapsed": false
   },
   "outputs": [
    {
     "data": {
      "text/plain": [
       "{u'status_code': 25,\n",
       " u'status_message': u'Your request count (41) is over the allowed limit of 40.'}"
      ]
     },
     "execution_count": 31,
     "metadata": {},
     "output_type": "execute_result"
    }
   ],
   "source": [
    "movies_list_encode[40]"
   ]
  },
  {
   "cell_type": "code",
   "execution_count": 19,
   "metadata": {
    "collapsed": false
   },
   "outputs": [
    {
     "name": "stdout",
     "output_type": "stream",
     "text": [
      "error at 40\n",
      "error at 41\n",
      "error at 42\n",
      "error at 43\n",
      "error at 161\n",
      "error at 162\n",
      "error at 203\n",
      "error at 244\n",
      "error at 245\n",
      "error at 286\n",
      "error at 287\n",
      "error at 288\n",
      "error at 289\n",
      "error at 330\n",
      "error at 371\n",
      "error at 412\n",
      "error at 413\n",
      "error at 454\n",
      "error at 495\n",
      "error at 496\n",
      "error at 497\n",
      "error at 498\n",
      "error at 575\n",
      "error at 576\n"
     ]
    }
   ],
   "source": [
    "for i in range(len(movies_list_encode)):\n",
    "    try:\n",
    "        movies_list_encode[i]['results']\n",
    "    except:\n",
    "        print 'error at ' + str(i)"
   ]
  },
  {
   "cell_type": "code",
   "execution_count": 32,
   "metadata": {
    "collapsed": false
   },
   "outputs": [],
   "source": [
    "# file_name = 'top50pg_movies_from_2011_2016_data.csv'\n",
    "file_name = 'top100pg_movies_from_2011_2016_data.csv'\n",
    "\n",
    "movies_list_encode = movies_list\n",
    "\n",
    "with open(file_name, \"w\") as file:\n",
    "    csv_file = csv.writer(file)  \n",
    "    # Add column names\n",
    "    csv_file.writerow(['poster_path', 'title', 'release_date', 'overview', 'popularity', 'original_title', 'backdrop_path',\n",
    "                       'vote_count', 'video', 'adult', 'vote_average', 'original_language', 'id', 'genre_ids'])\n",
    "    for i in range(len(movies_list_encode)):\n",
    "        for item in movies_list_encode[i]['results']:\n",
    "            csv_file.writerow([item['poster_path'], item['title'].encode('utf8', 'ignore'), item['release_date'], item['overview'].encode(\"utf8\", \"ignore\"), \n",
    "               item['popularity'], item['original_title'].encode(\"utf8\", 'ignore'), item['backdrop_path'], \n",
    "               item['vote_count'], item['video'], item['adult'], item['vote_average'], \n",
    "               item['original_language'], item['id'], item['genre_ids']])"
   ]
  },
  {
   "cell_type": "code",
   "execution_count": 63,
   "metadata": {
    "collapsed": false
   },
   "outputs": [
    {
     "data": {
      "text/plain": [
       "(45673, 14)"
      ]
     },
     "execution_count": 63,
     "metadata": {},
     "output_type": "execute_result"
    }
   ],
   "source": []
  },
  {
   "cell_type": "code",
   "execution_count": null,
   "metadata": {
    "collapsed": true
   },
   "outputs": [],
   "source": []
  }
 ],
 "metadata": {
  "anaconda-cloud": {},
  "kernelspec": {
   "display_name": "Python [conda root]",
   "language": "python",
   "name": "conda-root-py"
  },
  "language_info": {
   "codemirror_mode": {
    "name": "ipython",
    "version": 2
   },
   "file_extension": ".py",
   "mimetype": "text/x-python",
   "name": "python",
   "nbconvert_exporter": "python",
   "pygments_lexer": "ipython2",
   "version": "2.7.12"
  }
 },
 "nbformat": 4,
 "nbformat_minor": 1
}
