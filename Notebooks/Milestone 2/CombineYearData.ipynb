{
 "cells": [
  {
   "cell_type": "code",
   "execution_count": 2,
   "metadata": {
    "collapsed": true
   },
   "outputs": [],
   "source": [
    "import numpy as np\n",
    "import pandas as pd"
   ]
  },
  {
   "cell_type": "code",
   "execution_count": 6,
   "metadata": {
    "collapsed": false
   },
   "outputs": [],
   "source": [
    "data =  list()\n",
    "year_list = np.arange(2012, 2017)\n",
    "filename1 = \"top_1000_from\"\n",
    "filename2 = \"_data_with_releasedate.csv\"\n",
    "\n",
    "for i in range(5):\n",
    "    year = year_list[i]\n",
    "    filename = filename1 + str(year) + filename2\n",
    "    \n",
    "    data.append(pd.read_csv(filename))    "
   ]
  },
  {
   "cell_type": "code",
   "execution_count": 8,
   "metadata": {
    "collapsed": false
   },
   "outputs": [],
   "source": [
    "all_data = pd.DataFrame()\n",
    "\n",
    "for d in data:\n",
    "    all_data = pd.concat([all_data, d], axis = 0, ignore_index = True)"
   ]
  },
  {
   "cell_type": "code",
   "execution_count": 9,
   "metadata": {
    "collapsed": false
   },
   "outputs": [
    {
     "data": {
      "text/plain": [
       "(5000, 14)"
      ]
     },
     "execution_count": 9,
     "metadata": {},
     "output_type": "execute_result"
    }
   ],
   "source": [
    "all_data.shape"
   ]
  },
  {
   "cell_type": "code",
   "execution_count": 10,
   "metadata": {
    "collapsed": false
   },
   "outputs": [
    {
     "data": {
      "text/html": [
       "<div>\n",
       "<table border=\"1\" class=\"dataframe\">\n",
       "  <thead>\n",
       "    <tr style=\"text-align: right;\">\n",
       "      <th></th>\n",
       "      <th>poster_path</th>\n",
       "      <th>title</th>\n",
       "      <th>release_date</th>\n",
       "      <th>overview</th>\n",
       "      <th>popularity</th>\n",
       "      <th>original_title</th>\n",
       "      <th>backdrop_path</th>\n",
       "      <th>vote_count</th>\n",
       "      <th>video</th>\n",
       "      <th>adult</th>\n",
       "      <th>vote_average</th>\n",
       "      <th>original_language</th>\n",
       "      <th>id</th>\n",
       "      <th>genre_ids</th>\n",
       "    </tr>\n",
       "  </thead>\n",
       "  <tbody>\n",
       "    <tr>\n",
       "      <th>0</th>\n",
       "      <td>/cezWGskPY5x7GaglTTRN4Fugfb8.jpg</td>\n",
       "      <td>The Avengers</td>\n",
       "      <td>2012-04-25</td>\n",
       "      <td>When an unexpected enemy emerges and threatens...</td>\n",
       "      <td>9.622596</td>\n",
       "      <td>The Avengers</td>\n",
       "      <td>/hbn46fQaRmlpBuUrEiFqv0GDL6Y.jpg</td>\n",
       "      <td>9868</td>\n",
       "      <td>False</td>\n",
       "      <td>False</td>\n",
       "      <td>7.4</td>\n",
       "      <td>en</td>\n",
       "      <td>24428</td>\n",
       "      <td>[878, 28, 12]</td>\n",
       "    </tr>\n",
       "    <tr>\n",
       "      <th>1</th>\n",
       "      <td>/w29Guo6FX6fxzH86f8iAbEhQEFC.jpg</td>\n",
       "      <td>The Hobbit: An Unexpected Journey</td>\n",
       "      <td>2012-11-26</td>\n",
       "      <td>Bilbo Baggins, a hobbit enjoying his quiet lif...</td>\n",
       "      <td>8.728019</td>\n",
       "      <td>The Hobbit: An Unexpected Journey</td>\n",
       "      <td>/jjAq3tCezdlQduusgtMhpY2XzW0.jpg</td>\n",
       "      <td>7128</td>\n",
       "      <td>False</td>\n",
       "      <td>False</td>\n",
       "      <td>6.9</td>\n",
       "      <td>en</td>\n",
       "      <td>49051</td>\n",
       "      <td>[12, 14, 28]</td>\n",
       "    </tr>\n",
       "    <tr>\n",
       "      <th>2</th>\n",
       "      <td>/dEYnvnUfXrqvqeRSqvIEtmzhoA8.jpg</td>\n",
       "      <td>The Dark Knight Rises</td>\n",
       "      <td>2012-07-16</td>\n",
       "      <td>Following the death of District Attorney Harve...</td>\n",
       "      <td>8.590160</td>\n",
       "      <td>The Dark Knight Rises</td>\n",
       "      <td>/3bgtUfKQKNi3nJsAB5URpP2wdRt.jpg</td>\n",
       "      <td>7605</td>\n",
       "      <td>False</td>\n",
       "      <td>False</td>\n",
       "      <td>7.5</td>\n",
       "      <td>en</td>\n",
       "      <td>49026</td>\n",
       "      <td>[28, 80, 18, 53]</td>\n",
       "    </tr>\n",
       "    <tr>\n",
       "      <th>3</th>\n",
       "      <td>/lQCkPLDxFONmgzrWLvq085v1g2d.jpg</td>\n",
       "      <td>Skyfall</td>\n",
       "      <td>2012-10-25</td>\n",
       "      <td>When Bond's latest assignment goes gravely wro...</td>\n",
       "      <td>7.989945</td>\n",
       "      <td>Skyfall</td>\n",
       "      <td>/AunH2MIKIbnU9khgFp45eJlydPu.jpg</td>\n",
       "      <td>6685</td>\n",
       "      <td>False</td>\n",
       "      <td>False</td>\n",
       "      <td>6.9</td>\n",
       "      <td>en</td>\n",
       "      <td>37724</td>\n",
       "      <td>[28, 12, 53]</td>\n",
       "    </tr>\n",
       "    <tr>\n",
       "      <th>4</th>\n",
       "      <td>/93FsllrXXWncp7BQYTdOU1XMRXo.jpg</td>\n",
       "      <td>Wreck-It Ralph</td>\n",
       "      <td>2012-11-01</td>\n",
       "      <td>Wreck-It Ralph is the 9-foot-tall, 643-pound v...</td>\n",
       "      <td>6.452268</td>\n",
       "      <td>Wreck-It Ralph</td>\n",
       "      <td>/1HjKgkIdR2qw8ihM6MTxgdST2kM.jpg</td>\n",
       "      <td>3892</td>\n",
       "      <td>False</td>\n",
       "      <td>False</td>\n",
       "      <td>7.0</td>\n",
       "      <td>en</td>\n",
       "      <td>82690</td>\n",
       "      <td>[10751, 16, 35, 12]</td>\n",
       "    </tr>\n",
       "  </tbody>\n",
       "</table>\n",
       "</div>"
      ],
      "text/plain": [
       "                        poster_path                              title  \\\n",
       "0  /cezWGskPY5x7GaglTTRN4Fugfb8.jpg                       The Avengers   \n",
       "1  /w29Guo6FX6fxzH86f8iAbEhQEFC.jpg  The Hobbit: An Unexpected Journey   \n",
       "2  /dEYnvnUfXrqvqeRSqvIEtmzhoA8.jpg              The Dark Knight Rises   \n",
       "3  /lQCkPLDxFONmgzrWLvq085v1g2d.jpg                            Skyfall   \n",
       "4  /93FsllrXXWncp7BQYTdOU1XMRXo.jpg                     Wreck-It Ralph   \n",
       "\n",
       "  release_date                                           overview  popularity  \\\n",
       "0   2012-04-25  When an unexpected enemy emerges and threatens...    9.622596   \n",
       "1   2012-11-26  Bilbo Baggins, a hobbit enjoying his quiet lif...    8.728019   \n",
       "2   2012-07-16  Following the death of District Attorney Harve...    8.590160   \n",
       "3   2012-10-25  When Bond's latest assignment goes gravely wro...    7.989945   \n",
       "4   2012-11-01  Wreck-It Ralph is the 9-foot-tall, 643-pound v...    6.452268   \n",
       "\n",
       "                      original_title                     backdrop_path  \\\n",
       "0                       The Avengers  /hbn46fQaRmlpBuUrEiFqv0GDL6Y.jpg   \n",
       "1  The Hobbit: An Unexpected Journey  /jjAq3tCezdlQduusgtMhpY2XzW0.jpg   \n",
       "2              The Dark Knight Rises  /3bgtUfKQKNi3nJsAB5URpP2wdRt.jpg   \n",
       "3                            Skyfall  /AunH2MIKIbnU9khgFp45eJlydPu.jpg   \n",
       "4                     Wreck-It Ralph  /1HjKgkIdR2qw8ihM6MTxgdST2kM.jpg   \n",
       "\n",
       "   vote_count  video  adult  vote_average original_language     id  \\\n",
       "0        9868  False  False           7.4                en  24428   \n",
       "1        7128  False  False           6.9                en  49051   \n",
       "2        7605  False  False           7.5                en  49026   \n",
       "3        6685  False  False           6.9                en  37724   \n",
       "4        3892  False  False           7.0                en  82690   \n",
       "\n",
       "             genre_ids  \n",
       "0        [878, 28, 12]  \n",
       "1         [12, 14, 28]  \n",
       "2     [28, 80, 18, 53]  \n",
       "3         [28, 12, 53]  \n",
       "4  [10751, 16, 35, 12]  "
      ]
     },
     "execution_count": 10,
     "metadata": {},
     "output_type": "execute_result"
    }
   ],
   "source": [
    "all_data.head()"
   ]
  },
  {
   "cell_type": "code",
   "execution_count": 11,
   "metadata": {
    "collapsed": true
   },
   "outputs": [],
   "source": [
    "all_data.to_csv(\"combined_data_2012to2016.csv\")"
   ]
  }
 ],
 "metadata": {
  "kernelspec": {
   "display_name": "Python [Root]",
   "language": "python",
   "name": "Python [Root]"
  },
  "language_info": {
   "codemirror_mode": {
    "name": "ipython",
    "version": 2
   },
   "file_extension": ".py",
   "mimetype": "text/x-python",
   "name": "python",
   "nbconvert_exporter": "python",
   "pygments_lexer": "ipython2",
   "version": "2.7.12"
  }
 },
 "nbformat": 4,
 "nbformat_minor": 0
}
