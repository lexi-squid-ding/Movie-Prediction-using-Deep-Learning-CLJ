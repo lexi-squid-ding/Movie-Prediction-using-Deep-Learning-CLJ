{
 "cells": [
  {
   "cell_type": "markdown",
   "metadata": {},
   "source": [
    "# Milestone 2: Assembling Training Data\n",
    "\n",
    "By: Alexandra Ding, Cynthia He, Jingyi Yu"
   ]
  },
  {
   "cell_type": "markdown",
   "metadata": {},
   "source": [
    "## Description of the data\n",
    "Our data comes from the IMDB and TMDB databases and consists of: movie feature metadata (including release year, revenue, popularity), text data (including reviews and overview) and image (poster) data. Our dataset includes **all English language movies produced in the US with primary release date 2012-2016 with genre labels**. Most of the movie features are from TMDB, and additional information such as the director, runtime and aspect ratio is downloaded from IMDB. "
   ]
  },
  {
   "cell_type": "code",
   "execution_count": 1,
   "metadata": {
    "collapsed": false
   },
   "outputs": [],
   "source": [
    "# code to download all English movies in 2012-2016\n",
    "import numpy as np\n",
    "import scipy as sp\n",
    "import matplotlib as mpl\n",
    "import matplotlib.cm as cm\n",
    "import matplotlib.pyplot as plt\n",
    "import seaborn as sns # Seaborn visualization package\n",
    "import pandas as pd\n",
    "import time\n",
    "import re # Regex\n",
    "import collections\n",
    "\n",
    "# File reading things\n",
    "import pickle\n",
    "import json\n",
    "import csv\n",
    "import datetime # For handling dates\n",
    "\n",
    "# The \"requests\" library makes working with HTTP requests easier\n",
    "import requests\n",
    "import os\n",
    "from bs4 import BeautifulSoup\n",
    "from IPython.display import Image, display # Display image from URL\n",
    "from IPython.core.display import HTML # Display image from URL\n",
    "\n",
    "# TMDB API wrapper\n",
    "import tmdbsimple as tmdb\n",
    "\n",
    "# IMDB access\n",
    "import imdb\n",
    "\n",
    "# Display options\n",
    "pd.set_option('display.width', 500)\n",
    "pd.set_option('display.max_columns', 100)\n",
    "pd.set_option('display.notebook_repr_html', True)\n",
    "%matplotlib inline"
   ]
  },
  {
   "cell_type": "code",
   "execution_count": 4,
   "metadata": {
    "collapsed": false
   },
   "outputs": [],
   "source": [
    "### Viewing metadata and downloading poster using tmdbsimple API wrapper\n",
    "# My API key (Lexi)\n",
    "tmdb.API_KEY = 'ee0df3ce88063f7f6cd466ff61266a55'\n",
    "\n",
    "release_year_range = range(2011,2017)\n",
    "\n",
    "# check the number of pages\n",
    "n_pages_year = np.zeros((len(release_year_range)))\n",
    "\n",
    "for i in range(len(release_year_range)):\n",
    "    release_year = release_year_range[i]\n",
    "    url ='https://api.themoviedb.org/3/discover/movie?api_key=ee0df3ce88063f7f6cd466ff61266a55&language=en-US&sort_by=popularity.desc&include_adult=false&include_video=false&page=1&primary_release_year=' + str(release_year) + '&with_original_language=en'\n",
    "    response_page = requests.get(url)\n",
    "    response_json = response_page.json()\n",
    "    \n",
    "    n_pages_year[i] = response_json['total_pages']\n",
    "\n",
    "    \n",
    "# Create empty list to store\n",
    "movies_list = [None] * int( sum(n_pages_year)) * len(release_year_range)\n",
    "\n",
    "for i in range(len(release_year_range)):\n",
    "    release_year = int(release_year_range[i])\n",
    "    page_ns = int(n_pages_year[i])\n",
    "    for page_n in range(1, page_ns + 1):\n",
    "        url ='https://api.themoviedb.org/3/discover/movie?api_key=ee0df3ce88063f7f6cd466ff61266a55&language=en-US&sort_by=popularity.desc&include_adult=false&include_video=false&page='+ str(page_n)+ '&primary_release_year=' + str(release_year) + '&with_original_language=en'\n",
    "        response_page = requests.get(url)\n",
    "        movies_list[page_n-1] = response_page.json()\n",
    "\n",
    "        # pause for 1 sec\n",
    "    time.sleep(1)"
   ]
  },
  {
   "cell_type": "code",
   "execution_count": 5,
   "metadata": {
    "collapsed": true
   },
   "outputs": [],
   "source": [
    "file_name = 'all_movies_from_2011_2016_data.csv'\n",
    "\n",
    "### Save json contents as CSV\n",
    "with open(file_name, \"w\") as file:\n",
    "    csv_file = csv.writer(file)  \n",
    "    # Add column names\n",
    "    csv_file.writerow(['poster_path', 'title', 'release_date', 'overview', 'popularity', 'original_title', 'backdrop_path',\n",
    "                       'vote_count', 'video', 'adult', 'vote_average', 'original_language', 'id', 'genre_ids'])\n",
    "    # For each item in list, get attributes of movie\n",
    "    for i in range(len(page_ns)):\n",
    "        for item in movies_list[i]['results']:\n",
    "            csv_file.writerow([item['poster_path'], item['title'], item['release_date'], item['overview'].encode(\"utf8\"), \n",
    "                               item['popularity'], item['original_title'].encode(\"utf8\"), item['backdrop_path'], \n",
    "                               item['vote_count'], item['video'], item['adult'], item['vote_average'], \n",
    "                               item['original_language'], item['id'], item['genre_ids']])"
   ]
  },
  {
   "cell_type": "code",
   "execution_count": 59,
   "metadata": {
    "collapsed": true
   },
   "outputs": [],
   "source": [
    "### download additional features from IMDb\n",
    "\n",
    "import imdb\n",
    "from imdb import IMDb\n",
    "from datetime import datetime\n",
    "\n",
    "### Function to find a movie id on IMDb using movie title and year\n",
    "# input: movie title and movie year in strings\n",
    "# output: matched movie id if found, otherwise return 0\n",
    "def find_movie_id(movie_name, movie_year):\n",
    "    # search for the movie    \n",
    "    ia = IMDb()\n",
    "    search_result = ia.search_movie(title)\n",
    "    \n",
    "    # go through the result and match to the given year\n",
    "    # use the first movie matched to the year\n",
    "    for movie in search_result:\n",
    "        if movie['year'] == movie_year:\n",
    "            matched_movie = movie\n",
    "            break\n",
    "    \n",
    "    # find the movie ID\n",
    "    if not matched_movie:\n",
    "        matched_id = 0\n",
    "    else:\n",
    "        # find both movieID and title for double checking\n",
    "        matched_id = ia.get_imdbID(matched_movie)\n",
    "        matched_title = matched_movie['title']\n",
    "        \n",
    "    return(matched_id, matched_title)\n",
    "\n",
    "### Function to find movie information using movie ID\n",
    "# input: movie id from IMDb\n",
    "# output: runtime, director and aspect ratio\n",
    "def extract_movie_info(movie_id):\n",
    "    # find the movie information\n",
    "    ia = IMDb()\n",
    "    movie = ia.get_movie(movie_id)\n",
    "    \n",
    "    # extract relevant information \n",
    "    runtime = \",\".join(movie.data['runtimes'])\n",
    "    director = movie.data['director'][0]['name']\n",
    "    aspect_ratio = movie.data['aspect ratio']\n",
    "    \n",
    "    return(runtime, director, aspect_ratio)\n",
    "\n",
    "\n",
    "#### read the combined data\n",
    "movie_data = pd.read_csv(\"all_movies_from_2011_2016_data.csv\")\n",
    "\n",
    "######   find movie ID for the movies   ######\n",
    "release_years = list()\n",
    "movie_ids = list()\n",
    "matched_title = list()\n",
    "\n",
    "for i in range(10):\n",
    "    # extract movie title\n",
    "    title = movie_data.iloc[i][\"title\"]\n",
    "    # extract release year\n",
    "    t = movie_data.iloc[0][\"release_date\"]\n",
    "    year = datetime.strptime(t, '%Y-%M-%d').year\n",
    "    release_years.append(year)\n",
    "    # find movie_id\n",
    "    movie_id, movie_title = find_movie_id(title, year)\n",
    "    movie_ids.append(movie_id)\n",
    "    matched_title.append(movie_title)\n",
    "  \n",
    "  \n",
    "# add release year, movie id and matched title to the dataframe\n",
    "movie_data['year'] = pd.Series(release_years, index=movie_data.index)\n",
    "movie_data['imdb_id'] = pd.Series(movie_ids, index=movie_data.index)\n",
    "movie_data['imdb_title'] = pd.Series(matched_title, index=movie_data.index)\n",
    "    \n",
    "\n",
    "\n",
    "######   find movie information on IMDb   #######\n",
    "movie_runtimes = list()\n",
    "movie_directors = list()\n",
    "movie_ratio = list()\n",
    "\n",
    "for movie_id in movie_ids:\n",
    "    # if not empty\n",
    "    if movie_id != 0:\n",
    "        runtime, director, aspect_ratio = extract_movie_info(movie_id)\n",
    "    else: # NA if empty\n",
    "        runtime = director = aspect_ratio = \"NA\"\n",
    "    \n",
    "    # add to the lists\n",
    "    movie_runtimes.append(runtime)\n",
    "    movie_directors.append(director)\n",
    "    movie_ratio.append(aspect_ratio)\n",
    "  \n",
    "  \n",
    "# add runtime, director and aspect ratio to the dataframe\n",
    "movie_data['runtime'] = pd.Series(movie_runtimes, index=movie_data.index)\n",
    "movie_data['director'] = pd.Series(movie_directors, index=movie_data.index)\n",
    "movie_data['aspect_ratio'] = pd.Series(movie_ratio, index=movie_data.index)\n",
    "        \n",
    "# save the dataframe into csv\n",
    "movie_data.to_csv(\"data_withIMDb_features.csv\", index=False)"
   ]
  },
  {
   "cell_type": "markdown",
   "metadata": {},
   "source": [
    "## Data Sampling and Justification\n",
    "There are 5000 observations sampled for our study among all the movies in 2012-2016. From each of the past five years,  we randomly selected 1000 movies. "
   ]
  },
  {
   "cell_type": "code",
   "execution_count": 2,
   "metadata": {
    "collapsed": false
   },
   "outputs": [
    {
     "data": {
      "text/html": [
       "<div>\n",
       "<table border=\"1\" class=\"dataframe\">\n",
       "  <thead>\n",
       "    <tr style=\"text-align: right;\">\n",
       "      <th></th>\n",
       "      <th>poster_path</th>\n",
       "      <th>title</th>\n",
       "      <th>release_date</th>\n",
       "      <th>overview</th>\n",
       "      <th>popularity</th>\n",
       "      <th>original_title</th>\n",
       "      <th>backdrop_path</th>\n",
       "      <th>vote_count</th>\n",
       "      <th>video</th>\n",
       "      <th>adult</th>\n",
       "      <th>vote_average</th>\n",
       "      <th>original_language</th>\n",
       "      <th>id</th>\n",
       "      <th>genre_ids</th>\n",
       "    </tr>\n",
       "  </thead>\n",
       "  <tbody>\n",
       "    <tr>\n",
       "      <th>0</th>\n",
       "      <td>/cezWGskPY5x7GaglTTRN4Fugfb8.jpg</td>\n",
       "      <td>The Avengers</td>\n",
       "      <td>2012-04-25</td>\n",
       "      <td>When an unexpected enemy emerges and threatens...</td>\n",
       "      <td>9.622596</td>\n",
       "      <td>The Avengers</td>\n",
       "      <td>/hbn46fQaRmlpBuUrEiFqv0GDL6Y.jpg</td>\n",
       "      <td>9868</td>\n",
       "      <td>False</td>\n",
       "      <td>False</td>\n",
       "      <td>7.4</td>\n",
       "      <td>en</td>\n",
       "      <td>24428</td>\n",
       "      <td>[878, 28, 12]</td>\n",
       "    </tr>\n",
       "    <tr>\n",
       "      <th>1</th>\n",
       "      <td>/w29Guo6FX6fxzH86f8iAbEhQEFC.jpg</td>\n",
       "      <td>The Hobbit: An Unexpected Journey</td>\n",
       "      <td>2012-11-26</td>\n",
       "      <td>Bilbo Baggins, a hobbit enjoying his quiet lif...</td>\n",
       "      <td>8.728019</td>\n",
       "      <td>The Hobbit: An Unexpected Journey</td>\n",
       "      <td>/jjAq3tCezdlQduusgtMhpY2XzW0.jpg</td>\n",
       "      <td>7128</td>\n",
       "      <td>False</td>\n",
       "      <td>False</td>\n",
       "      <td>6.9</td>\n",
       "      <td>en</td>\n",
       "      <td>49051</td>\n",
       "      <td>[12, 14, 28]</td>\n",
       "    </tr>\n",
       "    <tr>\n",
       "      <th>2</th>\n",
       "      <td>/dEYnvnUfXrqvqeRSqvIEtmzhoA8.jpg</td>\n",
       "      <td>The Dark Knight Rises</td>\n",
       "      <td>2012-07-16</td>\n",
       "      <td>Following the death of District Attorney Harve...</td>\n",
       "      <td>8.590160</td>\n",
       "      <td>The Dark Knight Rises</td>\n",
       "      <td>/3bgtUfKQKNi3nJsAB5URpP2wdRt.jpg</td>\n",
       "      <td>7605</td>\n",
       "      <td>False</td>\n",
       "      <td>False</td>\n",
       "      <td>7.5</td>\n",
       "      <td>en</td>\n",
       "      <td>49026</td>\n",
       "      <td>[28, 80, 18, 53]</td>\n",
       "    </tr>\n",
       "  </tbody>\n",
       "</table>\n",
       "</div>"
      ],
      "text/plain": [
       "                        poster_path                              title release_date                                           overview  popularity                     original_title                     backdrop_path  vote_count  video  adult  vote_average original_language     id         genre_ids\n",
       "0  /cezWGskPY5x7GaglTTRN4Fugfb8.jpg                       The Avengers   2012-04-25  When an unexpected enemy emerges and threatens...    9.622596                       The Avengers  /hbn46fQaRmlpBuUrEiFqv0GDL6Y.jpg        9868  False  False           7.4                en  24428     [878, 28, 12]\n",
       "1  /w29Guo6FX6fxzH86f8iAbEhQEFC.jpg  The Hobbit: An Unexpected Journey   2012-11-26  Bilbo Baggins, a hobbit enjoying his quiet lif...    8.728019  The Hobbit: An Unexpected Journey  /jjAq3tCezdlQduusgtMhpY2XzW0.jpg        7128  False  False           6.9                en  49051      [12, 14, 28]\n",
       "2  /dEYnvnUfXrqvqeRSqvIEtmzhoA8.jpg              The Dark Knight Rises   2012-07-16  Following the death of District Attorney Harve...    8.590160              The Dark Knight Rises  /3bgtUfKQKNi3nJsAB5URpP2wdRt.jpg        7605  False  False           7.5                en  49026  [28, 80, 18, 53]"
      ]
     },
     "execution_count": 2,
     "metadata": {},
     "output_type": "execute_result"
    }
   ],
   "source": [
    "# read the saved data\n",
    "data = pd.read_csv(\"combined_data_2012to2016.csv\")\n",
    "data = data.drop(data.columns[0], axis = 1)\n",
    "\n",
    "data.head(n=3)"
   ]
  },
  {
   "cell_type": "markdown",
   "metadata": {},
   "source": [
    "## Features and Response Variable\n",
    "In predicting movie genre for our dataset, one of the major challenges is that there are **multiple genres per movie (multilabel dataset)**. In addition, not all genres are equally frequent (class imbalance), and some **genres co-occur with each other**, signifying that doing a simple one-vs-all strategy might not be sufficient to separate the genres. Our model will idally need to take into account **dependencies between labels**, as well as incorporate an appropriate loss function. \n",
    "\n",
    "### Response Variable: \n",
    "In IMDb and TMDb, a single movie can be tagged with different genres between the two databases (for example, in the Star Wars: Rogue One movie above)– because the metadata contains more of the information we need and is in a consistent format, we decided to use the labels given by TMDB. TMDB includes 19 genre labels, of which we will delete the genres that occur in less than 3% of the movies (as shown by the natural dropoff on the chart below)."
   ]
  },
  {
   "cell_type": "code",
   "execution_count": 6,
   "metadata": {
    "collapsed": false
   },
   "outputs": [],
   "source": [
    "data_2012_16 = pd.read_csv('combined_data_2012to2016_onehot_genres.csv')\n",
    "one_hot_encode_genres = data_2012_16[data_2012_16.columns[-17:]]\n",
    "# one_hot_encode_genres.head(3)\n",
    "\n",
    "# Load genre dictionary\n",
    "genre_dict_by_id = pickle.load(open('Milestone1/genre_dict_by_id.p', 'rb'))\n",
    "\n",
    "# Convert keys to int\n",
    "genre_dict_by_id = {int(k):v for k,v in genre_dict_by_id.items()}\n",
    "#print genre_dict_by_id\n",
    "\n",
    "# Convert release_date column to datetime object\n",
    "data_2012_16['release_date'] = pd.to_datetime(data_2012_16['release_date'], format = '%Y-%m-%d' )\n",
    "\n",
    "n_unique_genres = len(genre_dict_by_id)\n",
    "list_unique_genres = genre_dict_by_id.values()"
   ]
  },
  {
   "cell_type": "code",
   "execution_count": 7,
   "metadata": {
    "collapsed": false
   },
   "outputs": [
    {
     "name": "stdout",
     "output_type": "stream",
     "text": [
      "    12   14   16   18   27   28   35   36   37   53   80  878  9648  10402  10749  10751  10752\n",
      "0  1.0  0.0  0.0  0.0  0.0  1.0  0.0  0.0  0.0  0.0  0.0  1.0   0.0    0.0    0.0    0.0    0.0\n",
      "1  1.0  1.0  0.0  0.0  0.0  1.0  0.0  0.0  0.0  0.0  0.0  0.0   0.0    0.0    0.0    0.0    0.0\n",
      "2  0.0  0.0  0.0  1.0  0.0  1.0  0.0  0.0  0.0  1.0  1.0  0.0   0.0    0.0    0.0    0.0    0.0\n"
     ]
    }
   ],
   "source": [
    "print one_hot_encode_genres.head(3)"
   ]
  },
  {
   "cell_type": "code",
   "execution_count": 4,
   "metadata": {
    "collapsed": false
   },
   "outputs": [
    {
     "data": {
      "text/plain": [
       "<matplotlib.text.Text at 0x119df8090>"
      ]
     },
     "execution_count": 4,
     "metadata": {},
     "output_type": "execute_result"
    },
    {
     "data": {
      "image/png": "[encoded data removed]",
      "text/plain": [
       "<matplotlib.figure.Figure at 0x1167b6910>"
      ]
     },
     "metadata": {},
     "output_type": "display_data"
    }
   ],
   "source": [
    "genre_names_encoded = [genre_dict_by_id[int(one_hot_encode_genres.columns[i])] for i in range(len(one_hot_encode_genres.columns))]\n",
    "genre_counts_df = pd.DataFrame({'genre' :genre_names_encoded, 'counts': np.sum(one_hot_encode_genres.values, 0)})\n",
    "\n",
    "genre_counts_df_sorted = genre_counts_df.sort_values('counts', ascending = False)\n",
    "\n",
    "sns.set_context({\"figure.figsize\": (24, 10)})\n",
    "sns.set(font_scale=0.8)\n",
    "plt.plot()\n",
    "sns.barplot(x = genre_counts_df_sorted['genre'], \n",
    "            y = genre_counts_df_sorted['counts'],\n",
    "           color = 'steelblue')\n",
    "plt.xticks(rotation=30)\n",
    "plt.xlabel('Genre')\n",
    "plt.ylabel('Counts')\n",
    "plt.suptitle('Number of movies in each genre, descending order')\n",
    "plt.title('Note: some movies have multiple genres')"
   ]
  },
  {
   "cell_type": "code",
   "execution_count": 8,
   "metadata": {
    "collapsed": false
   },
   "outputs": [
    {
     "data": {
      "text/plain": [
       "<matplotlib.text.Text at 0x11a7efcd0>"
      ]
     },
     "execution_count": 8,
     "metadata": {},
     "output_type": "execute_result"
    },
    {
     "data": {
      "image/png": "[encoded data removed]",
      "text/plain": [
       "<matplotlib.figure.Figure at 0x1167b6650>"
      ]
     },
     "metadata": {},
     "output_type": "display_data"
    }
   ],
   "source": [
    "### Get n genres per movie\n",
    "# Create barplot of n genres per movie\n",
    "hist_genre_count = collections.Counter(np.sum(one_hot_encode_genres.values, 1) )\n",
    "A = hist_genre_count.values()\n",
    "B = map(int, hist_genre_count.keys())\n",
    "\n",
    "sns.set_context({\"figure.figsize\": (24, 10)})\n",
    "sns.set(font_scale=1)\n",
    "\n",
    "fig, ax = plt.subplots()\n",
    "bar_width = 0.5\n",
    "ax.bar(B, A, bar_width, color = 'steelblue')\n",
    "ax.set_xticks(np.array(B) + bar_width/2)\n",
    "ax.set_xticklabels(B)\n",
    "plt.ylabel(\"Counts\")\n",
    "plt.xlabel(\"Number of Genres\")\n",
    "plt.title(\"Number of Genres per Movie\")"
   ]
  },
  {
   "cell_type": "markdown",
   "metadata": {},
   "source": [
    " Because a single movie can be associated with several different labels, this represents a **multi-label classification problem** where we have to adapt binary classifiers to the multi-label scenario."
   ]
  },
  {
   "cell_type": "markdown",
   "metadata": {},
   "source": [
    "## Label Encoding\n",
    "To encode our labels, we produced code to perform Binary, Pairwise and Label Combination encoding of our multilabel response variable, and will use these in different classifiers ([SOURCE](http://www.cv-foundation.org/openaccess/content_cvpr_2016_workshops/w18/papers/Li_DeepBE_Learning_Deep_CVPR_2016_paper.pdf)). Binary Relevance learns a set of one-vs-all binary classifiers, one for each different label, and requires that the labels be one-hot encoded (create a separate column for each label with 1 if true and 0 if false). "
   ]
  },
  {
   "cell_type": "code",
   "execution_count": 4,
   "metadata": {
    "collapsed": false
   },
   "outputs": [
    {
     "name": "stdout",
     "output_type": "stream",
     "text": [
      "   Unnamed: 0  Unnamed: 0.1                       poster_path                              title release_date                                           overview  popularity                     original_title                     backdrop_path  vote_count  video  adult  vote_average original_language     id         genre_ids   12   14   16   18   27   28   35   36   37   53   80  878  9648  10402  10749  10751  10752   12   14   16   18   27   28   35   36   37   53   80  878  9648  10402  \\\n",
      "0           0             0  /cezWGskPY5x7GaglTTRN4Fugfb8.jpg                       The Avengers   2012-04-25  When an unexpected enemy emerges and threatens...    9.622596                       The Avengers  /hbn46fQaRmlpBuUrEiFqv0GDL6Y.jpg        9868  False  False           7.4                en  24428     [878, 28, 12]  1.0  0.0  0.0  0.0  0.0  1.0  0.0  0.0  0.0  0.0  0.0  1.0   0.0    0.0    0.0    0.0    0.0  1.0  0.0  0.0  0.0  0.0  1.0  0.0  0.0  0.0  0.0  0.0  1.0   0.0    0.0   \n",
      "1           1             1  /w29Guo6FX6fxzH86f8iAbEhQEFC.jpg  The Hobbit: An Unexpected Journey   2012-11-26  Bilbo Baggins, a hobbit enjoying his quiet lif...    8.728019  The Hobbit: An Unexpected Journey  /jjAq3tCezdlQduusgtMhpY2XzW0.jpg        7128  False  False           6.9                en  49051      [12, 14, 28]  1.0  1.0  0.0  0.0  0.0  1.0  0.0  0.0  0.0  0.0  0.0  0.0   0.0    0.0    0.0    0.0    0.0  1.0  1.0  0.0  0.0  0.0  1.0  0.0  0.0  0.0  0.0  0.0  0.0   0.0    0.0   \n",
      "2           2             2  /dEYnvnUfXrqvqeRSqvIEtmzhoA8.jpg              The Dark Knight Rises   2012-07-16  Following the death of District Attorney Harve...    8.590160              The Dark Knight Rises  /3bgtUfKQKNi3nJsAB5URpP2wdRt.jpg        7605  False  False           7.5                en  49026  [28, 80, 18, 53]  0.0  0.0  0.0  1.0  0.0  1.0  0.0  0.0  0.0  1.0  1.0  0.0   0.0    0.0    0.0    0.0    0.0  0.0  0.0  0.0  1.0  0.0  1.0  0.0  0.0  0.0  1.0  1.0  0.0   0.0    0.0   \n",
      "3           3             3  /lQCkPLDxFONmgzrWLvq085v1g2d.jpg                            Skyfall   2012-10-25  When Bond's latest assignment goes gravely wro...    7.989945                            Skyfall  /AunH2MIKIbnU9khgFp45eJlydPu.jpg        6685  False  False           6.9                en  37724      [28, 12, 53]  1.0  0.0  0.0  0.0  0.0  1.0  0.0  0.0  0.0  1.0  0.0  0.0   0.0    0.0    0.0    0.0    0.0  1.0  0.0  0.0  0.0  0.0  1.0  0.0  0.0  0.0  1.0  0.0  0.0   0.0    0.0   \n",
      "\n",
      "   10749  10751  10752  \n",
      "0    0.0    0.0    0.0  \n",
      "1    0.0    0.0    0.0  \n",
      "2    0.0    0.0    0.0  \n",
      "3    0.0    0.0    0.0  \n"
     ]
    }
   ],
   "source": [
    "### ONE HOT ENCODE GENRES\n",
    "### Fix formatting errors in genres\n",
    "\n",
    "# Cnverts entries from this form: '[16, 35, 18, 10751, 10402]' -> [16, 35, 18, 10751, 10402] (list of ints)\n",
    "data_2012_16['genre_ids'] = [map(int, re.sub(\"[\\[ \\] ]\", \"\", data_2012_16['genre_ids'][i]).split(',')) for i in range(len(data_2012_16))]\n",
    "\n",
    "# http://datascience.stackexchange.com/questions/8253/how-to-binary-encode-multi-valued-categorical-variable-from-pandas-dataframe\n",
    "\n",
    "data_count_genres = data_2012_16['genre_ids'].apply(collections.Counter)\n",
    "one_hot_encode_genres = pd.DataFrame.from_records(data_count_genres).fillna(value=int(0))\n",
    "data_2012_16 = data_2012_16.join(one_hot_encode_genres)\n",
    "\n",
    "print (data_2012_16.head(4))\n",
    "\n",
    "# Write to CSV: top_100_2016_onehot_genres.csv\n",
    "# data_2012_16.to_csv('combined_data_2012to2016_onehot_genres.csv')"
   ]
  },
  {
   "cell_type": "code",
   "execution_count": 5,
   "metadata": {
    "collapsed": false
   },
   "outputs": [],
   "source": [
    "# read the saved one-hot-encoded data\n",
    "data_encoded = pd.read_csv(\"combined_data_2012to2016_onehot_genres.csv\")\n",
    "# extract the encoded genres\n",
    "data_genres = data_encoded[data_encoded.columns[16:33]]"
   ]
  },
  {
   "cell_type": "code",
   "execution_count": 6,
   "metadata": {
    "collapsed": false
   },
   "outputs": [],
   "source": [
    "# match genre name to the id\n",
    "# read genre list\n",
    "genre_names = pd.read_csv(\"genre_list.csv\")\n",
    "# conver the dataframe into a dictionary\n",
    "genre_names = genre_names.set_index(\"id\")\n",
    "genre_name_dict = genre_names.to_dict()['GenreName']\n",
    "\n",
    "# replace genre id with genre names\n",
    "data_genres.columns = map(int, data_genres.columns)\n",
    "data_genres = data_genres.rename(columns = genre_name_dict)"
   ]
  },
  {
   "cell_type": "code",
   "execution_count": 7,
   "metadata": {
    "collapsed": false
   },
   "outputs": [
    {
     "data": {
      "text/html": [
       "<div>\n",
       "<table border=\"1\" class=\"dataframe\">\n",
       "  <thead>\n",
       "    <tr style=\"text-align: right;\">\n",
       "      <th></th>\n",
       "      <th>Adventure</th>\n",
       "      <th>Fantasy</th>\n",
       "      <th>Animation</th>\n",
       "      <th>Drama</th>\n",
       "      <th>Horror</th>\n",
       "      <th>Action</th>\n",
       "      <th>Comedy</th>\n",
       "      <th>History</th>\n",
       "      <th>Western</th>\n",
       "      <th>Thriller</th>\n",
       "      <th>Crime</th>\n",
       "      <th>Science Fiction</th>\n",
       "      <th>Mystery</th>\n",
       "      <th>Music</th>\n",
       "      <th>Romance</th>\n",
       "      <th>Family</th>\n",
       "      <th>War</th>\n",
       "    </tr>\n",
       "  </thead>\n",
       "  <tbody>\n",
       "    <tr>\n",
       "      <th>0</th>\n",
       "      <td>1.0</td>\n",
       "      <td>0.0</td>\n",
       "      <td>0.0</td>\n",
       "      <td>0.0</td>\n",
       "      <td>0.0</td>\n",
       "      <td>1.0</td>\n",
       "      <td>0.0</td>\n",
       "      <td>0.0</td>\n",
       "      <td>0.0</td>\n",
       "      <td>0.0</td>\n",
       "      <td>0.0</td>\n",
       "      <td>1.0</td>\n",
       "      <td>0.0</td>\n",
       "      <td>0.0</td>\n",
       "      <td>0.0</td>\n",
       "      <td>0.0</td>\n",
       "      <td>0.0</td>\n",
       "    </tr>\n",
       "    <tr>\n",
       "      <th>1</th>\n",
       "      <td>1.0</td>\n",
       "      <td>1.0</td>\n",
       "      <td>0.0</td>\n",
       "      <td>0.0</td>\n",
       "      <td>0.0</td>\n",
       "      <td>1.0</td>\n",
       "      <td>0.0</td>\n",
       "      <td>0.0</td>\n",
       "      <td>0.0</td>\n",
       "      <td>0.0</td>\n",
       "      <td>0.0</td>\n",
       "      <td>0.0</td>\n",
       "      <td>0.0</td>\n",
       "      <td>0.0</td>\n",
       "      <td>0.0</td>\n",
       "      <td>0.0</td>\n",
       "      <td>0.0</td>\n",
       "    </tr>\n",
       "    <tr>\n",
       "      <th>2</th>\n",
       "      <td>0.0</td>\n",
       "      <td>0.0</td>\n",
       "      <td>0.0</td>\n",
       "      <td>1.0</td>\n",
       "      <td>0.0</td>\n",
       "      <td>1.0</td>\n",
       "      <td>0.0</td>\n",
       "      <td>0.0</td>\n",
       "      <td>0.0</td>\n",
       "      <td>1.0</td>\n",
       "      <td>1.0</td>\n",
       "      <td>0.0</td>\n",
       "      <td>0.0</td>\n",
       "      <td>0.0</td>\n",
       "      <td>0.0</td>\n",
       "      <td>0.0</td>\n",
       "      <td>0.0</td>\n",
       "    </tr>\n",
       "    <tr>\n",
       "      <th>3</th>\n",
       "      <td>1.0</td>\n",
       "      <td>0.0</td>\n",
       "      <td>0.0</td>\n",
       "      <td>0.0</td>\n",
       "      <td>0.0</td>\n",
       "      <td>1.0</td>\n",
       "      <td>0.0</td>\n",
       "      <td>0.0</td>\n",
       "      <td>0.0</td>\n",
       "      <td>1.0</td>\n",
       "      <td>0.0</td>\n",
       "      <td>0.0</td>\n",
       "      <td>0.0</td>\n",
       "      <td>0.0</td>\n",
       "      <td>0.0</td>\n",
       "      <td>0.0</td>\n",
       "      <td>0.0</td>\n",
       "    </tr>\n",
       "    <tr>\n",
       "      <th>4</th>\n",
       "      <td>1.0</td>\n",
       "      <td>0.0</td>\n",
       "      <td>1.0</td>\n",
       "      <td>0.0</td>\n",
       "      <td>0.0</td>\n",
       "      <td>0.0</td>\n",
       "      <td>1.0</td>\n",
       "      <td>0.0</td>\n",
       "      <td>0.0</td>\n",
       "      <td>0.0</td>\n",
       "      <td>0.0</td>\n",
       "      <td>0.0</td>\n",
       "      <td>0.0</td>\n",
       "      <td>0.0</td>\n",
       "      <td>0.0</td>\n",
       "      <td>1.0</td>\n",
       "      <td>0.0</td>\n",
       "    </tr>\n",
       "  </tbody>\n",
       "</table>\n",
       "</div>"
      ],
      "text/plain": [
       "   Adventure  Fantasy  Animation  Drama  Horror  Action  Comedy  History  Western  Thriller  Crime  Science Fiction  Mystery  Music  Romance  Family  War\n",
       "0        1.0      0.0        0.0    0.0     0.0     1.0     0.0      0.0      0.0       0.0    0.0              1.0      0.0    0.0      0.0     0.0  0.0\n",
       "1        1.0      1.0        0.0    0.0     0.0     1.0     0.0      0.0      0.0       0.0    0.0              0.0      0.0    0.0      0.0     0.0  0.0\n",
       "2        0.0      0.0        0.0    1.0     0.0     1.0     0.0      0.0      0.0       1.0    1.0              0.0      0.0    0.0      0.0     0.0  0.0\n",
       "3        1.0      0.0        0.0    0.0     0.0     1.0     0.0      0.0      0.0       1.0    0.0              0.0      0.0    0.0      0.0     0.0  0.0\n",
       "4        1.0      0.0        1.0    0.0     0.0     0.0     1.0      0.0      0.0       0.0    0.0              0.0      0.0    0.0      0.0     1.0  0.0"
      ]
     },
     "execution_count": 7,
     "metadata": {},
     "output_type": "execute_result"
    }
   ],
   "source": [
    "data_genres.head()"
   ]
  },
  {
   "cell_type": "markdown",
   "metadata": {},
   "source": [
    "Pairwise models train a binary model for each pair of labels in addition to the single labels (so labels would include Romance, Comedy, Romance$\\times$Comedy) and is beneficial in reflecting genres that occur together with a single other genre. Label Combination creates a separate column for each combination of label sets (Romance, Comedy, Drama, Romance$\\times$Comedy, Romance$\\times$Comedy$\\times$Drama) and models correlations between a larger number of genres than pairwise encoding. Other methods for encoding include Deep Binary Encoding for Multilabel Classification, which uses deep convolutional neural networks to transform multiple labels into single labels while modeling the dependencies between labels ([SOURCE](http://www.cv-foundation.org/openaccess/content_cvpr_2016_workshops/w18/papers/Li_DeepBE_Learning_Deep_CVPR_2016_paper.pdf)). This is a way in which genres may be grouped together. \n",
    "\n",
    "Because some movies did not include genre labels (for example, some movies had zero votes and zero popularity, and very little information), we **excluded these entries from our dataset**. While these movies might not be missing at random from the dataset (and missingness may correlate with other characteristics such as popularity, budget, and rating), we **decided to eliminate these values rather than impute them**, because (1) less than 4% of movies have missing genre labels, so our training set is not significantly reduced and (2) multiple imputation of our response variable may lead to incorrect inferences on the data. "
   ]
  },
  {
   "cell_type": "markdown",
   "metadata": {},
   "source": [
    "## Addressing Data Imbalance\n",
    "\n",
    "From data exploration, we noticed that certain movie genres have fewer movies compared to the others. For example, there are only less than 3% of the movies with label “Western”, whereas there are more than 40% movies with a drama label. The imbalanced distribution of our dataset may be because certain genres tend to be more popular and profitable over the others. To address issues with training models and assessing performance, we will find ways to **reduce the set of genres, oversample the data to produce more training examples of minority labels, adjust classifier weights based on class frequency, and modify the cost function to penalize errors on minority classes**. Because some genres have a small sample size (ex: 3%), we will **eliminate genres with a small sample size**, after examining the counts of genres in our training dataset for a natural drop off in genre frequency. To train our models and reduce overfitting to the majority genres (like Action and Drama), we will upsample (the minority observations) or downsample (the majority observations) so the classifier sees more examples of the uncommon labels and can perform despite the imbalanced training set. In addition, some supervised machine learning methods can use class weights to further address the imbalance issue. Finally, because assessing label accuracy may miss labeling errors in minority classes, we can consider different measures of accuracy that takes into account errors in rare labels (**Cost-sensitive training**). For example, Boutell et al. 2004 ([ref](https://www.rose-hulman.edu/~boutell/publications/boutell04PRmultilabel.pdf)) gives a generalized version of accuracy in multilabel classification where different costs can be specified for different types of errors (ex: false positives and true negatives). \n",
    "\n",
    "\n",
    "$$Accuracy(H,D) = \\frac{1}{|D|} \\sum_{i=1}^{|D|} ( \\frac{|Y_i \\cap Z_i|}{|Y_i \\cup Z_i|}^a$$\n",
    "\n",
    "Where: D = dataset, Y_i = dataset labels, H = multilabel classification output, Z_i = set of labels predicted by H for example X_i. The parameter a is the “forgiveness rate” that calibrates the severity of different errors. \n"
   ]
  },
  {
   "cell_type": "markdown",
   "metadata": {},
   "source": [
    "## Features to be included in our model\n",
    "\n",
    "### Features include the movie metadata:\n",
    "\n",
    "Movie features: \n",
    "- Cast:  certain actors and actresses may usually appear in a specific genre type\n",
    "    - Also look at cast gender (mostly male/mostly female could indicate genre) \n",
    "- Director: one director tend to make movies of similar genres\n",
    "- Released date: according to our EDA in the last report, there is a pattern for different genres released in different months\n",
    "- Duration: movies of different genres naturally may have different duration, for example animations can be much shorter than documentary\n",
    "- Ratings: ratings reflected the target audience, which can immediately signalize the genres with much underage suitable contents\n",
    "- Screen ratio: it will indicate whether the movie is released in IMAX or not, and certain movie genres are more likely to choose the IMAX format\n",
    "- Popularity: some genres can be more popular than the others\n",
    "- Vote: some genres can be have more votes than the others\n",
    "\n",
    "### Text Features and Analysis: \n",
    "Our text data includes the reviews and movie titles, as well as information we could scrape off of additional websites such as Wikipedia. One challenge of using text data is text representation, which is mapping high-dimensional text documents into a compact data structure, such as a vector or a dictionary. When applying neural networks to our text data, we will have to find ways to create relevant embeddings of our data. To analyze the text data, we will use the NLTK package in Python to eliminate neutral words (stop words), label parts of speech as well as n-grams (combinations of adjacent words) that might better reflect the meaning of combinations of words.\n",
    "\n",
    "According to our EDA on the top 500 movies of 2016, the **length of the movie title and reviews** varies by genres, so this may be one simple feature that could be predictive of genre type. Additional features include keywords in movie titles and movie reviews - to extract these keywords, we will attempt a few methods:\n",
    "\n",
    "- http://www.jait.us/uploadfile/2014/1223/20141223050800532.pdf\n",
    "- Application of neural networks to NLP: http://u.cs.biu.ac.il/~yogo/nnlp.pdf\n",
    "- We will examine Latent Dirichlet Allocation to identify words indicative of different movie topics. \n",
    "\n",
    "### Image Analysis: \n",
    "Poster Analysis on the following features:\n",
    "- RGB ratio: certain movies may tend to have a poster with cooler tones while the other may tend to have warmer tones\n",
    "- Illuminance ratio: certain movies may tend to have a poster with darker tones while the other may tend to have brighter tones\n",
    "- Number of faces in poster: drama movies may have more face in the poster compared to documentary movie (Dlib get_frontal_face_detector()\n",
    "- male/female ratio in the poster: adventure/war movies may have a higher male/female ratio compared to romance movies\n",
    "\n"
   ]
  },
  {
   "cell_type": "code",
   "execution_count": null,
   "metadata": {
    "collapsed": true
   },
   "outputs": [],
   "source": []
  }
 ],
 "metadata": {
  "anaconda-cloud": {},
  "kernelspec": {
   "display_name": "Python [conda root]",
   "language": "python",
   "name": "conda-root-py"
  },
  "language_info": {
   "codemirror_mode": {
    "name": "ipython",
    "version": 2
   },
   "file_extension": ".py",
   "mimetype": "text/x-python",
   "name": "python",
   "nbconvert_exporter": "python",
   "pygments_lexer": "ipython2",
   "version": "2.7.12"
  }
 },
 "nbformat": 4,
 "nbformat_minor": 0
}
