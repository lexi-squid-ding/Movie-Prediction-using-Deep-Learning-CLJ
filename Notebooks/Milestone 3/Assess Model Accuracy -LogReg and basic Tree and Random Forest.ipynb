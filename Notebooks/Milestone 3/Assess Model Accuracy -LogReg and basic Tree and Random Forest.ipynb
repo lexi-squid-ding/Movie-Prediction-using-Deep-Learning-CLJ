{
 "cells": [
  {
   "cell_type": "markdown",
   "metadata": {},
   "source": [
    "# Assess Model Accuracy for Logistic Regression, Decision Tree, and Random Forest"
   ]
  },
  {
   "cell_type": "markdown",
   "metadata": {},
   "source": [
    "- Add some discussion of what the metrics are \n",
    "- Define Jaccard Similarity, Hamming Loss\n",
    "- Interpret Report for each label\n",
    "- Consider AdaBoost, GradientBoost, CART"
   ]
  },
  {
   "cell_type": "code",
   "execution_count": 74,
   "metadata": {
    "collapsed": true
   },
   "outputs": [],
   "source": [
    "import numpy as np\n",
    "import pandas as pd\n",
    "import pickle\n",
    "import os\n",
    "\n",
    "from sklearn.metrics import f1_score\n",
    "from sklearn.metrics import hamming_loss \n",
    "from sklearn.metrics import make_scorer\n",
    "from sklearn.metrics import jaccard_similarity_score as jaccard_score\n",
    "from sklearn.metrics import classification_report"
   ]
  },
  {
   "cell_type": "code",
   "execution_count": 75,
   "metadata": {
    "collapsed": true
   },
   "outputs": [],
   "source": [
    "os.chdir('/Users/AlexandraDing/Documents/cs109b-best-group')\n",
    "\n",
    "# WD Where the model results are kept\n",
    "data_wd = '/Users/AlexandraDing/Documents/cs109b-best-group/Model_Results/'"
   ]
  },
  {
   "cell_type": "code",
   "execution_count": 76,
   "metadata": {
    "collapsed": false
   },
   "outputs": [
    {
     "name": "stdout",
     "output_type": "stream",
     "text": [
      "X_data shape: (5996, 124)\n",
      "X_data_std shape: (5996, 124)\n",
      "y shape (5996, 20)\n",
      "(5996, 20)\n",
      "(5996, 20)\n",
      "(5996, 20)\n"
     ]
    }
   ],
   "source": [
    "### Load Dataset\n",
    "# X: Unprocessed features\n",
    "# X_std: standardized by Preprocessor\n",
    "# y: MultiLabel Binarized targets\n",
    "[X_data, X_data_std, y_data] = pickle.load(open('continuous_features_targets.p', 'rb'))\n",
    "\n",
    "print 'X_data shape:', X_data.shape\n",
    "print 'X_data_std shape:', X_data_std.shape\n",
    "print 'y shape', y_data.shape\n",
    "\n",
    "# Unpickle Model Results\n",
    "[LogReg_cv, y_pred_LogReg] = pickle.load(open(data_wd+'LogReg_grid_results.p', 'rb'))\n",
    "print y_pred_LogReg.shape\n",
    "\n",
    "[DT_grid_cv, y_pred_Decision_Tree] = pickle.load(open(data_wd + 'DecisionTree_grid_results.p', 'rb'))\n",
    "print y_pred_Decision_Tree.shape\n",
    "\n",
    "[rf_grid_cv, y_pred_RF] = pickle.load(open(data_wd + 'RandomForest_tune_maxdepth_hamming_grid_results.p', 'rb'))\n",
    "print y_pred_RF.shape\n",
    "\n",
    "# Create list with all model prediction\n",
    "prediction_list = [y_pred_LogReg, y_pred_Decision_Tree, y_pred_RF]"
   ]
  },
  {
   "cell_type": "code",
   "execution_count": 89,
   "metadata": {
    "collapsed": false
   },
   "outputs": [
    {
     "name": "stdout",
     "output_type": "stream",
     "text": [
      "                        poster_path                                title  \\\n",
      "0  /5E99Ucwf5JJ9iDzARNk0mizQ8bN.jpg  WWE: The True Story of WrestleMania   \n",
      "1  /mQqPsqE1ZVfc2rgQ1grnPb1hI1E.jpg              The Music Never Stopped   \n",
      "2  /78DFS4QcjCBi89NtiEqAROpSkIz.jpg        Roman Polanski: A Film Memoir   \n",
      "\n",
      "  release_date                                           overview  popularity  \\\n",
      "0    3/13/2011  It is the most anticipated yearly event in Spo...    1.132434   \n",
      "1    3/18/2011  Henry struggles to bond with his estranged son...    1.414362   \n",
      "2    9/27/2011  An interview with film director Roman Polanski...    1.034842   \n",
      "\n",
      "                        original_title                     backdrop_path  \\\n",
      "0  WWE: The True Story of WrestleMania  /yGUzOJqrHbiMl3KMxb7maD8Eat0.jpg   \n",
      "1              The Music Never Stopped  /6fMQCfmsqdhhlcNx6FdleX6zTXG.jpg   \n",
      "2        Roman Polanski: A Film Memoir  /y0wy89A4tl9Ldf7pGMcWkdZ9cMo.jpg   \n",
      "\n",
      "   vote_count  video  adult      ...       10749 10751  10752 10770  \\\n",
      "0           3  False  False      ...           0     0      0     0   \n",
      "1          40  False  False      ...           0     0      0     0   \n",
      "2           9  False  False      ...           0     0      0     0   \n",
      "\n",
      "   release_year  imdb_id                      imdb_title  runtime  \\\n",
      "0          2011  1843301  The True Story of WrestleMania    122.0   \n",
      "1          2011  1613062         The Music Never Stopped    105.0   \n",
      "2          2011  2079571   Roman Polanski: A Film Memoir     90.0   \n",
      "\n",
      "            director  aspect_ratio  \n",
      "0         Kevin Dunn      1.33 : 1  \n",
      "1       Jim Kohlberg      2.35 : 1  \n",
      "2  Laurent Bouzereau           NaN  \n",
      "\n",
      "[3 rows x 39 columns]\n",
      "Adventure           367\n",
      "Fantasy             268\n",
      "Animation           339\n",
      "Drama              2179\n",
      "Horror              856\n",
      "Action              774\n",
      "Comedy             1496\n",
      "History             125\n",
      "Western              55\n",
      "Thriller           1157\n",
      "Crime               396\n",
      "Documentary         909\n",
      "Science Fiction     422\n",
      "Mystery             269\n",
      "Music               286\n",
      "Romance             650\n",
      "Family              460\n",
      "War                  73\n",
      "TV Movie            227\n",
      "dtype: int64\n",
      "[u'Adventure', u'Fantasy', u'Animation', u'Drama', u'Horror', u'Action', u'Comedy', u'History', u'Western', u'Thriller', u'Crime', u'Documentary', u'Science Fiction', u'Mystery', u'Music', u'Romance', u'Family', 'Foreign', u'War', u'TV Movie']\n"
     ]
    }
   ],
   "source": [
    "# Read column names to get genre labels for tables below\n",
    "movie_data = pd.read_csv(\"add_imdb_utf8_fixruntime_cleaned.csv\")\n",
    "# print movie_data.head(n=3)\n",
    "genre_numbers = movie_data.columns[14:33]\n",
    "genre_dict = pickle.load(open('/Users/AlexandraDing/Documents/cs109b-best-group/Milestone1/genre_dict_by_id.p', 'rb'))\n",
    "genre_labels = [genre_dict[int(genre_numbers[i])] for i in range(len(genre_numbers))]\n",
    "print pd.Series(data= np.sum(movie_data[genre_numbers], axis = 0).values, index=genre_labels)\n",
    "genre_labels.insert(17, \"Foreign\")\n",
    "print genre_labels\n"
   ]
  },
  {
   "cell_type": "code",
   "execution_count": 79,
   "metadata": {
    "collapsed": true
   },
   "outputs": [],
   "source": [
    "### SUMMARIZE MODEL ACCURACY: \n",
    "    # for MULTILABEL DATA, calculates baseline accuracy, hamming loss, f1 score, jaccard similarity, classification report\n",
    "    # INPUTS:\n",
    "        # y_prediction: predicted y\n",
    "        # y_data : ground truth y\n",
    "    # OUTPUTS:\n",
    "        # prints accuracy metrics\n",
    "        # Return 0\n",
    "\n",
    "def summarize_model_accuracy (y_prediction, y_data, names):\n",
    "    # Get basic accuracy: what proportion of labels are correct\n",
    "    print 'Accuracy:', np.mean(y_prediction == y_data)\n",
    "    \n",
    "    # Get Hamming Loss\n",
    "    print 'Hamming Loss:', hamming_loss(y_data, y_prediction)\n",
    "    \n",
    "    # Get f1\n",
    "    print 'F1 Score:', f1_score(y_data, y_prediction, average = 'weighted')\n",
    "    \n",
    "    # get Jaccard Similarity\n",
    "    print 'Jaccard Similarity:', jaccard_score(y_data, y_prediction)\n",
    "    \n",
    "    # Classification report:report recall, precision, f1 ON EACH CLASS (can be used for multilabel case)\n",
    "    print classification_report(y_data, y_prediction, target_names = names)"
   ]
  },
  {
   "cell_type": "markdown",
   "metadata": {},
   "source": [
    "## Logistic Regression Model Performance"
   ]
  },
  {
   "cell_type": "code",
   "execution_count": 80,
   "metadata": {
    "collapsed": false
   },
   "outputs": [
    {
     "name": "stdout",
     "output_type": "stream",
     "text": [
      "Accuracy: 0.595488659106\n",
      "Hamming Loss: 0.404511340894\n",
      "F1 Score: 0.363745775457\n",
      "Jaccard Similarity: 0.151680275982\n",
      "                 precision    recall  f1-score   support\n",
      "\n",
      "      Adventure       0.10      0.61      0.18       367\n",
      "        Fantasy       0.07      0.66      0.13       268\n",
      "      Animation       0.10      0.80      0.18       339\n",
      "          Drama       0.52      0.67      0.58      2179\n",
      "         Horror       0.22      0.74      0.35       856\n",
      "         Action       0.20      0.74      0.32       774\n",
      "         Comedy       0.36      0.68      0.47      1496\n",
      "        History       0.04      0.80      0.07       125\n",
      "        Western       0.02      0.73      0.03        55\n",
      "       Thriller       0.29      0.76      0.42      1157\n",
      "          Crime       0.09      0.71      0.17       396\n",
      "    Documentary       0.30      0.91      0.45       909\n",
      "Science Fiction       0.11      0.77      0.20       422\n",
      "        Mystery       0.06      0.67      0.11       269\n",
      "          Music       0.08      0.73      0.15       286\n",
      "        Romance       0.20      0.67      0.30       650\n",
      "         Family       0.15      0.69      0.24       460\n",
      "        Foreign       0.02      0.79      0.04        73\n",
      "            War       0.01      0.47      0.02        74\n",
      "       TV Movie       0.07      0.64      0.12       227\n",
      "\n",
      "    avg / total       0.27      0.72      0.36     11382\n",
      "\n"
     ]
    }
   ],
   "source": [
    "# Summarize LogReg Performance\n",
    "LogRegSummary = summarize_model_accuracy(y_pred_LogReg, y_data, genre_labels)\n",
    "# print classification_report(y_pred_LogReg, y_data, target_names = genre_labels)"
   ]
  },
  {
   "cell_type": "markdown",
   "metadata": {},
   "source": [
    "## Decision Tree Model Performance"
   ]
  },
  {
   "cell_type": "code",
   "execution_count": 81,
   "metadata": {
    "collapsed": false
   },
   "outputs": [
    {
     "name": "stdout",
     "output_type": "stream",
     "text": [
      "Accuracy: 0.908522348232\n",
      "Hamming Loss: 0.0914776517678\n",
      "F1 Score: 0.168331087028\n",
      "Jaccard Similarity: 0.13245377871\n",
      "                 precision    recall  f1-score   support\n",
      "\n",
      "      Adventure       0.59      0.04      0.08       367\n",
      "        Fantasy       0.14      0.01      0.01       268\n",
      "      Animation       0.45      0.05      0.09       339\n",
      "          Drama       0.56      0.27      0.37      2179\n",
      "         Horror       0.00      0.00      0.00       856\n",
      "         Action       0.49      0.03      0.06       774\n",
      "         Comedy       0.86      0.12      0.22      1496\n",
      "        History       0.08      0.01      0.01       125\n",
      "        Western       0.00      0.00      0.00        55\n",
      "       Thriller       0.25      0.00      0.00      1157\n",
      "          Crime       0.00      0.00      0.00       396\n",
      "    Documentary       0.82      0.30      0.44       909\n",
      "Science Fiction       0.30      0.03      0.06       422\n",
      "        Mystery       0.00      0.00      0.00       269\n",
      "          Music       0.65      0.15      0.24       286\n",
      "        Romance       0.42      0.11      0.18       650\n",
      "         Family       0.61      0.04      0.08       460\n",
      "        Foreign       0.29      0.05      0.09        73\n",
      "            War       0.00      0.00      0.00        74\n",
      "       TV Movie       0.34      0.07      0.12       227\n",
      "\n",
      "    avg / total       0.47      0.11      0.17     11382\n",
      "\n"
     ]
    }
   ],
   "source": [
    "Decision_Tree = summarize_model_accuracy(y_pred_Decision_Tree, y_data, genre_labels)"
   ]
  },
  {
   "cell_type": "markdown",
   "metadata": {},
   "source": [
    "## Random Forest Model Performance"
   ]
  },
  {
   "cell_type": "code",
   "execution_count": 82,
   "metadata": {
    "collapsed": false
   },
   "outputs": [
    {
     "name": "stdout",
     "output_type": "stream",
     "text": [
      "Accuracy: 0.909372915277\n",
      "Hamming Loss: 0.0906270847231\n",
      "F1 Score: 0.215170777762\n",
      "Jaccard Similarity: 0.169916055148\n",
      "                 precision    recall  f1-score   support\n",
      "\n",
      "      Adventure       0.52      0.06      0.11       367\n",
      "        Fantasy       0.27      0.01      0.02       268\n",
      "      Animation       0.52      0.04      0.07       339\n",
      "          Drama       0.60      0.34      0.43      2179\n",
      "         Horror       0.62      0.09      0.16       856\n",
      "         Action       0.44      0.05      0.09       774\n",
      "         Comedy       0.64      0.17      0.27      1496\n",
      "        History       0.00      0.00      0.00       125\n",
      "        Western       0.00      0.00      0.00        55\n",
      "       Thriller       0.40      0.10      0.16      1157\n",
      "          Crime       0.14      0.00      0.00       396\n",
      "    Documentary       0.76      0.35      0.48       909\n",
      "Science Fiction       0.47      0.02      0.04       422\n",
      "        Mystery       0.00      0.00      0.00       269\n",
      "          Music       0.63      0.08      0.15       286\n",
      "        Romance       0.48      0.07      0.12       650\n",
      "         Family       0.52      0.06      0.11       460\n",
      "        Foreign       0.00      0.00      0.00        73\n",
      "            War       0.00      0.00      0.00        74\n",
      "       TV Movie       0.33      0.03      0.06       227\n",
      "\n",
      "    avg / total       0.51      0.15      0.22     11382\n",
      "\n"
     ]
    }
   ],
   "source": [
    "RF_Model_Summary = summarize_model_accuracy(y_pred_RF, y_data, genre_labels)"
   ]
  },
  {
   "cell_type": "code",
   "execution_count": null,
   "metadata": {
    "collapsed": true
   },
   "outputs": [],
   "source": []
  }
 ],
 "metadata": {
  "anaconda-cloud": {},
  "kernelspec": {
   "display_name": "Python [conda root]",
   "language": "python",
   "name": "conda-root-py"
  },
  "language_info": {
   "codemirror_mode": {
    "name": "ipython",
    "version": 2
   },
   "file_extension": ".py",
   "mimetype": "text/x-python",
   "name": "python",
   "nbconvert_exporter": "python",
   "pygments_lexer": "ipython2",
   "version": "2.7.12"
  }
 },
 "nbformat": 4,
 "nbformat_minor": 1
}
