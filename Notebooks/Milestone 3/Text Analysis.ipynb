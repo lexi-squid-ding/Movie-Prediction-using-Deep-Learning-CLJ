{
 "cells": [
  {
   "cell_type": "code",
   "execution_count": 2,
   "metadata": {
    "collapsed": false
   },
   "outputs": [],
   "source": [
    "import pandas as pd\n",
    "import numpy as np\n",
    "from sklearn.feature_extraction.text import CountVectorizer\n",
    "import matplotlib\n",
    "import matplotlib.pyplot as plt\n",
    "%matplotlib inline"
   ]
  },
  {
   "cell_type": "code",
   "execution_count": 3,
   "metadata": {
    "collapsed": true
   },
   "outputs": [],
   "source": [
    "# read the one-hot-encoded data\n",
    "movie_data = pd.read_csv(\"add_imdb_utf8_fixruntime.csv\")"
   ]
  },
  {
   "cell_type": "code",
   "execution_count": 4,
   "metadata": {
    "collapsed": false
   },
   "outputs": [
    {
     "data": {
      "text/html": [
       "<div>\n",
       "<table border=\"1\" class=\"dataframe\">\n",
       "  <thead>\n",
       "    <tr style=\"text-align: right;\">\n",
       "      <th></th>\n",
       "      <th>poster_path</th>\n",
       "      <th>title</th>\n",
       "      <th>release_date</th>\n",
       "      <th>overview</th>\n",
       "      <th>popularity</th>\n",
       "      <th>original_title</th>\n",
       "      <th>backdrop_path</th>\n",
       "      <th>vote_count</th>\n",
       "      <th>video</th>\n",
       "      <th>adult</th>\n",
       "      <th>...</th>\n",
       "      <th>10749</th>\n",
       "      <th>10751</th>\n",
       "      <th>10752</th>\n",
       "      <th>10770</th>\n",
       "      <th>release_year</th>\n",
       "      <th>imdb_id</th>\n",
       "      <th>imdb_title</th>\n",
       "      <th>runtime</th>\n",
       "      <th>director</th>\n",
       "      <th>aspect_ratio</th>\n",
       "    </tr>\n",
       "  </thead>\n",
       "  <tbody>\n",
       "    <tr>\n",
       "      <th>0</th>\n",
       "      <td>/5E99Ucwf5JJ9iDzARNk0mizQ8bN.jpg</td>\n",
       "      <td>WWE: The True Story of WrestleMania</td>\n",
       "      <td>3/13/11</td>\n",
       "      <td>It is the most anticipated yearly event in Spo...</td>\n",
       "      <td>1.132434</td>\n",
       "      <td>WWE: The True Story of WrestleMania</td>\n",
       "      <td>/yGUzOJqrHbiMl3KMxb7maD8Eat0.jpg</td>\n",
       "      <td>3.0</td>\n",
       "      <td>FALSE</td>\n",
       "      <td>FALSE</td>\n",
       "      <td>...</td>\n",
       "      <td>0.0</td>\n",
       "      <td>0.0</td>\n",
       "      <td>0.0</td>\n",
       "      <td>0.0</td>\n",
       "      <td>2011.0</td>\n",
       "      <td>1843301</td>\n",
       "      <td>The True Story of WrestleMania</td>\n",
       "      <td>122.0</td>\n",
       "      <td>Kevin Dunn</td>\n",
       "      <td>1.33 : 1</td>\n",
       "    </tr>\n",
       "    <tr>\n",
       "      <th>1</th>\n",
       "      <td>/mQqPsqE1ZVfc2rgQ1grnPb1hI1E.jpg</td>\n",
       "      <td>The Music Never Stopped</td>\n",
       "      <td>3/18/11</td>\n",
       "      <td>Henry struggles to bond with his estranged son...</td>\n",
       "      <td>1.414362</td>\n",
       "      <td>The Music Never Stopped</td>\n",
       "      <td>/6fMQCfmsqdhhlcNx6FdleX6zTXG.jpg</td>\n",
       "      <td>40.0</td>\n",
       "      <td>FALSE</td>\n",
       "      <td>FALSE</td>\n",
       "      <td>...</td>\n",
       "      <td>0.0</td>\n",
       "      <td>0.0</td>\n",
       "      <td>0.0</td>\n",
       "      <td>0.0</td>\n",
       "      <td>2011.0</td>\n",
       "      <td>1613062</td>\n",
       "      <td>The Music Never Stopped</td>\n",
       "      <td>105.0</td>\n",
       "      <td>Jim Kohlberg</td>\n",
       "      <td>2.35 : 1</td>\n",
       "    </tr>\n",
       "    <tr>\n",
       "      <th>2</th>\n",
       "      <td>/78DFS4QcjCBi89NtiEqAROpSkIz.jpg</td>\n",
       "      <td>Roman Polanski: A Film Memoir</td>\n",
       "      <td>9/27/11</td>\n",
       "      <td>An interview with film director Roman Polanski...</td>\n",
       "      <td>1.034842</td>\n",
       "      <td>Roman Polanski: A Film Memoir</td>\n",
       "      <td>/y0wy89A4tl9Ldf7pGMcWkdZ9cMo.jpg</td>\n",
       "      <td>9.0</td>\n",
       "      <td>FALSE</td>\n",
       "      <td>FALSE</td>\n",
       "      <td>...</td>\n",
       "      <td>0.0</td>\n",
       "      <td>0.0</td>\n",
       "      <td>0.0</td>\n",
       "      <td>0.0</td>\n",
       "      <td>2011.0</td>\n",
       "      <td>2079571</td>\n",
       "      <td>Roman Polanski: A Film Memoir</td>\n",
       "      <td>90.0</td>\n",
       "      <td>Laurent Bouzereau</td>\n",
       "      <td>NaN</td>\n",
       "    </tr>\n",
       "    <tr>\n",
       "      <th>3</th>\n",
       "      <td>/8CJJv7DJCxglkXqkvzmgMb5TMwD.jpg</td>\n",
       "      <td>Wings of Life</td>\n",
       "      <td>3/16/11</td>\n",
       "      <td>A beautiful love story in danger. Our future d...</td>\n",
       "      <td>1.128282</td>\n",
       "      <td>Wings of Life</td>\n",
       "      <td>/sIdz0BLKO1LxDRGBrvqFcJMTwkp.jpg</td>\n",
       "      <td>8.0</td>\n",
       "      <td>FALSE</td>\n",
       "      <td>FALSE</td>\n",
       "      <td>...</td>\n",
       "      <td>0.0</td>\n",
       "      <td>0.0</td>\n",
       "      <td>0.0</td>\n",
       "      <td>0.0</td>\n",
       "      <td>2011.0</td>\n",
       "      <td>1222816</td>\n",
       "      <td>Disneynature: Wings of Life</td>\n",
       "      <td>81.0</td>\n",
       "      <td>Louie Schwartzberg</td>\n",
       "      <td>NaN</td>\n",
       "    </tr>\n",
       "    <tr>\n",
       "      <th>4</th>\n",
       "      <td>/3tWdaS3t7UkH1q48qs9GhSa9dBD.jpg</td>\n",
       "      <td>X-Ray Earth</td>\n",
       "      <td>5/22/11</td>\n",
       "      <td>From the churning interior to the oceans and l...</td>\n",
       "      <td>1.014832</td>\n",
       "      <td>X-Ray Earth</td>\n",
       "      <td>/rWr02A6nzAdaXBkkWvpXhWeb63Y.jpg</td>\n",
       "      <td>0.0</td>\n",
       "      <td>FALSE</td>\n",
       "      <td>FALSE</td>\n",
       "      <td>...</td>\n",
       "      <td>0.0</td>\n",
       "      <td>0.0</td>\n",
       "      <td>0.0</td>\n",
       "      <td>0.0</td>\n",
       "      <td>2011.0</td>\n",
       "      <td>1845893</td>\n",
       "      <td>X-Ray Earth</td>\n",
       "      <td>120.0</td>\n",
       "      <td>NaN</td>\n",
       "      <td>NaN</td>\n",
       "    </tr>\n",
       "  </tbody>\n",
       "</table>\n",
       "<p>5 rows × 39 columns</p>\n",
       "</div>"
      ],
      "text/plain": [
       "                        poster_path                                title  \\\n",
       "0  /5E99Ucwf5JJ9iDzARNk0mizQ8bN.jpg  WWE: The True Story of WrestleMania   \n",
       "1  /mQqPsqE1ZVfc2rgQ1grnPb1hI1E.jpg              The Music Never Stopped   \n",
       "2  /78DFS4QcjCBi89NtiEqAROpSkIz.jpg        Roman Polanski: A Film Memoir   \n",
       "3  /8CJJv7DJCxglkXqkvzmgMb5TMwD.jpg                        Wings of Life   \n",
       "4  /3tWdaS3t7UkH1q48qs9GhSa9dBD.jpg                          X-Ray Earth   \n",
       "\n",
       "  release_date                                           overview  popularity  \\\n",
       "0      3/13/11  It is the most anticipated yearly event in Spo...    1.132434   \n",
       "1      3/18/11  Henry struggles to bond with his estranged son...    1.414362   \n",
       "2      9/27/11  An interview with film director Roman Polanski...    1.034842   \n",
       "3      3/16/11  A beautiful love story in danger. Our future d...    1.128282   \n",
       "4      5/22/11  From the churning interior to the oceans and l...    1.014832   \n",
       "\n",
       "                        original_title                     backdrop_path  \\\n",
       "0  WWE: The True Story of WrestleMania  /yGUzOJqrHbiMl3KMxb7maD8Eat0.jpg   \n",
       "1              The Music Never Stopped  /6fMQCfmsqdhhlcNx6FdleX6zTXG.jpg   \n",
       "2        Roman Polanski: A Film Memoir  /y0wy89A4tl9Ldf7pGMcWkdZ9cMo.jpg   \n",
       "3                        Wings of Life  /sIdz0BLKO1LxDRGBrvqFcJMTwkp.jpg   \n",
       "4                          X-Ray Earth  /rWr02A6nzAdaXBkkWvpXhWeb63Y.jpg   \n",
       "\n",
       "   vote_count  video  adult      ...      10749 10751  10752 10770  \\\n",
       "0         3.0  FALSE  FALSE      ...        0.0   0.0    0.0   0.0   \n",
       "1        40.0  FALSE  FALSE      ...        0.0   0.0    0.0   0.0   \n",
       "2         9.0  FALSE  FALSE      ...        0.0   0.0    0.0   0.0   \n",
       "3         8.0  FALSE  FALSE      ...        0.0   0.0    0.0   0.0   \n",
       "4         0.0  FALSE  FALSE      ...        0.0   0.0    0.0   0.0   \n",
       "\n",
       "   release_year  imdb_id                      imdb_title  runtime  \\\n",
       "0        2011.0  1843301  The True Story of WrestleMania    122.0   \n",
       "1        2011.0  1613062         The Music Never Stopped    105.0   \n",
       "2        2011.0  2079571   Roman Polanski: A Film Memoir     90.0   \n",
       "3        2011.0  1222816     Disneynature: Wings of Life     81.0   \n",
       "4        2011.0  1845893                     X-Ray Earth    120.0   \n",
       "\n",
       "             director  aspect_ratio  \n",
       "0          Kevin Dunn      1.33 : 1  \n",
       "1        Jim Kohlberg      2.35 : 1  \n",
       "2   Laurent Bouzereau           NaN  \n",
       "3  Louie Schwartzberg           NaN  \n",
       "4                 NaN           NaN  \n",
       "\n",
       "[5 rows x 39 columns]"
      ]
     },
     "execution_count": 4,
     "metadata": {},
     "output_type": "execute_result"
    }
   ],
   "source": [
    "movie_data.head()"
   ]
  },
  {
   "cell_type": "code",
   "execution_count": 5,
   "metadata": {
    "collapsed": false
   },
   "outputs": [],
   "source": [
    "# apply bag-of-words to movie titles\n",
    "# eliminate common stop words\n",
    "vectorizer = CountVectorizer(stop_words='english')\n",
    "\n",
    "# apply to movie titles\n",
    "corpus_title = movie_data['title'].values\n",
    "# apply to movie overview\n",
    "corpus_overview = movie_data['overview'].values"
   ]
  },
  {
   "cell_type": "code",
   "execution_count": 6,
   "metadata": {
    "collapsed": false
   },
   "outputs": [],
   "source": [
    "#obtain the index that caused the encoding error\n",
    "bad_title_index = []\n",
    "for i in range(len(corpus_title)):\n",
    "    try:\n",
    "        corpus_title[i].encode('utf-8')\n",
    "    except:\n",
    "        bad_title_index.append(i)"
   ]
  },
  {
   "cell_type": "code",
   "execution_count": 7,
   "metadata": {
    "collapsed": true
   },
   "outputs": [],
   "source": [
    "#obtain the index that caused the encoding error\n",
    "bad_ov_index = []\n",
    "for i in range(len(corpus_overview)):\n",
    "    try:\n",
    "        corpus_overview[i].encode('utf-8')\n",
    "    except:\n",
    "        bad_ov_index.append(i)"
   ]
  },
  {
   "cell_type": "code",
   "execution_count": 8,
   "metadata": {
    "collapsed": false
   },
   "outputs": [
    {
     "name": "stdout",
     "output_type": "stream",
     "text": [
      "64\n",
      "[58, 139, 167, 174, 286, 398, 628, 685, 777, 889, 976, 987, 1002, 1082, 1183, 1207, 1689, 1712, 1728, 1753, 1777, 2023, 2030, 2109, 2233, 2358, 2483, 2532, 2582, 2583, 2584, 2585, 2586, 2587, 2588, 2589, 2590, 2690, 2867, 2871, 2952, 2991, 3056, 3188, 3251, 3254, 3286, 3540, 3571, 3772, 3898, 4105, 4268, 4338, 4348, 4681, 5329, 5353, 5644, 5708, 5817, 5864, 5878, 5909]\n"
     ]
    }
   ],
   "source": [
    "#check the bad title index\n",
    "print len(bad_title_index)\n",
    "print bad_title_index"
   ]
  },
  {
   "cell_type": "code",
   "execution_count": 9,
   "metadata": {
    "collapsed": false
   },
   "outputs": [
    {
     "name": "stdout",
     "output_type": "stream",
     "text": [
      "1119\n"
     ]
    }
   ],
   "source": [
    "#check the bad overview index\n",
    "print len(bad_ov_index)\n",
    "# print bad_ov_index"
   ]
  },
  {
   "cell_type": "markdown",
   "metadata": {},
   "source": [
    "**Comments:**\n",
    "When we first explored the number of movie titles with encoding errors, it seems only a moderate amount of movie titles have thie issue. However, when it comes to the movie overview, there is an extensive number of movie overviews which has encoding problems. Thus, it is decided that we cannot simply decided the movies with error and instead we should only remove the problematic words."
   ]
  },
  {
   "cell_type": "code",
   "execution_count": 10,
   "metadata": {
    "collapsed": false
   },
   "outputs": [
    {
     "name": "stdout",
     "output_type": "stream",
     "text": [
      "[2582, 2583, 2584, 2585, 2586, 2587, 2588, 2589, 2590]\n",
      "[nan nan nan nan nan nan nan nan nan]\n",
      "['missingval' 'missingval' 'missingval' 'missingval' 'missingval'\n",
      " 'missingval' 'missingval' 'missingval' 'missingval']\n"
     ]
    }
   ],
   "source": [
    "#find the index of movie titles with nan\n",
    "null_title_index = []\n",
    "\n",
    "for i in range(len(corpus_title)):\n",
    "    if str(corpus_title[i]) == \"nan\":\n",
    "        null_title_index.append(i)\n",
    "        \n",
    "print null_title_index\n",
    "#check if the index is correct\n",
    "print corpus_title[null_title_index]\n",
    "\n",
    "#encode nan as missingval\n",
    "#use 'missingval' but not 'missing' because 'missing' can really appear in movie titles\n",
    "corpus_title[null_title_index] = 'missingval'\n",
    "#check if encoding is correct\n",
    "print corpus_title[null_title_index]"
   ]
  },
  {
   "cell_type": "code",
   "execution_count": 11,
   "metadata": {
    "collapsed": false
   },
   "outputs": [],
   "source": [
    "# #create a list that does not contain the null index\n",
    "# bad_title_index_notnan = list(Set(bad_title_index) - Set(null_title_index))\n"
   ]
  },
  {
   "cell_type": "code",
   "execution_count": 12,
   "metadata": {
    "collapsed": false
   },
   "outputs": [
    {
     "name": "stdout",
     "output_type": "stream",
     "text": [
      "[62, 175, 274, 442, 528, 542, 908, 1253, 1290, 1313, 1365, 1547, 1948, 2106, 2582, 2583, 2584, 2585, 2586, 2587, 2588, 2589, 2590, 2950, 3357, 3433, 3552, 3693, 3846, 4330, 4912, 5018, 5114, 5179, 5282, 5293, 5433, 5717, 5848, 5924]\n",
      "[nan nan nan nan nan nan nan nan nan nan nan nan nan nan nan nan nan nan\n",
      " nan nan nan nan nan nan nan nan nan nan nan nan nan nan nan nan nan nan\n",
      " nan nan nan nan]\n",
      "['missingval' 'missingval' 'missingval' 'missingval' 'missingval'\n",
      " 'missingval' 'missingval' 'missingval' 'missingval' 'missingval'\n",
      " 'missingval' 'missingval' 'missingval' 'missingval' 'missingval'\n",
      " 'missingval' 'missingval' 'missingval' 'missingval' 'missingval'\n",
      " 'missingval' 'missingval' 'missingval' 'missingval' 'missingval'\n",
      " 'missingval' 'missingval' 'missingval' 'missingval' 'missingval'\n",
      " 'missingval' 'missingval' 'missingval' 'missingval' 'missingval'\n",
      " 'missingval' 'missingval' 'missingval' 'missingval' 'missingval']\n"
     ]
    }
   ],
   "source": [
    "#find the index of movie titles with nan\n",
    "null_ov_index = []\n",
    "\n",
    "for i in range(len(corpus_overview)):\n",
    "    if str(corpus_overview[i]) == \"nan\":\n",
    "        null_ov_index.append(i)\n",
    "        \n",
    "print null_ov_index\n",
    "#check if the index is correct\n",
    "print corpus_overview[null_ov_index]\n",
    "\n",
    "#encode nan as missingval\n",
    "#use 'missingval' but not 'missing' because 'missing' can really appear in movie titles\n",
    "corpus_overview[null_ov_index] = 'missingval'\n",
    "#check if encoding is correct\n",
    "print corpus_overview[null_ov_index]"
   ]
  },
  {
   "cell_type": "code",
   "execution_count": 13,
   "metadata": {
    "collapsed": false
   },
   "outputs": [
    {
     "name": "stdout",
     "output_type": "stream",
     "text": [
      "Attack of La\n",
      "Irene Huss 7: Den Som Vakar I\n",
      "Dedemin\n",
      "The Is Ours Vol 1 Everywhere Further Than Everyplace Else\n",
      "Live At Roseland - Elements Of 4\n",
      "Las razones del\n",
      "a mirror in the sky\n",
      "Suite The Movie: Take it back! The Miraculous Melody that Connects Hearts!\n",
      "Die\n",
      "El de Budapest\n",
      "Rihanna The Loud Tour at Rock in Rio\n",
      "Les tribulations d'une\n",
      "Kamen Rider Super Sentai: Super Hero Taihen Who�۪s the culprit?!\n",
      "Berlin\n",
      "Magnus IV\n",
      "Nightmare - Painajainen\n",
      "La rusa\n",
      "Les\n",
      "El magnate\n",
      "A Tale 2: Escape From Paradise\n",
      "Die schlagen\n",
      "and Fufu's Great Adventure: Save the Seven-Colored Flower!\n",
      "Los\n",
      "You, Planet An Exploration in 3D\n",
      "Guten Tag,\n",
      "Good Freda\n",
      "Kedi\n",
      "Radical - The Controversial Saga of Figueiredo\n",
      "missingval\n",
      "missingval\n",
      "missingval\n",
      "missingval\n",
      "missingval\n",
      "missingval\n",
      "missingval\n",
      "missingval\n",
      "missingval\n",
      "Wilde\n",
      "K��rm��z��\n",
      "Hititya Madalyonun\n",
      "Minha ̩ uma\n",
      "The Rendez-Vous of\n",
      "Canon (Fidelidad al\n",
      "\n",
      "- Mrs Carter Show Tour HBO\n",
      "The Line\n",
      "12 Boys\n",
      "Waiting. Love\n",
      "quien pueda\n",
      "Wide Boyz II Slender Gentlemen\n",
      "Suite\n",
      "3 Minutes, 10 Bullets\n",
      "Ouragan, d'un vent\n",
      "Christian Louboutin: The Most Luxurious Shoes\n",
      "Great Escape\n",
      "Prey\n",
      "They Came from the Swamp: The Films of William\n",
      "Society\n",
      "Andy Home For The Holidays\n",
      "Martin Lawrence Time\n",
      "Birth of a Legend\n",
      "The\n",
      "Rieu: Christmas in London\n",
      "Chipotle Love\n"
     ]
    }
   ],
   "source": [
    "for i in bad_title_index:\n",
    "    bad_title = corpus_title[i].split()\n",
    "    for s in bad_title:\n",
    "        try:\n",
    "            m = s.encode('utf-8')\n",
    "        except:\n",
    "            bad_title.remove(s)\n",
    "    \n",
    "    #re-join the words with the problematic words being removed\n",
    "    corpus_title[i] = \" \".join(bad_title)          \n",
    "    print corpus_title[i]     "
   ]
  },
  {
   "cell_type": "code",
   "execution_count": 14,
   "metadata": {
    "collapsed": false
   },
   "outputs": [
    {
     "name": "stdout",
     "output_type": "stream",
     "text": [
      "Kamen Rider Super Sentai: Super Hero Taihen Who�۪s the culprit?!\n",
      "K��rm��z��\n",
      "Minha ̩ uma\n"
     ]
    }
   ],
   "source": [
    "bad_title_unfixed_index =[]\n",
    "for i in range(len(corpus_title)):\n",
    "    try:\n",
    "        corpus_title[i].encode('utf-8')\n",
    "    except:\n",
    "        print corpus_title[i]\n",
    "        bad_title_unfixed_index.append(i)"
   ]
  },
  {
   "cell_type": "code",
   "execution_count": 15,
   "metadata": {
    "collapsed": false
   },
   "outputs": [
    {
     "name": "stdout",
     "output_type": "stream",
     "text": [
      "Kamen Rider Super Sentai: Super Hero Taihen the culprit?!\n",
      "\n",
      "Minha uma\n"
     ]
    }
   ],
   "source": [
    "for i in bad_title_unfixed_index:\n",
    "    bad_title = corpus_title[i].split()\n",
    "\n",
    "    for s in bad_title:\n",
    "        try:\n",
    "            m = s.encode('utf-8')\n",
    "        except:\n",
    "\n",
    "            bad_title.remove(s)\n",
    "        \n",
    "    corpus_title[i] = \" \".join(bad_title)          \n",
    "    print corpus_title[i]   "
   ]
  },
  {
   "cell_type": "code",
   "execution_count": 16,
   "metadata": {
    "collapsed": false
   },
   "outputs": [],
   "source": [
    "title_counts = vectorizer.fit_transform(corpus_title)\n",
    "# convert to array\n",
    "title_counts = title_counts.toarray()\n",
    "\n",
    "# word list for title\n",
    "title_words = vectorizer.get_feature_names()\n",
    "title_words = np.asarray(title_words)"
   ]
  },
  {
   "cell_type": "code",
   "execution_count": 17,
   "metadata": {
    "collapsed": false
   },
   "outputs": [
    {
     "data": {
      "text/html": [
       "<div>\n",
       "<table border=\"1\" class=\"dataframe\">\n",
       "  <thead>\n",
       "    <tr style=\"text-align: right;\">\n",
       "      <th></th>\n",
       "      <th>000</th>\n",
       "      <th>0014</th>\n",
       "      <th>0069</th>\n",
       "      <th>0s</th>\n",
       "      <th>10</th>\n",
       "      <th>100</th>\n",
       "      <th>1000</th>\n",
       "      <th>102</th>\n",
       "      <th>104</th>\n",
       "      <th>107</th>\n",
       "      <th>...</th>\n",
       "      <th>zombi</th>\n",
       "      <th>zombie</th>\n",
       "      <th>zombies</th>\n",
       "      <th>zombinator</th>\n",
       "      <th>zona</th>\n",
       "      <th>zookeeper</th>\n",
       "      <th>zoom</th>\n",
       "      <th>zoombies</th>\n",
       "      <th>zoritsa</th>\n",
       "      <th>zulu</th>\n",
       "    </tr>\n",
       "  </thead>\n",
       "  <tbody>\n",
       "    <tr>\n",
       "      <th>0</th>\n",
       "      <td>0</td>\n",
       "      <td>0</td>\n",
       "      <td>0</td>\n",
       "      <td>0</td>\n",
       "      <td>0</td>\n",
       "      <td>0</td>\n",
       "      <td>0</td>\n",
       "      <td>0</td>\n",
       "      <td>0</td>\n",
       "      <td>0</td>\n",
       "      <td>...</td>\n",
       "      <td>0</td>\n",
       "      <td>0</td>\n",
       "      <td>0</td>\n",
       "      <td>0</td>\n",
       "      <td>0</td>\n",
       "      <td>0</td>\n",
       "      <td>0</td>\n",
       "      <td>0</td>\n",
       "      <td>0</td>\n",
       "      <td>0</td>\n",
       "    </tr>\n",
       "    <tr>\n",
       "      <th>1</th>\n",
       "      <td>0</td>\n",
       "      <td>0</td>\n",
       "      <td>0</td>\n",
       "      <td>0</td>\n",
       "      <td>0</td>\n",
       "      <td>0</td>\n",
       "      <td>0</td>\n",
       "      <td>0</td>\n",
       "      <td>0</td>\n",
       "      <td>0</td>\n",
       "      <td>...</td>\n",
       "      <td>0</td>\n",
       "      <td>0</td>\n",
       "      <td>0</td>\n",
       "      <td>0</td>\n",
       "      <td>0</td>\n",
       "      <td>0</td>\n",
       "      <td>0</td>\n",
       "      <td>0</td>\n",
       "      <td>0</td>\n",
       "      <td>0</td>\n",
       "    </tr>\n",
       "    <tr>\n",
       "      <th>2</th>\n",
       "      <td>0</td>\n",
       "      <td>0</td>\n",
       "      <td>0</td>\n",
       "      <td>0</td>\n",
       "      <td>0</td>\n",
       "      <td>0</td>\n",
       "      <td>0</td>\n",
       "      <td>0</td>\n",
       "      <td>0</td>\n",
       "      <td>0</td>\n",
       "      <td>...</td>\n",
       "      <td>0</td>\n",
       "      <td>0</td>\n",
       "      <td>0</td>\n",
       "      <td>0</td>\n",
       "      <td>0</td>\n",
       "      <td>0</td>\n",
       "      <td>0</td>\n",
       "      <td>0</td>\n",
       "      <td>0</td>\n",
       "      <td>0</td>\n",
       "    </tr>\n",
       "    <tr>\n",
       "      <th>3</th>\n",
       "      <td>0</td>\n",
       "      <td>0</td>\n",
       "      <td>0</td>\n",
       "      <td>0</td>\n",
       "      <td>0</td>\n",
       "      <td>0</td>\n",
       "      <td>0</td>\n",
       "      <td>0</td>\n",
       "      <td>0</td>\n",
       "      <td>0</td>\n",
       "      <td>...</td>\n",
       "      <td>0</td>\n",
       "      <td>0</td>\n",
       "      <td>0</td>\n",
       "      <td>0</td>\n",
       "      <td>0</td>\n",
       "      <td>0</td>\n",
       "      <td>0</td>\n",
       "      <td>0</td>\n",
       "      <td>0</td>\n",
       "      <td>0</td>\n",
       "    </tr>\n",
       "    <tr>\n",
       "      <th>4</th>\n",
       "      <td>0</td>\n",
       "      <td>0</td>\n",
       "      <td>0</td>\n",
       "      <td>0</td>\n",
       "      <td>0</td>\n",
       "      <td>0</td>\n",
       "      <td>0</td>\n",
       "      <td>0</td>\n",
       "      <td>0</td>\n",
       "      <td>0</td>\n",
       "      <td>...</td>\n",
       "      <td>0</td>\n",
       "      <td>0</td>\n",
       "      <td>0</td>\n",
       "      <td>0</td>\n",
       "      <td>0</td>\n",
       "      <td>0</td>\n",
       "      <td>0</td>\n",
       "      <td>0</td>\n",
       "      <td>0</td>\n",
       "      <td>0</td>\n",
       "    </tr>\n",
       "  </tbody>\n",
       "</table>\n",
       "<p>5 rows × 6204 columns</p>\n",
       "</div>"
      ],
      "text/plain": [
       "   000  0014  0069  0s  10  100  1000  102  104  107  ...   zombi  zombie  \\\n",
       "0    0     0     0   0   0    0     0    0    0    0  ...       0       0   \n",
       "1    0     0     0   0   0    0     0    0    0    0  ...       0       0   \n",
       "2    0     0     0   0   0    0     0    0    0    0  ...       0       0   \n",
       "3    0     0     0   0   0    0     0    0    0    0  ...       0       0   \n",
       "4    0     0     0   0   0    0     0    0    0    0  ...       0       0   \n",
       "\n",
       "   zombies  zombinator  zona  zookeeper  zoom  zoombies  zoritsa  zulu  \n",
       "0        0           0     0          0     0         0        0     0  \n",
       "1        0           0     0          0     0         0        0     0  \n",
       "2        0           0     0          0     0         0        0     0  \n",
       "3        0           0     0          0     0         0        0     0  \n",
       "4        0           0     0          0     0         0        0     0  \n",
       "\n",
       "[5 rows x 6204 columns]"
      ]
     },
     "execution_count": 17,
     "metadata": {},
     "output_type": "execute_result"
    }
   ],
   "source": [
    "title_counts_df = pd.DataFrame(title_counts)\n",
    "title_counts_df.columns = title_words\n",
    "title_counts_df.head()"
   ]
  },
  {
   "cell_type": "code",
   "execution_count": 18,
   "metadata": {
    "collapsed": false
   },
   "outputs": [
    {
     "name": "stderr",
     "output_type": "stream",
     "text": [
      "/Users/Cynthia9109/anaconda/lib/python2.7/site-packages/ipykernel/__main__.py:2: FutureWarning: sort is deprecated, use sort_values(inplace=True) for INPLACE sorting\n",
      "  from ipykernel import kernelapp as app\n"
     ]
    },
    {
     "data": {
      "text/plain": [
       "christmas            120\n",
       "love                  93\n",
       "live                  71\n",
       "story                 65\n",
       "movie                 63\n",
       "man                   55\n",
       "life                  54\n",
       "dead                  47\n",
       "night                 47\n",
       "girl                  41\n",
       "dark                  40\n",
       "vs                    39\n",
       "day                   36\n",
       "big                   36\n",
       "time                  34\n",
       "house                 32\n",
       "road                  31\n",
       "star                  30\n",
       "world                 30\n",
       "blood                 29\n",
       "home                  27\n",
       "little                27\n",
       "new                   25\n",
       "american              25\n",
       "days                  25\n",
       "mr                    25\n",
       "girls                 24\n",
       "black                 23\n",
       "white                 23\n",
       "king                  22\n",
       "                    ... \n",
       "loosies                1\n",
       "lopez                  1\n",
       "lorax                  1\n",
       "thirst                 1\n",
       "lore                   1\n",
       "thinning               1\n",
       "lose                   1\n",
       "losers                 1\n",
       "loserville             1\n",
       "loss                   1\n",
       "thinking               1\n",
       "thirteen               1\n",
       "lookalike              1\n",
       "thirteenth             1\n",
       "lol                    1\n",
       "locke                  1\n",
       "lockjaw                1\n",
       "lodge                  1\n",
       "logan                  1\n",
       "logbook_serbistan      1\n",
       "logic                  1\n",
       "thorberg               1\n",
       "longwood               1\n",
       "tho                    1\n",
       "loneliest              1\n",
       "lonesome               1\n",
       "thirty                 1\n",
       "longhorns              1\n",
       "longwave               1\n",
       "zulu                   1\n",
       "dtype: int64"
      ]
     },
     "execution_count": 18,
     "metadata": {},
     "output_type": "execute_result"
    }
   ],
   "source": [
    "word_count = title_counts_df.sum(axis=0)\n",
    "word_count.sort(ascending=False, inplace=False)"
   ]
  },
  {
   "cell_type": "code",
   "execution_count": 19,
   "metadata": {
    "collapsed": false
   },
   "outputs": [],
   "source": [
    "#append the count for each word at the end\n",
    "title_counts_df = title_counts_df.append(word_count, ignore_index=True)\n",
    "#change the index name to be more informative\n",
    "title_counts_df=title_counts_df.rename(index = {6007:'sum'})"
   ]
  },
  {
   "cell_type": "code",
   "execution_count": 20,
   "metadata": {
    "collapsed": false
   },
   "outputs": [
    {
     "data": {
      "text/html": [
       "<div>\n",
       "<table border=\"1\" class=\"dataframe\">\n",
       "  <thead>\n",
       "    <tr style=\"text-align: right;\">\n",
       "      <th></th>\n",
       "      <th>000</th>\n",
       "      <th>0014</th>\n",
       "      <th>0069</th>\n",
       "      <th>0s</th>\n",
       "      <th>10</th>\n",
       "      <th>100</th>\n",
       "      <th>1000</th>\n",
       "      <th>102</th>\n",
       "      <th>104</th>\n",
       "      <th>107</th>\n",
       "      <th>...</th>\n",
       "      <th>zombi</th>\n",
       "      <th>zombie</th>\n",
       "      <th>zombies</th>\n",
       "      <th>zombinator</th>\n",
       "      <th>zona</th>\n",
       "      <th>zookeeper</th>\n",
       "      <th>zoom</th>\n",
       "      <th>zoombies</th>\n",
       "      <th>zoritsa</th>\n",
       "      <th>zulu</th>\n",
       "    </tr>\n",
       "  </thead>\n",
       "  <tbody>\n",
       "    <tr>\n",
       "      <th>6003</th>\n",
       "      <td>0</td>\n",
       "      <td>0</td>\n",
       "      <td>0</td>\n",
       "      <td>0</td>\n",
       "      <td>0</td>\n",
       "      <td>0</td>\n",
       "      <td>0</td>\n",
       "      <td>0</td>\n",
       "      <td>0</td>\n",
       "      <td>0</td>\n",
       "      <td>...</td>\n",
       "      <td>0</td>\n",
       "      <td>0</td>\n",
       "      <td>0</td>\n",
       "      <td>0</td>\n",
       "      <td>0</td>\n",
       "      <td>0</td>\n",
       "      <td>0</td>\n",
       "      <td>0</td>\n",
       "      <td>0</td>\n",
       "      <td>0</td>\n",
       "    </tr>\n",
       "    <tr>\n",
       "      <th>6004</th>\n",
       "      <td>0</td>\n",
       "      <td>0</td>\n",
       "      <td>0</td>\n",
       "      <td>0</td>\n",
       "      <td>0</td>\n",
       "      <td>0</td>\n",
       "      <td>0</td>\n",
       "      <td>0</td>\n",
       "      <td>0</td>\n",
       "      <td>0</td>\n",
       "      <td>...</td>\n",
       "      <td>0</td>\n",
       "      <td>0</td>\n",
       "      <td>0</td>\n",
       "      <td>0</td>\n",
       "      <td>0</td>\n",
       "      <td>0</td>\n",
       "      <td>0</td>\n",
       "      <td>0</td>\n",
       "      <td>0</td>\n",
       "      <td>0</td>\n",
       "    </tr>\n",
       "    <tr>\n",
       "      <th>6005</th>\n",
       "      <td>0</td>\n",
       "      <td>0</td>\n",
       "      <td>0</td>\n",
       "      <td>0</td>\n",
       "      <td>0</td>\n",
       "      <td>0</td>\n",
       "      <td>0</td>\n",
       "      <td>0</td>\n",
       "      <td>0</td>\n",
       "      <td>0</td>\n",
       "      <td>...</td>\n",
       "      <td>0</td>\n",
       "      <td>0</td>\n",
       "      <td>0</td>\n",
       "      <td>0</td>\n",
       "      <td>0</td>\n",
       "      <td>0</td>\n",
       "      <td>0</td>\n",
       "      <td>0</td>\n",
       "      <td>0</td>\n",
       "      <td>0</td>\n",
       "    </tr>\n",
       "    <tr>\n",
       "      <th>6006</th>\n",
       "      <td>0</td>\n",
       "      <td>0</td>\n",
       "      <td>0</td>\n",
       "      <td>0</td>\n",
       "      <td>0</td>\n",
       "      <td>0</td>\n",
       "      <td>0</td>\n",
       "      <td>0</td>\n",
       "      <td>0</td>\n",
       "      <td>0</td>\n",
       "      <td>...</td>\n",
       "      <td>0</td>\n",
       "      <td>0</td>\n",
       "      <td>0</td>\n",
       "      <td>0</td>\n",
       "      <td>0</td>\n",
       "      <td>0</td>\n",
       "      <td>0</td>\n",
       "      <td>0</td>\n",
       "      <td>0</td>\n",
       "      <td>0</td>\n",
       "    </tr>\n",
       "    <tr>\n",
       "      <th>sum</th>\n",
       "      <td>3</td>\n",
       "      <td>1</td>\n",
       "      <td>1</td>\n",
       "      <td>1</td>\n",
       "      <td>9</td>\n",
       "      <td>6</td>\n",
       "      <td>2</td>\n",
       "      <td>1</td>\n",
       "      <td>1</td>\n",
       "      <td>1</td>\n",
       "      <td>...</td>\n",
       "      <td>1</td>\n",
       "      <td>16</td>\n",
       "      <td>7</td>\n",
       "      <td>1</td>\n",
       "      <td>1</td>\n",
       "      <td>1</td>\n",
       "      <td>1</td>\n",
       "      <td>1</td>\n",
       "      <td>1</td>\n",
       "      <td>1</td>\n",
       "    </tr>\n",
       "  </tbody>\n",
       "</table>\n",
       "<p>5 rows × 6204 columns</p>\n",
       "</div>"
      ],
      "text/plain": [
       "      000  0014  0069  0s  10  100  1000  102  104  107  ...   zombi  zombie  \\\n",
       "6003    0     0     0   0   0    0     0    0    0    0  ...       0       0   \n",
       "6004    0     0     0   0   0    0     0    0    0    0  ...       0       0   \n",
       "6005    0     0     0   0   0    0     0    0    0    0  ...       0       0   \n",
       "6006    0     0     0   0   0    0     0    0    0    0  ...       0       0   \n",
       "sum     3     1     1   1   9    6     2    1    1    1  ...       1      16   \n",
       "\n",
       "      zombies  zombinator  zona  zookeeper  zoom  zoombies  zoritsa  zulu  \n",
       "6003        0           0     0          0     0         0        0     0  \n",
       "6004        0           0     0          0     0         0        0     0  \n",
       "6005        0           0     0          0     0         0        0     0  \n",
       "6006        0           0     0          0     0         0        0     0  \n",
       "sum         7           1     1          1     1         1        1     1  \n",
       "\n",
       "[5 rows x 6204 columns]"
      ]
     },
     "execution_count": 20,
     "metadata": {},
     "output_type": "execute_result"
    }
   ],
   "source": [
    "title_counts_df.tail()"
   ]
  },
  {
   "cell_type": "code",
   "execution_count": 21,
   "metadata": {
    "collapsed": false
   },
   "outputs": [],
   "source": [
    "#sort dataframe by the value of the last row\n",
    "new_columns = title_counts_df.columns[title_counts_df.ix[title_counts_df.last_valid_index()].argsort()]\n",
    "title_counts_df = title_counts_df[new_columns]\n",
    "#reverse the columns order\n",
    "title_counts_df = title_counts_df[title_counts_df.columns[::-1]]"
   ]
  },
  {
   "cell_type": "code",
   "execution_count": 22,
   "metadata": {
    "collapsed": false
   },
   "outputs": [
    {
     "data": {
      "text/html": [
       "<div>\n",
       "<table border=\"1\" class=\"dataframe\">\n",
       "  <thead>\n",
       "    <tr style=\"text-align: right;\">\n",
       "      <th></th>\n",
       "      <th>christmas</th>\n",
       "      <th>love</th>\n",
       "      <th>live</th>\n",
       "      <th>story</th>\n",
       "      <th>movie</th>\n",
       "      <th>man</th>\n",
       "      <th>life</th>\n",
       "      <th>dead</th>\n",
       "      <th>night</th>\n",
       "      <th>girl</th>\n",
       "      <th>...</th>\n",
       "      <th>logic</th>\n",
       "      <th>thorberg</th>\n",
       "      <th>longwood</th>\n",
       "      <th>tho</th>\n",
       "      <th>loneliest</th>\n",
       "      <th>lonesome</th>\n",
       "      <th>thirty</th>\n",
       "      <th>longhorns</th>\n",
       "      <th>longwave</th>\n",
       "      <th>zulu</th>\n",
       "    </tr>\n",
       "  </thead>\n",
       "  <tbody>\n",
       "    <tr>\n",
       "      <th>6003</th>\n",
       "      <td>0</td>\n",
       "      <td>0</td>\n",
       "      <td>0</td>\n",
       "      <td>0</td>\n",
       "      <td>0</td>\n",
       "      <td>0</td>\n",
       "      <td>0</td>\n",
       "      <td>0</td>\n",
       "      <td>0</td>\n",
       "      <td>0</td>\n",
       "      <td>...</td>\n",
       "      <td>0</td>\n",
       "      <td>0</td>\n",
       "      <td>0</td>\n",
       "      <td>0</td>\n",
       "      <td>0</td>\n",
       "      <td>0</td>\n",
       "      <td>0</td>\n",
       "      <td>0</td>\n",
       "      <td>0</td>\n",
       "      <td>0</td>\n",
       "    </tr>\n",
       "    <tr>\n",
       "      <th>6004</th>\n",
       "      <td>0</td>\n",
       "      <td>0</td>\n",
       "      <td>0</td>\n",
       "      <td>0</td>\n",
       "      <td>0</td>\n",
       "      <td>0</td>\n",
       "      <td>0</td>\n",
       "      <td>0</td>\n",
       "      <td>0</td>\n",
       "      <td>0</td>\n",
       "      <td>...</td>\n",
       "      <td>0</td>\n",
       "      <td>0</td>\n",
       "      <td>0</td>\n",
       "      <td>0</td>\n",
       "      <td>0</td>\n",
       "      <td>0</td>\n",
       "      <td>0</td>\n",
       "      <td>0</td>\n",
       "      <td>0</td>\n",
       "      <td>0</td>\n",
       "    </tr>\n",
       "    <tr>\n",
       "      <th>6005</th>\n",
       "      <td>0</td>\n",
       "      <td>0</td>\n",
       "      <td>0</td>\n",
       "      <td>0</td>\n",
       "      <td>0</td>\n",
       "      <td>0</td>\n",
       "      <td>0</td>\n",
       "      <td>0</td>\n",
       "      <td>0</td>\n",
       "      <td>0</td>\n",
       "      <td>...</td>\n",
       "      <td>0</td>\n",
       "      <td>0</td>\n",
       "      <td>0</td>\n",
       "      <td>0</td>\n",
       "      <td>0</td>\n",
       "      <td>0</td>\n",
       "      <td>0</td>\n",
       "      <td>0</td>\n",
       "      <td>0</td>\n",
       "      <td>0</td>\n",
       "    </tr>\n",
       "    <tr>\n",
       "      <th>6006</th>\n",
       "      <td>0</td>\n",
       "      <td>0</td>\n",
       "      <td>0</td>\n",
       "      <td>0</td>\n",
       "      <td>0</td>\n",
       "      <td>0</td>\n",
       "      <td>0</td>\n",
       "      <td>0</td>\n",
       "      <td>0</td>\n",
       "      <td>0</td>\n",
       "      <td>...</td>\n",
       "      <td>0</td>\n",
       "      <td>0</td>\n",
       "      <td>0</td>\n",
       "      <td>0</td>\n",
       "      <td>0</td>\n",
       "      <td>0</td>\n",
       "      <td>0</td>\n",
       "      <td>0</td>\n",
       "      <td>0</td>\n",
       "      <td>0</td>\n",
       "    </tr>\n",
       "    <tr>\n",
       "      <th>sum</th>\n",
       "      <td>120</td>\n",
       "      <td>93</td>\n",
       "      <td>71</td>\n",
       "      <td>65</td>\n",
       "      <td>63</td>\n",
       "      <td>55</td>\n",
       "      <td>54</td>\n",
       "      <td>47</td>\n",
       "      <td>47</td>\n",
       "      <td>41</td>\n",
       "      <td>...</td>\n",
       "      <td>1</td>\n",
       "      <td>1</td>\n",
       "      <td>1</td>\n",
       "      <td>1</td>\n",
       "      <td>1</td>\n",
       "      <td>1</td>\n",
       "      <td>1</td>\n",
       "      <td>1</td>\n",
       "      <td>1</td>\n",
       "      <td>1</td>\n",
       "    </tr>\n",
       "  </tbody>\n",
       "</table>\n",
       "<p>5 rows × 6204 columns</p>\n",
       "</div>"
      ],
      "text/plain": [
       "      christmas  love  live  story  movie  man  life  dead  night  girl  ...   \\\n",
       "6003          0     0     0      0      0    0     0     0      0     0  ...    \n",
       "6004          0     0     0      0      0    0     0     0      0     0  ...    \n",
       "6005          0     0     0      0      0    0     0     0      0     0  ...    \n",
       "6006          0     0     0      0      0    0     0     0      0     0  ...    \n",
       "sum         120    93    71     65     63   55    54    47     47    41  ...    \n",
       "\n",
       "      logic  thorberg  longwood  tho  loneliest  lonesome  thirty  longhorns  \\\n",
       "6003      0         0         0    0          0         0       0          0   \n",
       "6004      0         0         0    0          0         0       0          0   \n",
       "6005      0         0         0    0          0         0       0          0   \n",
       "6006      0         0         0    0          0         0       0          0   \n",
       "sum       1         1         1    1          1         1       1          1   \n",
       "\n",
       "      longwave  zulu  \n",
       "6003         0     0  \n",
       "6004         0     0  \n",
       "6005         0     0  \n",
       "6006         0     0  \n",
       "sum          1     1  \n",
       "\n",
       "[5 rows x 6204 columns]"
      ]
     },
     "execution_count": 22,
     "metadata": {},
     "output_type": "execute_result"
    }
   ],
   "source": [
    "title_counts_df.tail()"
   ]
  },
  {
   "cell_type": "code",
   "execution_count": 25,
   "metadata": {
    "collapsed": false
   },
   "outputs": [],
   "source": [
    "#clean the overview data 10 times\n",
    "for j in range(10):\n",
    "    bad_ov_unfixed_index =[]\n",
    "    for i in range(len(corpus_overview)):\n",
    "        try:\n",
    "            corpus_overview[i].encode('utf-8')\n",
    "        except:\n",
    "            bad_ov_unfixed_index.append(i)\n",
    "\n",
    "    for k in bad_ov_unfixed_index:\n",
    "        bad_overview = corpus_overview[k].split()\n",
    "        for s in bad_overview:\n",
    "            try:\n",
    "                m = s.encode('utf-8')\n",
    "            except:\n",
    "                bad_overview.remove(s)\n",
    "        #re-join the words with the problematic words being removed\n",
    "        corpus_overview[k] = \" \".join(bad_overview)            "
   ]
  },
  {
   "cell_type": "code",
   "execution_count": 26,
   "metadata": {
    "collapsed": false
   },
   "outputs": [
    {
     "data": {
      "text/plain": [
       "array([ 'When industrious high school gamer Zach Taylor lands a prized scholarship to the prestigious Digital Institute of Game Design (DIGD), his future breaks wide open. The opportunity to study under gaming legend Marcus Bentton and alongside the most creative minds will certainly propel him into a successful career as a video game designer. That is, if he can pass the infamous freshman project that eliminates more than half of the class within the first three months.',\n",
       "       'En ung vacker kvinna hittas i och fingret hon en vigselring som annan. Irene Huss och hennes kollegor fallet och direkt problem. Obduktionen visar att inte drunkning utan en skallskada. Vem hon? Hon inte saknad, ingen kan identifiera henne, ingen vet Samtidigt i ett sitter en misshandlad man och ruvar en hemlighet... Angela i rollen som Irene Huss. Vi Lasse Brandeby, Reuben Sallmander, Eric Ericson, Dag Malmberg och Anki Dessutom kommer en ny kriminaltekniker in i teamet i form av Moa Gammel bl a Sommaren med om Irene Huss tillbaka, denna baserad Helene Turstens deckarserie, och med mer',\n",
       "       'The Upsetter tells the fascinating story of Lee Scratch Perry a visionary musician and artist from poor rural Jamaica who journeyed to the big city of Kingston in the late with dreams of making it in the burgeoning record industry. He burst upon the scene with a brand new sound, inventing a genre of music that would come to be called Reggae, discovering a young Bob Marley and gaining international recognition as a record producer and solo artist. Soon he was being called upon by artists as diverse as The Clash and Paul McCartney to provide his unique sound.',\n",
       "       'Mayu the teen girl opened her heart to anyone since ten years ago when some terrible case happened. Instead of going to high school, she goes to the church every day and looks for redemption. One day, she disappears in the woods, silently and suddenly. On the other side, Mana lives with her husband and her seven-year-old daughter in happiness. However, an unexpected occurrence happens and tears their happiness apart. Her little girl Sakura plays in the woods and goes missing. Mana loses her mind because of sadness. What is there inside the woods?',\n",
       "       'Angelo dreams of creating a medicine that could cure his illness. With some knowledge about medicinal herbs, he makes a living as a faith healer. Everyone believes him, except Cielo Delos Santos, a doctor who swears to do everything to uncover secret. Things get a little complicated when Angelito, an exiled angel comes down to earth to help Angelo become a better man. As the three of them try to achieve their own goals, they realize that they need each other more than they are willing to admit.'], dtype=object)"
      ]
     },
     "execution_count": 26,
     "metadata": {},
     "output_type": "execute_result"
    }
   ],
   "source": [
    "#check the fixed bad overview\n",
    "corpus_overview[bad_ov_index][:5]"
   ]
  },
  {
   "cell_type": "code",
   "execution_count": 27,
   "metadata": {
    "collapsed": false
   },
   "outputs": [
    {
     "data": {
      "text/html": [
       "<div>\n",
       "<table border=\"1\" class=\"dataframe\">\n",
       "  <thead>\n",
       "    <tr style=\"text-align: right;\">\n",
       "      <th></th>\n",
       "      <th>00</th>\n",
       "      <th>000</th>\n",
       "      <th>000km</th>\n",
       "      <th>007</th>\n",
       "      <th>00pm</th>\n",
       "      <th>01</th>\n",
       "      <th>02</th>\n",
       "      <th>03</th>\n",
       "      <th>04</th>\n",
       "      <th>05</th>\n",
       "      <th>...</th>\n",
       "      <th>zoozie</th>\n",
       "      <th>zorica</th>\n",
       "      <th>zoritsa</th>\n",
       "      <th>zou</th>\n",
       "      <th>zsalyne</th>\n",
       "      <th>zugormin</th>\n",
       "      <th>zugozorg</th>\n",
       "      <th>zul</th>\n",
       "      <th>zulkifli</th>\n",
       "      <th>zvrtne</th>\n",
       "    </tr>\n",
       "  </thead>\n",
       "  <tbody>\n",
       "    <tr>\n",
       "      <th>0</th>\n",
       "      <td>0</td>\n",
       "      <td>0</td>\n",
       "      <td>0</td>\n",
       "      <td>0</td>\n",
       "      <td>0</td>\n",
       "      <td>0</td>\n",
       "      <td>0</td>\n",
       "      <td>0</td>\n",
       "      <td>0</td>\n",
       "      <td>0</td>\n",
       "      <td>...</td>\n",
       "      <td>0</td>\n",
       "      <td>0</td>\n",
       "      <td>0</td>\n",
       "      <td>0</td>\n",
       "      <td>0</td>\n",
       "      <td>0</td>\n",
       "      <td>0</td>\n",
       "      <td>0</td>\n",
       "      <td>0</td>\n",
       "      <td>0</td>\n",
       "    </tr>\n",
       "    <tr>\n",
       "      <th>1</th>\n",
       "      <td>0</td>\n",
       "      <td>0</td>\n",
       "      <td>0</td>\n",
       "      <td>0</td>\n",
       "      <td>0</td>\n",
       "      <td>0</td>\n",
       "      <td>0</td>\n",
       "      <td>0</td>\n",
       "      <td>0</td>\n",
       "      <td>0</td>\n",
       "      <td>...</td>\n",
       "      <td>0</td>\n",
       "      <td>0</td>\n",
       "      <td>0</td>\n",
       "      <td>0</td>\n",
       "      <td>0</td>\n",
       "      <td>0</td>\n",
       "      <td>0</td>\n",
       "      <td>0</td>\n",
       "      <td>0</td>\n",
       "      <td>0</td>\n",
       "    </tr>\n",
       "    <tr>\n",
       "      <th>2</th>\n",
       "      <td>0</td>\n",
       "      <td>0</td>\n",
       "      <td>0</td>\n",
       "      <td>0</td>\n",
       "      <td>0</td>\n",
       "      <td>0</td>\n",
       "      <td>0</td>\n",
       "      <td>0</td>\n",
       "      <td>0</td>\n",
       "      <td>0</td>\n",
       "      <td>...</td>\n",
       "      <td>0</td>\n",
       "      <td>0</td>\n",
       "      <td>0</td>\n",
       "      <td>0</td>\n",
       "      <td>0</td>\n",
       "      <td>0</td>\n",
       "      <td>0</td>\n",
       "      <td>0</td>\n",
       "      <td>0</td>\n",
       "      <td>0</td>\n",
       "    </tr>\n",
       "    <tr>\n",
       "      <th>3</th>\n",
       "      <td>0</td>\n",
       "      <td>0</td>\n",
       "      <td>0</td>\n",
       "      <td>0</td>\n",
       "      <td>0</td>\n",
       "      <td>0</td>\n",
       "      <td>0</td>\n",
       "      <td>0</td>\n",
       "      <td>0</td>\n",
       "      <td>0</td>\n",
       "      <td>...</td>\n",
       "      <td>0</td>\n",
       "      <td>0</td>\n",
       "      <td>0</td>\n",
       "      <td>0</td>\n",
       "      <td>0</td>\n",
       "      <td>0</td>\n",
       "      <td>0</td>\n",
       "      <td>0</td>\n",
       "      <td>0</td>\n",
       "      <td>0</td>\n",
       "    </tr>\n",
       "    <tr>\n",
       "      <th>4</th>\n",
       "      <td>0</td>\n",
       "      <td>0</td>\n",
       "      <td>0</td>\n",
       "      <td>0</td>\n",
       "      <td>0</td>\n",
       "      <td>0</td>\n",
       "      <td>0</td>\n",
       "      <td>0</td>\n",
       "      <td>0</td>\n",
       "      <td>0</td>\n",
       "      <td>...</td>\n",
       "      <td>0</td>\n",
       "      <td>0</td>\n",
       "      <td>0</td>\n",
       "      <td>0</td>\n",
       "      <td>0</td>\n",
       "      <td>0</td>\n",
       "      <td>0</td>\n",
       "      <td>0</td>\n",
       "      <td>0</td>\n",
       "      <td>0</td>\n",
       "    </tr>\n",
       "  </tbody>\n",
       "</table>\n",
       "<p>5 rows × 25531 columns</p>\n",
       "</div>"
      ],
      "text/plain": [
       "   00  000  000km  007  00pm  01  02  03  04  05   ...    zoozie  zorica  \\\n",
       "0   0    0      0    0     0   0   0   0   0   0   ...         0       0   \n",
       "1   0    0      0    0     0   0   0   0   0   0   ...         0       0   \n",
       "2   0    0      0    0     0   0   0   0   0   0   ...         0       0   \n",
       "3   0    0      0    0     0   0   0   0   0   0   ...         0       0   \n",
       "4   0    0      0    0     0   0   0   0   0   0   ...         0       0   \n",
       "\n",
       "   zoritsa  zou  zsalyne  zugormin  zugozorg  zul  zulkifli  zvrtne  \n",
       "0        0    0        0         0         0    0         0       0  \n",
       "1        0    0        0         0         0    0         0       0  \n",
       "2        0    0        0         0         0    0         0       0  \n",
       "3        0    0        0         0         0    0         0       0  \n",
       "4        0    0        0         0         0    0         0       0  \n",
       "\n",
       "[5 rows x 25531 columns]"
      ]
     },
     "execution_count": 27,
     "metadata": {},
     "output_type": "execute_result"
    }
   ],
   "source": [
    "overview_counts = vectorizer.fit_transform(corpus_overview)\n",
    "# convert to array\n",
    "overview_counts = overview_counts.toarray()\n",
    "\n",
    "# word list for title\n",
    "overview_words = vectorizer.get_feature_names()\n",
    "overview_words = np.asarray(overview_words)\n",
    "\n",
    "overview_counts_df = pd.DataFrame(overview_counts)\n",
    "overview_counts_df.columns = overview_words\n",
    "overview_counts_df.head()"
   ]
  },
  {
   "cell_type": "code",
   "execution_count": 28,
   "metadata": {
    "collapsed": false
   },
   "outputs": [
    {
     "data": {
      "text/plain": [
       "(6008, 25531)"
      ]
     },
     "execution_count": 28,
     "metadata": {},
     "output_type": "execute_result"
    }
   ],
   "source": [
    "overview_word_count = overview_counts_df.sum(axis=0)\n",
    "#append the count for each word at the end\n",
    "overview_counts_df = overview_counts_df.append(overview_word_count, ignore_index=True)\n",
    "overview_counts_df.shape"
   ]
  },
  {
   "cell_type": "code",
   "execution_count": 29,
   "metadata": {
    "collapsed": true
   },
   "outputs": [],
   "source": [
    "#change the index name to be more informative\n",
    "overview_counts_df=overview_counts_df.rename(index = {6007:'sum'})"
   ]
  },
  {
   "cell_type": "code",
   "execution_count": 30,
   "metadata": {
    "collapsed": false
   },
   "outputs": [
    {
     "data": {
      "text/html": [
       "<div>\n",
       "<table border=\"1\" class=\"dataframe\">\n",
       "  <thead>\n",
       "    <tr style=\"text-align: right;\">\n",
       "      <th></th>\n",
       "      <th>life</th>\n",
       "      <th>new</th>\n",
       "      <th>world</th>\n",
       "      <th>film</th>\n",
       "      <th>story</th>\n",
       "      <th>young</th>\n",
       "      <th>family</th>\n",
       "      <th>man</th>\n",
       "      <th>love</th>\n",
       "      <th>time</th>\n",
       "      <th>...</th>\n",
       "      <th>ravishing</th>\n",
       "      <th>ravaging</th>\n",
       "      <th>esp</th>\n",
       "      <th>eskimo</th>\n",
       "      <th>raven</th>\n",
       "      <th>ravenna</th>\n",
       "      <th>ravings</th>\n",
       "      <th>escobar</th>\n",
       "      <th>eschews</th>\n",
       "      <th>zvrtne</th>\n",
       "    </tr>\n",
       "  </thead>\n",
       "  <tbody>\n",
       "    <tr>\n",
       "      <th>6003</th>\n",
       "      <td>1</td>\n",
       "      <td>0</td>\n",
       "      <td>0</td>\n",
       "      <td>1</td>\n",
       "      <td>0</td>\n",
       "      <td>0</td>\n",
       "      <td>0</td>\n",
       "      <td>0</td>\n",
       "      <td>0</td>\n",
       "      <td>0</td>\n",
       "      <td>...</td>\n",
       "      <td>0</td>\n",
       "      <td>0</td>\n",
       "      <td>0</td>\n",
       "      <td>0</td>\n",
       "      <td>0</td>\n",
       "      <td>0</td>\n",
       "      <td>0</td>\n",
       "      <td>0</td>\n",
       "      <td>0</td>\n",
       "      <td>0</td>\n",
       "    </tr>\n",
       "    <tr>\n",
       "      <th>6004</th>\n",
       "      <td>0</td>\n",
       "      <td>0</td>\n",
       "      <td>0</td>\n",
       "      <td>0</td>\n",
       "      <td>0</td>\n",
       "      <td>0</td>\n",
       "      <td>0</td>\n",
       "      <td>0</td>\n",
       "      <td>0</td>\n",
       "      <td>0</td>\n",
       "      <td>...</td>\n",
       "      <td>0</td>\n",
       "      <td>0</td>\n",
       "      <td>0</td>\n",
       "      <td>0</td>\n",
       "      <td>0</td>\n",
       "      <td>0</td>\n",
       "      <td>0</td>\n",
       "      <td>0</td>\n",
       "      <td>0</td>\n",
       "      <td>0</td>\n",
       "    </tr>\n",
       "    <tr>\n",
       "      <th>6005</th>\n",
       "      <td>0</td>\n",
       "      <td>0</td>\n",
       "      <td>0</td>\n",
       "      <td>0</td>\n",
       "      <td>0</td>\n",
       "      <td>0</td>\n",
       "      <td>0</td>\n",
       "      <td>0</td>\n",
       "      <td>0</td>\n",
       "      <td>0</td>\n",
       "      <td>...</td>\n",
       "      <td>0</td>\n",
       "      <td>0</td>\n",
       "      <td>0</td>\n",
       "      <td>0</td>\n",
       "      <td>0</td>\n",
       "      <td>0</td>\n",
       "      <td>0</td>\n",
       "      <td>0</td>\n",
       "      <td>0</td>\n",
       "      <td>0</td>\n",
       "    </tr>\n",
       "    <tr>\n",
       "      <th>6006</th>\n",
       "      <td>0</td>\n",
       "      <td>0</td>\n",
       "      <td>0</td>\n",
       "      <td>0</td>\n",
       "      <td>0</td>\n",
       "      <td>0</td>\n",
       "      <td>0</td>\n",
       "      <td>0</td>\n",
       "      <td>0</td>\n",
       "      <td>0</td>\n",
       "      <td>...</td>\n",
       "      <td>0</td>\n",
       "      <td>0</td>\n",
       "      <td>0</td>\n",
       "      <td>0</td>\n",
       "      <td>0</td>\n",
       "      <td>0</td>\n",
       "      <td>0</td>\n",
       "      <td>0</td>\n",
       "      <td>0</td>\n",
       "      <td>0</td>\n",
       "    </tr>\n",
       "    <tr>\n",
       "      <th>sum</th>\n",
       "      <td>1173</td>\n",
       "      <td>999</td>\n",
       "      <td>883</td>\n",
       "      <td>785</td>\n",
       "      <td>781</td>\n",
       "      <td>750</td>\n",
       "      <td>705</td>\n",
       "      <td>600</td>\n",
       "      <td>586</td>\n",
       "      <td>538</td>\n",
       "      <td>...</td>\n",
       "      <td>1</td>\n",
       "      <td>1</td>\n",
       "      <td>1</td>\n",
       "      <td>1</td>\n",
       "      <td>1</td>\n",
       "      <td>1</td>\n",
       "      <td>1</td>\n",
       "      <td>1</td>\n",
       "      <td>1</td>\n",
       "      <td>1</td>\n",
       "    </tr>\n",
       "  </tbody>\n",
       "</table>\n",
       "<p>5 rows × 25531 columns</p>\n",
       "</div>"
      ],
      "text/plain": [
       "      life  new  world  film  story  young  family  man  love  time   ...    \\\n",
       "6003     1    0      0     1      0      0       0    0     0     0   ...     \n",
       "6004     0    0      0     0      0      0       0    0     0     0   ...     \n",
       "6005     0    0      0     0      0      0       0    0     0     0   ...     \n",
       "6006     0    0      0     0      0      0       0    0     0     0   ...     \n",
       "sum   1173  999    883   785    781    750     705  600   586   538   ...     \n",
       "\n",
       "      ravishing  ravaging  esp  eskimo  raven  ravenna  ravings  escobar  \\\n",
       "6003          0         0    0       0      0        0        0        0   \n",
       "6004          0         0    0       0      0        0        0        0   \n",
       "6005          0         0    0       0      0        0        0        0   \n",
       "6006          0         0    0       0      0        0        0        0   \n",
       "sum           1         1    1       1      1        1        1        1   \n",
       "\n",
       "      eschews  zvrtne  \n",
       "6003        0       0  \n",
       "6004        0       0  \n",
       "6005        0       0  \n",
       "6006        0       0  \n",
       "sum         1       1  \n",
       "\n",
       "[5 rows x 25531 columns]"
      ]
     },
     "execution_count": 30,
     "metadata": {},
     "output_type": "execute_result"
    }
   ],
   "source": [
    "#sort dataframe by the value of the last row\n",
    "ov_new_columns = overview_counts_df.columns[overview_counts_df.ix[overview_counts_df.last_valid_index()].argsort()]\n",
    "overview_counts_df = overview_counts_df[ov_new_columns]\n",
    "#reverse the columns order\n",
    "overview_counts_df = overview_counts_df[overview_counts_df.columns[::-1]]\n",
    "overview_counts_df.tail()"
   ]
  },
  {
   "cell_type": "code",
   "execution_count": 35,
   "metadata": {
    "collapsed": true
   },
   "outputs": [],
   "source": [
    "import seaborn as sns"
   ]
  },
  {
   "cell_type": "code",
   "execution_count": 37,
   "metadata": {
    "collapsed": false
   },
   "outputs": [
    {
     "data": {
      "text/plain": [
       "<matplotlib.axes._subplots.AxesSubplot at 0x12b830dd0>"
      ]
     },
     "execution_count": 37,
     "metadata": {},
     "output_type": "execute_result"
    },
    {
     "data": {
      "image/png": "[encoded data removed]",
      "text/plain": [
       "<matplotlib.figure.Figure at 0x12b7b8610>"
      ]
     },
     "metadata": {},
     "output_type": "display_data"
    }
   ],
   "source": [
    "sns.distplot(word_count, kde=False, rug=False)"
   ]
  },
  {
   "cell_type": "code",
   "execution_count": 40,
   "metadata": {
    "collapsed": false
   },
   "outputs": [
    {
     "data": {
      "text/plain": [
       "<matplotlib.axes._subplots.AxesSubplot at 0x12c2cc2d0>"
      ]
     },
     "execution_count": 40,
     "metadata": {},
     "output_type": "execute_result"
    },
    {
     "data": {
      "image/png": "[encoded data removed]",
      "text/plain": [
       "<matplotlib.figure.Figure at 0x12abaa950>"
      ]
     },
     "metadata": {},
     "output_type": "display_data"
    }
   ],
   "source": [
    "sns.distplot(overview_word_count, kde=False, rug=False)"
   ]
  },
  {
   "cell_type": "code",
   "execution_count": 45,
   "metadata": {
    "collapsed": false
   },
   "outputs": [
    {
     "data": {
      "text/plain": [
       "<matplotlib.axes._subplots.AxesSubplot at 0x13059e850>"
      ]
     },
     "execution_count": 45,
     "metadata": {},
     "output_type": "execute_result"
    },
    {
     "data": {
      "image/png": "[encoded data removed]",
      "text/plain": [
       "<matplotlib.figure.Figure at 0x1305a6ed0>"
      ]
     },
     "metadata": {},
     "output_type": "display_data"
    }
   ],
   "source": [
    "sns.distplot(overview_word_count, kde=False, rug=False, hist_kws={\"range\": [1,50]})"
   ]
  },
  {
   "cell_type": "code",
   "execution_count": 79,
   "metadata": {
    "collapsed": true
   },
   "outputs": [],
   "source": [
    "overview_word_count_truncated = []\n",
    "\n",
    "for i in overview_word_count:\n",
    "    if i > 200:\n",
    "        overview_word_count_truncated.append(i)"
   ]
  },
  {
   "cell_type": "code",
   "execution_count": 80,
   "metadata": {
    "collapsed": false
   },
   "outputs": [
    {
     "data": {
      "text/plain": [
       "66"
      ]
     },
     "execution_count": 80,
     "metadata": {},
     "output_type": "execute_result"
    }
   ],
   "source": [
    "len(overview_word_count_truncated)"
   ]
  },
  {
   "cell_type": "code",
   "execution_count": 83,
   "metadata": {
    "collapsed": false
   },
   "outputs": [
    {
     "ename": "SyntaxError",
     "evalue": "invalid syntax (<ipython-input-83-ecd29d3b8052>, line 1)",
     "output_type": "error",
     "traceback": [
      "\u001b[0;36m  File \u001b[0;32m\"<ipython-input-83-ecd29d3b8052>\"\u001b[0;36m, line \u001b[0;32m1\u001b[0m\n\u001b[0;31m    if\u001b[0m\n\u001b[0m       ^\u001b[0m\n\u001b[0;31mSyntaxError\u001b[0m\u001b[0;31m:\u001b[0m invalid syntax\n"
     ]
    }
   ],
   "source": [
    "if "
   ]
  },
  {
   "cell_type": "code",
   "execution_count": 61,
   "metadata": {
    "collapsed": false
   },
   "outputs": [
    {
     "data": {
      "text/plain": [
       "0.06721240844463593"
      ]
     },
     "execution_count": 61,
     "metadata": {},
     "output_type": "execute_result"
    }
   ],
   "source": [
    "float(len(overview_word_count_truncated))/float(len(overview_word_count))"
   ]
  },
  {
   "cell_type": "code",
   "execution_count": 88,
   "metadata": {
    "collapsed": false
   },
   "outputs": [
    {
     "name": "stdout",
     "output_type": "stream",
     "text": [
      "17\n"
     ]
    }
   ],
   "source": [
    "word_count_truncated = []\n",
    "\n",
    "for i in word_count:\n",
    "    if i > 30:\n",
    "        word_count_truncated.append(i)\n",
    "        \n",
    "print len(word_count_truncated)"
   ]
  },
  {
   "cell_type": "code",
   "execution_count": 68,
   "metadata": {
    "collapsed": true
   },
   "outputs": [],
   "source": [
    "from sklearn.decomposition import PCA"
   ]
  },
  {
   "cell_type": "code",
   "execution_count": 69,
   "metadata": {
    "collapsed": false
   },
   "outputs": [
    {
     "data": {
      "text/plain": [
       "PCA(copy=True,\n",
       "  n_components=00            6\n",
       "000          47\n",
       "000km         1\n",
       "007           1\n",
       "00pm          1\n",
       "01            5\n",
       "02            4\n",
       "03            4\n",
       "04            2\n",
       "05            5\n",
       "06            5\n",
       "07            2\n",
       "08            1\n",
       "09            4\n",
       "0s            1\n",
       "10           68\n",
       "100          19\n",
       "1000          3...      1\n",
       "zugormin      1\n",
       "zugozorg      2\n",
       "zul           2\n",
       "zulkifli      1\n",
       "zvrtne        1\n",
       "dtype: int64,\n",
       "  whiten=False)"
      ]
     },
     "execution_count": 69,
     "metadata": {},
     "output_type": "execute_result"
    }
   ],
   "source": [
    "PCA(overview_word_count)"
   ]
  },
  {
   "cell_type": "code",
   "execution_count": 107,
   "metadata": {
    "collapsed": false
   },
   "outputs": [],
   "source": [
    "selected_title_counts_df = title_counts_df.iloc[:-1,:17]\n",
    "selected_overview_counts_df = overview_counts_df.iloc[:-1,:66]"
   ]
  },
  {
   "cell_type": "code",
   "execution_count": 108,
   "metadata": {
    "collapsed": false
   },
   "outputs": [
    {
     "data": {
      "text/html": [
       "<div>\n",
       "<table border=\"1\" class=\"dataframe\">\n",
       "  <thead>\n",
       "    <tr style=\"text-align: right;\">\n",
       "      <th></th>\n",
       "      <th>christmas</th>\n",
       "      <th>love</th>\n",
       "      <th>live</th>\n",
       "      <th>story</th>\n",
       "      <th>movie</th>\n",
       "      <th>man</th>\n",
       "      <th>life</th>\n",
       "      <th>dead</th>\n",
       "      <th>night</th>\n",
       "      <th>girl</th>\n",
       "      <th>dark</th>\n",
       "      <th>vs</th>\n",
       "      <th>day</th>\n",
       "      <th>big</th>\n",
       "      <th>time</th>\n",
       "      <th>house</th>\n",
       "      <th>road</th>\n",
       "    </tr>\n",
       "  </thead>\n",
       "  <tbody>\n",
       "    <tr>\n",
       "      <th>6002</th>\n",
       "      <td>0</td>\n",
       "      <td>0</td>\n",
       "      <td>0</td>\n",
       "      <td>0</td>\n",
       "      <td>0</td>\n",
       "      <td>0</td>\n",
       "      <td>0</td>\n",
       "      <td>0</td>\n",
       "      <td>0</td>\n",
       "      <td>0</td>\n",
       "      <td>0</td>\n",
       "      <td>0</td>\n",
       "      <td>0</td>\n",
       "      <td>0</td>\n",
       "      <td>0</td>\n",
       "      <td>0</td>\n",
       "      <td>0</td>\n",
       "    </tr>\n",
       "    <tr>\n",
       "      <th>6003</th>\n",
       "      <td>0</td>\n",
       "      <td>0</td>\n",
       "      <td>0</td>\n",
       "      <td>0</td>\n",
       "      <td>0</td>\n",
       "      <td>0</td>\n",
       "      <td>0</td>\n",
       "      <td>0</td>\n",
       "      <td>0</td>\n",
       "      <td>0</td>\n",
       "      <td>0</td>\n",
       "      <td>0</td>\n",
       "      <td>0</td>\n",
       "      <td>0</td>\n",
       "      <td>0</td>\n",
       "      <td>0</td>\n",
       "      <td>0</td>\n",
       "    </tr>\n",
       "    <tr>\n",
       "      <th>6004</th>\n",
       "      <td>0</td>\n",
       "      <td>0</td>\n",
       "      <td>0</td>\n",
       "      <td>0</td>\n",
       "      <td>0</td>\n",
       "      <td>0</td>\n",
       "      <td>0</td>\n",
       "      <td>0</td>\n",
       "      <td>0</td>\n",
       "      <td>0</td>\n",
       "      <td>0</td>\n",
       "      <td>0</td>\n",
       "      <td>0</td>\n",
       "      <td>0</td>\n",
       "      <td>0</td>\n",
       "      <td>1</td>\n",
       "      <td>0</td>\n",
       "    </tr>\n",
       "    <tr>\n",
       "      <th>6005</th>\n",
       "      <td>0</td>\n",
       "      <td>0</td>\n",
       "      <td>0</td>\n",
       "      <td>0</td>\n",
       "      <td>0</td>\n",
       "      <td>0</td>\n",
       "      <td>0</td>\n",
       "      <td>0</td>\n",
       "      <td>0</td>\n",
       "      <td>0</td>\n",
       "      <td>0</td>\n",
       "      <td>0</td>\n",
       "      <td>0</td>\n",
       "      <td>0</td>\n",
       "      <td>0</td>\n",
       "      <td>0</td>\n",
       "      <td>0</td>\n",
       "    </tr>\n",
       "    <tr>\n",
       "      <th>6006</th>\n",
       "      <td>0</td>\n",
       "      <td>0</td>\n",
       "      <td>0</td>\n",
       "      <td>0</td>\n",
       "      <td>0</td>\n",
       "      <td>0</td>\n",
       "      <td>0</td>\n",
       "      <td>0</td>\n",
       "      <td>0</td>\n",
       "      <td>0</td>\n",
       "      <td>0</td>\n",
       "      <td>0</td>\n",
       "      <td>0</td>\n",
       "      <td>0</td>\n",
       "      <td>0</td>\n",
       "      <td>0</td>\n",
       "      <td>0</td>\n",
       "    </tr>\n",
       "  </tbody>\n",
       "</table>\n",
       "</div>"
      ],
      "text/plain": [
       "      christmas  love  live  story  movie  man  life  dead  night  girl  dark  \\\n",
       "6002          0     0     0      0      0    0     0     0      0     0     0   \n",
       "6003          0     0     0      0      0    0     0     0      0     0     0   \n",
       "6004          0     0     0      0      0    0     0     0      0     0     0   \n",
       "6005          0     0     0      0      0    0     0     0      0     0     0   \n",
       "6006          0     0     0      0      0    0     0     0      0     0     0   \n",
       "\n",
       "      vs  day  big  time  house  road  \n",
       "6002   0    0    0     0      0     0  \n",
       "6003   0    0    0     0      0     0  \n",
       "6004   0    0    0     0      1     0  \n",
       "6005   0    0    0     0      0     0  \n",
       "6006   0    0    0     0      0     0  "
      ]
     },
     "execution_count": 108,
     "metadata": {},
     "output_type": "execute_result"
    }
   ],
   "source": [
    "selected_title_counts_df.tail()"
   ]
  },
  {
   "cell_type": "code",
   "execution_count": 109,
   "metadata": {
    "collapsed": false
   },
   "outputs": [
    {
     "data": {
      "text/plain": [
       "(6007, 17)"
      ]
     },
     "execution_count": 109,
     "metadata": {},
     "output_type": "execute_result"
    }
   ],
   "source": [
    "selected_title_counts_df.shape"
   ]
  },
  {
   "cell_type": "code",
   "execution_count": 110,
   "metadata": {
    "collapsed": false
   },
   "outputs": [
    {
     "data": {
      "text/html": [
       "<div>\n",
       "<table border=\"1\" class=\"dataframe\">\n",
       "  <thead>\n",
       "    <tr style=\"text-align: right;\">\n",
       "      <th></th>\n",
       "      <th>life</th>\n",
       "      <th>new</th>\n",
       "      <th>world</th>\n",
       "      <th>film</th>\n",
       "      <th>story</th>\n",
       "      <th>young</th>\n",
       "      <th>family</th>\n",
       "      <th>man</th>\n",
       "      <th>love</th>\n",
       "      <th>time</th>\n",
       "      <th>...</th>\n",
       "      <th>small</th>\n",
       "      <th>movie</th>\n",
       "      <th>wife</th>\n",
       "      <th>long</th>\n",
       "      <th>discovers</th>\n",
       "      <th>relationship</th>\n",
       "      <th>follows</th>\n",
       "      <th>discover</th>\n",
       "      <th>come</th>\n",
       "      <th>goes</th>\n",
       "    </tr>\n",
       "  </thead>\n",
       "  <tbody>\n",
       "    <tr>\n",
       "      <th>6002</th>\n",
       "      <td>0</td>\n",
       "      <td>0</td>\n",
       "      <td>0</td>\n",
       "      <td>0</td>\n",
       "      <td>0</td>\n",
       "      <td>0</td>\n",
       "      <td>0</td>\n",
       "      <td>0</td>\n",
       "      <td>0</td>\n",
       "      <td>0</td>\n",
       "      <td>...</td>\n",
       "      <td>0</td>\n",
       "      <td>0</td>\n",
       "      <td>0</td>\n",
       "      <td>0</td>\n",
       "      <td>0</td>\n",
       "      <td>0</td>\n",
       "      <td>0</td>\n",
       "      <td>0</td>\n",
       "      <td>0</td>\n",
       "      <td>1</td>\n",
       "    </tr>\n",
       "    <tr>\n",
       "      <th>6003</th>\n",
       "      <td>1</td>\n",
       "      <td>0</td>\n",
       "      <td>0</td>\n",
       "      <td>1</td>\n",
       "      <td>0</td>\n",
       "      <td>0</td>\n",
       "      <td>0</td>\n",
       "      <td>0</td>\n",
       "      <td>0</td>\n",
       "      <td>0</td>\n",
       "      <td>...</td>\n",
       "      <td>0</td>\n",
       "      <td>0</td>\n",
       "      <td>1</td>\n",
       "      <td>0</td>\n",
       "      <td>0</td>\n",
       "      <td>0</td>\n",
       "      <td>0</td>\n",
       "      <td>0</td>\n",
       "      <td>0</td>\n",
       "      <td>0</td>\n",
       "    </tr>\n",
       "    <tr>\n",
       "      <th>6004</th>\n",
       "      <td>0</td>\n",
       "      <td>0</td>\n",
       "      <td>0</td>\n",
       "      <td>0</td>\n",
       "      <td>0</td>\n",
       "      <td>0</td>\n",
       "      <td>0</td>\n",
       "      <td>0</td>\n",
       "      <td>0</td>\n",
       "      <td>0</td>\n",
       "      <td>...</td>\n",
       "      <td>0</td>\n",
       "      <td>0</td>\n",
       "      <td>0</td>\n",
       "      <td>0</td>\n",
       "      <td>0</td>\n",
       "      <td>0</td>\n",
       "      <td>0</td>\n",
       "      <td>0</td>\n",
       "      <td>0</td>\n",
       "      <td>0</td>\n",
       "    </tr>\n",
       "    <tr>\n",
       "      <th>6005</th>\n",
       "      <td>0</td>\n",
       "      <td>0</td>\n",
       "      <td>0</td>\n",
       "      <td>0</td>\n",
       "      <td>0</td>\n",
       "      <td>0</td>\n",
       "      <td>0</td>\n",
       "      <td>0</td>\n",
       "      <td>0</td>\n",
       "      <td>0</td>\n",
       "      <td>...</td>\n",
       "      <td>0</td>\n",
       "      <td>0</td>\n",
       "      <td>0</td>\n",
       "      <td>0</td>\n",
       "      <td>1</td>\n",
       "      <td>0</td>\n",
       "      <td>0</td>\n",
       "      <td>0</td>\n",
       "      <td>0</td>\n",
       "      <td>0</td>\n",
       "    </tr>\n",
       "    <tr>\n",
       "      <th>6006</th>\n",
       "      <td>0</td>\n",
       "      <td>0</td>\n",
       "      <td>0</td>\n",
       "      <td>0</td>\n",
       "      <td>0</td>\n",
       "      <td>0</td>\n",
       "      <td>0</td>\n",
       "      <td>0</td>\n",
       "      <td>0</td>\n",
       "      <td>0</td>\n",
       "      <td>...</td>\n",
       "      <td>0</td>\n",
       "      <td>0</td>\n",
       "      <td>1</td>\n",
       "      <td>0</td>\n",
       "      <td>0</td>\n",
       "      <td>0</td>\n",
       "      <td>0</td>\n",
       "      <td>0</td>\n",
       "      <td>0</td>\n",
       "      <td>0</td>\n",
       "    </tr>\n",
       "  </tbody>\n",
       "</table>\n",
       "<p>5 rows × 66 columns</p>\n",
       "</div>"
      ],
      "text/plain": [
       "      life  new  world  film  story  young  family  man  love  time  ...   \\\n",
       "6002     0    0      0     0      0      0       0    0     0     0  ...    \n",
       "6003     1    0      0     1      0      0       0    0     0     0  ...    \n",
       "6004     0    0      0     0      0      0       0    0     0     0  ...    \n",
       "6005     0    0      0     0      0      0       0    0     0     0  ...    \n",
       "6006     0    0      0     0      0      0       0    0     0     0  ...    \n",
       "\n",
       "      small  movie  wife  long  discovers  relationship  follows  discover  \\\n",
       "6002      0      0     0     0          0             0        0         0   \n",
       "6003      0      0     1     0          0             0        0         0   \n",
       "6004      0      0     0     0          0             0        0         0   \n",
       "6005      0      0     0     0          1             0        0         0   \n",
       "6006      0      0     1     0          0             0        0         0   \n",
       "\n",
       "      come  goes  \n",
       "6002     0     1  \n",
       "6003     0     0  \n",
       "6004     0     0  \n",
       "6005     0     0  \n",
       "6006     0     0  \n",
       "\n",
       "[5 rows x 66 columns]"
      ]
     },
     "execution_count": 110,
     "metadata": {},
     "output_type": "execute_result"
    }
   ],
   "source": [
    "selected_overview_counts_df.tail()"
   ]
  },
  {
   "cell_type": "code",
   "execution_count": null,
   "metadata": {
    "collapsed": true
   },
   "outputs": [],
   "source": []
  }
 ],
 "metadata": {
  "anaconda-cloud": {},
  "kernelspec": {
   "display_name": "Python [conda root]",
   "language": "python",
   "name": "conda-root-py"
  },
  "language_info": {
   "codemirror_mode": {
    "name": "ipython",
    "version": 2
   },
   "file_extension": ".py",
   "mimetype": "text/x-python",
   "name": "python",
   "nbconvert_exporter": "python",
   "pygments_lexer": "ipython2",
   "version": "2.7.12"
  }
 },
 "nbformat": 4,
 "nbformat_minor": 0
}
